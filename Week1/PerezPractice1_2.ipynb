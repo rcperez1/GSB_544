{
 "cells": [
  {
   "cell_type": "raw",
   "metadata": {
    "id": "Wm7rfPnRrrqm"
   },
   "source": [
    "---\n",
    "title: 'Practice Activity: Basic Syntax'\n",
    "output: html\n",
    "---"
   ]
  },
  {
   "cell_type": "markdown",
   "metadata": {
    "id": "0mbR_4URrrqo"
   },
   "source": [
    "## Overview\n",
    "\n",
    "In this PA, you will will be creating and manipulating basic objects to uncover a top secret message.\n",
    "\n",
    "### Hint 1\n",
    "\n",
    "As you work through this PA, you will encounter some code that does not work as you want it to.  Don't despair!  Errors (when R is unable to run your code) and bugs (when the code doesn't do what you hoped) are a natural part of coding.  Even the best of the best deal with these problems regularly - learning to track down the issue is a skill that you can learn and practice.\n",
    "\n",
    "Google is your friend!  If an error is confusing, copy it into Google and see what other people are saying.  If you don't know how to do something, search for it.\n",
    "\n",
    "### Hint 2\n",
    "\n",
    "Just because there is no error message doesn't mean everything went smoothly.  You should be regularly printing out your objects, to see they contain the information and format that you expect.\n",
    "\n",
    "For example, if you have an object named `my_thing`, you might first want to simply look at the object by typing its name.\n",
    "\n",
    "However, you might also want to make sure it is the right **object type** and/or the right **object structure**.\n"
   ]
  },
  {
   "cell_type": "code",
   "execution_count": 10,
   "metadata": {
    "id": "D5pSzgxjrrqq"
   },
   "outputs": [
    {
     "data": {
      "text/plain": [
       "12"
      ]
     },
     "execution_count": 10,
     "metadata": {},
     "output_type": "execute_result"
    }
   ],
   "source": [
    "type(my_thing)\n",
    "len(my_thing)"
   ]
  },
  {
   "cell_type": "markdown",
   "metadata": {
    "id": "QpUJsmq0rrqr"
   },
   "source": [
    "## Part One: Setup\n",
    "\n",
    "Each of the following code chunks will cause an error and/or do the desired task incorrectly.  Find the mistake, and correct it to complete the intended action.\n",
    "\n",
    "\n",
    "\n",
    "\n",
    "1. Create lists containing the upper case letters, lower case letters, and some punctuation marks.\n"
   ]
  },
  {
   "cell_type": "code",
   "execution_count": 7,
   "metadata": {
    "colab": {
     "base_uri": "https://localhost:8080/",
     "height": 143
    },
    "id": "tk5bezBJrrqs",
    "outputId": "4ed6b62e-bd9b-41a0-831e-efc52b595226"
   },
   "outputs": [],
   "source": [
    "lower_case = [\"a\", \"b\", \"c\", \"d\", \"e\", \"f\", \"g\", \"h\", \"i\", \"j\", \"k\", \"l\", \"m\", \"n\", \"o\", \"p\", \"q\", \"r\", \"s\", \"t\", \"u\", \"v\", \"w\", \"x\", \"y\", \"z\"]\n",
    "\n",
    "upper_case = [\"A\", \"B\", \"C\", \"D\", \"E\", \"F\", \"G\", \"H\" \"I\", \"J\", \"K\", \"L\", \"M\", \"N\", \"O\", \"P\", \"Q\", \"R\", \"S\", \"T\", \"U\", \"V\", \"W\", \"X\", \"Y\", \"Z\"]\n",
    "\n",
    "punctuation = [\".\", \",\", \"!\", \"?\", '\"','\"',  \"(\", \")\", \" \", \"-\", \";\", \":\"]"
   ]
  },
  {
   "cell_type": "markdown",
   "metadata": {
    "id": "ZejwK6urrrqs"
   },
   "source": [
    "2. Make one long list containing all the symbols.  Find the length of this list.\n"
   ]
  },
  {
   "cell_type": "code",
   "execution_count": 15,
   "metadata": {
    "id": "l8ZVLLXWrrqs"
   },
   "outputs": [
    {
     "name": "stdout",
     "output_type": "stream",
     "text": [
      "63\n"
     ]
    }
   ],
   "source": [
    "all_symbols = lower_case + upper_case + punctuation\n",
    "\n",
    "print(len(all_symbols))"
   ]
  },
  {
   "cell_type": "markdown",
   "metadata": {
    "id": "HvgV76Dbrrqt"
   },
   "source": [
    "3. Repeat the previous steps, but instead of using *list* type objects, use **numpy arrays**.  Don't forget to **import** the numpy library!\n"
   ]
  },
  {
   "cell_type": "code",
   "execution_count": 20,
   "metadata": {
    "id": "x9YyIMP6rrqt"
   },
   "outputs": [],
   "source": [
    "import numpy as np\n",
    "\n",
    "lower_case = np.array([\"a\", \"b\", \"c\", \"d\", \"e\", \"f\", \"g\", \"h\", \"i\", \"j\", \"k\", \"l\", \"m\", \"n\", \"o\", \"p\", \"q\", \"r\", \"s\", \"t\", \"u\", \"v\", \"w\", \"x\", \"y\", \"z\"])\n",
    "\n",
    "upper_case = np.array([\"A\", \"B\", \"C\", \"D\", \"E\", \"F\", \"G\", \"H\", \"I\", \"J\", \"K\", \"L\", \"M\", \"N\", \"O\", \"P\", \"Q\", \"R\", \"S\", \"T\", \"U\", \"V\", \"W\", \"X\", \"Y\", \"Z\"])\n",
    "\n",
    "punctuation = np.array([\".\", \",\", \"!\", \"?\", \"'\", \"\\\"\", \"(\", \")\", \" \", \"-\", \";\", \":\"])\n",
    "\n",
    "## Use np.concatenate to combine into long array\n",
    "all_symbols = np.concatenate((lower_case, upper_case, punctuation))"
   ]
  },
  {
   "cell_type": "markdown",
   "metadata": {
    "id": "rpbAtPlXrrqt"
   },
   "source": [
    "4. Make a **pandas data frame**, with one column called \"Symbol\" containing the `all_symbols` array.\n"
   ]
  },
  {
   "cell_type": "code",
   "execution_count": 24,
   "metadata": {
    "id": "K103ZvNVrrqu"
   },
   "outputs": [
    {
     "name": "stdout",
     "output_type": "stream",
     "text": [
      "   Symbol\n",
      "0       a\n",
      "1       b\n",
      "2       c\n",
      "3       d\n",
      "4       e\n",
      "..    ...\n",
      "59      )\n",
      "60       \n",
      "61      -\n",
      "62      ;\n",
      "63      :\n",
      "\n",
      "[64 rows x 1 columns]\n"
     ]
    }
   ],
   "source": [
    "import pandas as pd\n",
    "\n",
    "all_symbols = [\"a\", \"b\", \"c\", \"d\", \"e\", \"f\", \"g\", \"h\", \"i\", \"j\", \"k\", \"l\", \"m\", \"n\", \"o\", \"p\", \"q\", \"r\", \"s\", \"t\", \"u\", \"v\", \"w\", \"x\", \"y\", \"z\",\n",
    "               \"A\", \"B\", \"C\", \"D\", \"E\", \"F\", \"G\", \"H\", \"I\", \"J\", \"K\", \"L\", \"M\", \"N\", \"O\", \"P\", \"Q\", \"R\", \"S\", \"T\", \"U\", \"V\", \"W\", \"X\", \"Y\", \"Z\",\n",
    "               \".\", \",\", \"!\", \"?\", \"'\", \"\\\"\", \"(\", \")\", \" \", \"-\", \";\", \":\"]\n",
    "\n",
    "symbols_df = pd.DataFrame(all_symbols, columns=[\"Symbol\"])  # Use pd.DataFrame with a capital \"D\"\n",
    "\n",
    "# Print the DataFrame\n",
    "print(symbols_df)"
   ]
  },
  {
   "cell_type": "markdown",
   "metadata": {
    "id": "L-m2LLyHrrqu"
   },
   "source": [
    "## Part Two: Decoding the secret message.\n"
   ]
  },
  {
   "cell_type": "code",
   "execution_count": 28,
   "metadata": {
    "id": "iP7Zj5hPrrqu"
   },
   "outputs": [
    {
     "name": "stdout",
     "output_type": "stream",
     "text": [
      "[0.39104271 0.38644508 0.37131377 0.33881179 0.37131377 0.39695721\n",
      " 0.35479413 0.37573224 0.3693288  0.37404822 0.37573224 0.37490299\n",
      " 0.37490299 0.40018665 0.40307943 0.37490299 0.38531114 0.38024665\n",
      " 0.40542    0.39915133 0.38644508 0.3858839  0.40757858 0.39457479\n",
      " 0.3924204  0.39196872 0.40368332 0.39330231 0.40052335 0.41099418\n",
      " 0.40597557 0.39915133 0.40214824 0.39695721 0.40246212 0.41362081\n",
      " 0.41403541 0.50672129 0.46904194 0.4189279  0.40513799 0.50677976\n",
      " 0.41403541 0.46026337 0.44516294 0.41006039 0.50685267 0.40485308\n",
      " 0.43565499 0.40982195 0.50691085 0.41751216 0.42308635 0.43400049\n",
      " 0.40933885 0.43181048 0.4148465  0.50701239 0.42481402 0.43765951\n",
      " 0.50705579 0.48348599 0.42352845 0.41751216 0.50711356 0.45815983\n",
      " 0.41403541 0.41504562 0.41927084 0.50976041 0.50719998 0.4658871\n",
      " 0.43527447 0.43546538 0.50725745 0.43809559 0.42943293 0.43843959\n",
      " 0.45144177 0.46293566 0.50734343 0.45947306 0.42367426 0.44995774\n",
      " 0.42424999 0.50741487 0.48431772 0.43001775 0.42536683 0.50747189\n",
      " 0.42293741 0.44482542 0.45095585 0.44509577 0.42990177 0.44536351\n",
      " 0.4588652  0.42772674 0.45350415 0.50123071 0.50762811 0.50764227\n",
      " 0.50765642 0.46785231 0.44462092 0.42859293 0.50771295 0.48499763\n",
      " 0.43449742 0.43059051 0.50776936 0.44371693 0.44754076 0.44399823\n",
      " 0.43170177 0.50783972 0.45345442 0.42966834 0.48534724 0.4365841\n",
      " 0.45560881 0.50792392 0.44874606 0.45931226 0.4855361  0.43630862\n",
      " 0.45443261 0.43191878 0.43245401 0.43479137 0.50082663 0.50806368\n",
      " 0.50547189 0.47106801 0.43574932 0.46349614 0.4337992  0.45547027\n",
      " 0.43649258 0.50817499 0.48603353 0.44033896 0.43721647 0.50823048\n",
      " 0.4824714  0.43556035 0.43603037 0.43621618 0.43826812 0.45655973\n",
      " 0.46451749 0.4519719  0.43757146 0.44615158 0.5021944  0.50839627\n",
      " 0.44944491 0.46797064 0.50843757 0.45898784 0.45290136 0.45149524\n",
      " 0.50325039 0.50850626 0.50851997 0.50853368 0.4945512  0.44420735\n",
      " 0.44151119 0.50858846 0.44698083 0.44009846 0.46595066 0.4601071\n",
      " 0.50865678 0.48709158 0.44543004 0.44104822 0.48718042 0.50872493\n",
      " 0.44173981 0.44716873 0.48729843 0.44371693 0.50270629 0.50880649\n",
      " 0.48741595 0.44685485 0.4444149  0.50886073 0.44357521 0.41582815\n",
      " 0.27777778 0.4519719  0.44135772 0.50615966 0.48130898 0.39330231\n",
      " 0.27777778 0.48130898 0.50615966 0.33881179 0.27777778 0.48130898\n",
      " 0.33881179 0.39330231 0.5004074  0.50615966 0.46290025 0.367191\n",
      " 0.4519719  0.27777778 0.43835399 0.367191   0.50615966 0.48130898\n",
      " 0.39330231 0.367191   0.50615966 0.47686216 0.44691791 0.31628595\n",
      " 0.40569917 0.44691791 0.31628595 0.50615966 0.31628595 0.39984581\n",
      " 0.43835399 0.35479413 0.499388   0.50615966 0.27777778 0.42439207\n",
      " 0.35479413 0.50615966 0.44135772 0.39330231 0.44691791 0.42439207\n",
      " 0.50615966 0.50615966 0.50615966 0.49048008 0.39330231 0.367191\n",
      " 0.50615966 0.37731997 0.43835399 0.44691791 0.42027496 0.39984581\n",
      " 0.42822501 0.44691791 0.44135772 0.50615966 0.46290025 0.27777778\n",
      " 0.42439207 0.35479413 0.367191   0.43835399 0.44135772 0.42439207\n",
      " 0.27777778 0.48130898 0.33881179 0.39330231 0.5004074  0.50335795\n",
      " 0.50615966 0.4736867  0.367191   0.50615966 0.48130898 0.42822501\n",
      " 0.42822501 0.41099418 0.50615966 0.39330231 0.39984581 0.44135772\n",
      " 0.50615966 0.44950236 0.42822501 0.43835399 0.43181048 0.27777778\n",
      " 0.41582815 0.50615966 0.44135772 0.4519719  0.42822501 0.43835399\n",
      " 0.35479413 0.50615966 0.39984581 0.42439207 0.50615966 0.39330231\n",
      " 0.27777778 0.42439207 0.35479413 0.50795193 0.50615966 0.50615966\n",
      " 0.50615966 0.4798659  0.42822501 0.42439207 0.3858839  0.50615966\n",
      " 0.48130898 0.39984581 0.42027496 0.367191   0.50615966 0.48130898\n",
      " 0.39330231 0.367191   0.50615966 0.42027496 0.27777778 0.42439207\n",
      " 0.45433632 0.42822501 0.42027496 0.367191   0.50615966 0.37731997\n",
      " 0.42822501 0.367191   0.50615966 0.39330231 0.367191   0.50615966\n",
      " 0.44135772 0.42822501 0.44691791 0.3858839  0.39330231 0.48130898\n",
      " 0.50706302 0.50615966 0.48925903 0.42822501 0.50615966 0.43835399\n",
      " 0.367191   0.44135772 0.48130898 0.367191   0.35479413 0.50615966\n",
      " 0.39330231 0.367191   0.50615966 0.31628595 0.45660421 0.50615966\n",
      " 0.48130898 0.39330231 0.367191   0.50615966 0.49048008 0.44691791\n",
      " 0.42027496 0.48130898 0.44691791 0.42027496 0.50615966 0.48130898\n",
      " 0.43835399 0.367191   0.367191   0.50615966 0.50615966 0.50615966\n",
      " 0.46087983 0.42439207 0.35479413 0.50615966 0.44135772 0.48130898\n",
      " 0.42822501 0.42822501 0.35479413 0.50615966 0.27777778 0.4519719\n",
      " 0.39330231 0.39984581 0.41582815 0.367191   0.50615966 0.39984581\n",
      " 0.42439207 0.50615966 0.48130898 0.41944073 0.43843959 0.45259498\n",
      " 0.41677629 0.41944073 0.48307774 0.49932124 0.50615966 0.46087983\n",
      " 0.42439207 0.35479413 0.499388   0.50615966 0.27777778 0.44135772\n",
      " 0.50615966 0.39984581 0.42439207 0.50615966 0.44691791 0.37731997\n",
      " 0.37731997 0.39984581 0.44135772 0.39330231 0.50615966 0.48130898\n",
      " 0.39330231 0.42822501 0.44691791 0.3858839  0.39330231 0.48130898\n",
      " 0.50615966 0.39330231 0.367191   0.50615966 0.44135772 0.48130898\n",
      " 0.42822501 0.42822501 0.35479413 0.499388   0.50615966 0.50615966\n",
      " 0.50615966 0.49048008 0.39330231 0.367191   0.50615966 0.47686216\n",
      " 0.27777778 0.31628595 0.31628595 0.367191   0.43835399 0.4519719\n",
      " 0.42822501 0.33881179 0.41099418 0.499388   0.50615966 0.4519719\n",
      " 0.39984581 0.48130898 0.39330231 0.39196872 0.32248439 0.367191\n",
      " 0.32248439 0.35956775 0.39196872 0.35300139 0.32754887 0.39196872\n",
      " 0.32754887 0.34680296 0.27777778 0.34902637 0.32248439 0.38858289\n",
      " 0.39196872 0.37131377 0.27777778 0.34902637 0.32248439 0.39196872\n",
      " 0.36487484 0.33554004 0.33881179 0.32754887 0.32754887 0.34680296\n",
      " 0.33881179 0.35108493 0.33183084 0.39196872 0.37954338 0.33554004\n",
      " 0.35806588 0.35300139 0.36234785 0.33183084 0.33554004 0.39196872\n",
      " 0.37954338 0.33554004 0.32248439 0.39196872 0.37954338 0.36234785\n",
      " 0.34680296 0.33183084 0.32248439 0.367191   0.39196872 0.36487484\n",
      " 0.35300139 0.35300139 0.31628595 0.38858289 0.39196872 0.39196872\n",
      " 0.39196872 0.3693288  0.35108493 0.31628595 0.39196872 0.29703187\n",
      " 0.36234785 0.35806588 0.29703187 0.34680296 0.32248439 0.31628595\n",
      " 0.39196872 0.27777778 0.35956775 0.39196872 0.33881179 0.37954338\n",
      " 0.39196872 0.30829479 0.27777778 0.34902637 0.32248439 0.38909259\n",
      " 0.39196872 0.38093256 0.35108493 0.32248439 0.38858289 0.39196872\n",
      " 0.37954338 0.36487484 0.35300139 0.38909259 0.39196872 0.38093256\n",
      " 0.35108493 0.32248439 0.38858289 0.39196872 0.37954338 0.36487484\n",
      " 0.35300139 0.38909259 0.39196872 0.3693288  0.35108493 0.31628595\n",
      " 0.39196872 0.37954338 0.33554004 0.33881179 0.33374731 0.34309376\n",
      " 0.31257675 0.31628595 0.37271463 0.25852369 0.33183084 0.29703187\n",
      " 0.37271463 0.36028929 0.31628595 0.33881179 0.33374731 0.34309376\n",
      " 0.31257675 0.31628595 0.37271463 0.37271463 0.37271463 0.36487484\n",
      " 0.31628595 0.3032303  0.37271463 0.34438598 0.33374731 0.33881179\n",
      " 0.33554004 0.25852369 0.32754887 0.37271463 0.27777778 0.32754887\n",
      " 0.25852369 0.29703187 0.3032303  0.37271463 0.34562075 0.3032303\n",
      " 0.33183084 0.36028929 0.37271463 0.34031366 0.33183084 0.31955771\n",
      " 0.2890407  0.32513189 0.3032303  0.33881179 0.37316631 0.34031366\n",
      " 0.33183084 0.25852369 0.2890407  0.32513189 0.3698385  0.37271463\n",
      " 0.35647815 0.3032303  0.37271463 0.32754887 0.3032303  0.30829479\n",
      " 0.36028929 0.37271463 0.31955771 0.36028929 0.37271463 0.29703187\n",
      " 0.3032303  0.25852369 0.29703187 0.3693288  0.37271463 0.25852369\n",
      " 0.33183084 0.29703187 0.37271463 0.34562075 0.31955771 0.36028929\n",
      " 0.31628595 0.37271463 0.31955771 0.36028929 0.34031366 0.37271463\n",
      " 0.31628595 0.3032303  0.25852369 0.29703187 0.37271463 0.37271463\n",
      " 0.37271463 0.35647815 0.3032303  0.37271463 0.34562075 0.3032303\n",
      " 0.33183084 0.36028929 0.37271463 0.31257675 0.25852369 0.32754887\n",
      " 0.34309376 0.32977228 0.33554004 0.31628595 0.31955771 0.33183084\n",
      " 0.31257675 0.37271463 0.27777778 0.25852369 0.2890407  0.32513189\n",
      " 0.36880958 0.37271463 0.37131377 0.35007471 0.33183084 0.29703187\n",
      " 0.37271463 0.31628595 0.25852369 0.34031366 0.36028929 0.37271463\n",
      " 0.36028929 0.31628595 0.33374731 0.34309376 0.37271463 0.34031366\n",
      " 0.32754887 0.25852369 0.31955771 0.33183084 0.37271463 0.36028929\n",
      " 0.31628595 0.3032303  0.37271463 0.35806588 0.25852369 0.27777778\n",
      " 0.27777778 0.3032303  0.33881179 0.34562075 0.33374731 0.2890407\n",
      " 0.32513189 0.37033901 0.37271463 0.37271463 0.37271463 0.35205968\n",
      " 0.33374731 0.32977228 0.3032303  0.37271463 0.36028929 0.33374731\n",
      " 0.37271463 0.32977228 0.34793691 0.37271463 0.25852369 0.33881179\n",
      " 0.32977228 0.34031366 0.3693288  0.37271463 0.32977228 0.34793691\n",
      " 0.37271463 0.27777778 0.3032303  0.25852369 0.32977228 0.31955771\n",
      " 0.34031366 0.31628595 0.37271463 0.27777778 0.33374731 0.34793691\n",
      " 0.3698385  0.37271463 0.36167847 0.37271463 0.30829479 0.33881179\n",
      " 0.25852369 0.27777778 0.32248439 0.33374731 0.34309376 0.34031366\n",
      " 0.37271463 0.29703187 0.25852369 0.34793691 0.3698385  0.37271463\n",
      " 0.35205968 0.25852369 0.32754887 0.32754887 0.33374731 0.33374731\n",
      " 0.31628595 0.3698385  0.37271463 0.35205968 0.25852369 0.32754887\n",
      " 0.32754887 0.25852369 0.34793691 0.3698385  0.37131377 0.37271463\n",
      " 0.37271463 0.37271463 0.35647815 0.3032303  0.37271463 0.2890407\n",
      " 0.31628595 0.33374731 0.33881179 0.36028929 0.32754887 0.3032303\n",
      " 0.29703187 0.37271463 0.31955771 0.33183084 0.37271463 0.31628595\n",
      " 0.31955771 0.34031366 0.37271463 0.32248439 0.33374731 0.34793691\n",
      " 0.36880958 0.37271463 0.37083067 0.36487484 0.34562075 0.25852369\n",
      " 0.34031366 0.37271463 0.27777778 0.33881179 0.31955771 0.32754887\n",
      " 0.32754887 0.31955771 0.31257675 0.3693288  0.37271463 0.25852369\n",
      " 0.33183084 0.29703187 0.37271463 0.36028929 0.31628595 0.3032303\n",
      " 0.37271463 0.34031366 0.32754887 0.31955771 0.36028929 0.31628595\n",
      " 0.34793691 0.37271463 0.36028929 0.33374731 0.34438598 0.3032303\n",
      " 0.34031366 0.37271463 0.37271463 0.37271463 0.35300139 0.31955771\n",
      " 0.29703187 0.37271463 0.31257675 0.34793691 0.33881179 0.3032303\n",
      " 0.37271463 0.25852369 0.33183084 0.29703187 0.37271463 0.31257675\n",
      " 0.31955771 0.32977228 0.27777778 0.32754887 0.3032303  0.37271463\n",
      " 0.31955771 0.33183084 0.37271463 0.36028929 0.31628595 0.3032303\n",
      " 0.37271463 0.34562075 0.25852369 0.27777778 0.3032303  0.37404822\n",
      " 0.37271463 0.35007471 0.32754887 0.32754887 0.37271463 0.32977228\n",
      " 0.31955771 0.32977228 0.34031366 0.34793691 0.37271463 0.34562075\n",
      " 0.3032303  0.33881179 0.3032303  0.37271463 0.36028929 0.31628595\n",
      " 0.3032303  0.37271463 0.27777778 0.33374731 0.33881179 0.33374731\n",
      " 0.31257675 0.33374731 0.34438598 0.3032303  0.34031366 0.3693288\n",
      " 0.37271463 0.37271463 0.37271463 0.35007471 0.33183084 0.29703187\n",
      " 0.37271463 0.36028929 0.31628595 0.3032303  0.37271463 0.32977228\n",
      " 0.33374731 0.32977228 0.3032303  0.37271463 0.33881179 0.25852369\n",
      " 0.36028929 0.31628595 0.34031366 0.37271463 0.33374731 0.34309376\n",
      " 0.36028929 0.31257675 0.33881179 0.25852369 0.27777778 0.3032303\n",
      " 0.36880958]\n"
     ]
    }
   ],
   "source": [
    "top_secret = pd.read_csv(\"https://www.dropbox.com/s/k72h1zewk4gtqep/PA_Secret_Code?dl=1\", header=None)\n",
    "\n",
    "top_secret = top_secret[0].to_numpy()\n",
    "\n",
    "print(top_secret)"
   ]
  },
  {
   "cell_type": "markdown",
   "metadata": {
    "id": "T3ui38Z9rrqu"
   },
   "source": [
    "### Hint\n",
    "\n",
    "Recall that basic math operations are **vectorized**.  This means you don't have to repeat the process for each item in a list; you can apply the math to the whole thing at once.\n",
    "\n",
    "### Instructions\n",
    "\n",
    "By altering this top secret set of numbers, you will be able to create a message.  Write your own code to complete the steps below.\n",
    "\n",
    "1. Add 14 to every number.\n",
    "2. Multiply every number by 18, then subtract 257.\n",
    "3. Exponentiate every number.  (That is, do e^[number].  You may have to Google how to do this!)\n",
    "4. Square every number.\n",
    "\n",
    "**Checkpoint:** Headquarters has informed you that at this stage of decoding, there should be 352 numbers in the secret message that are below 17.  Write code to check if this is true for your data.\n",
    "\n",
    "\n",
    "5. Turn your one-dimensional array of numbers into a two-dimensional array (matrix) with 5 columns.\n",
    "6. Separately from your top secret numbers, create an array of all the even numbers between 1 and 382. Name it \"evens\". That is, \"evens\" should contain 2, 4, 6, 8 ..., 382.\n",
    "7. Subtract the \"evens\" vector from the first column of your secret message matrix.\n",
    "8. Subtract 100 from all numbers in the 18-24th rows of the 3rd column.\n",
    "9. Multiply all numbers in the 4th and 5th column by 2.\n",
    "10. Turn your matrix back into a one dimensional array.\n",
    "\n",
    "\n",
    "**Checkpoint:** Headquarters has informed you that at this stage of decoding, all numbers in indices 500 and beyond are below 100.  Write code to check if your numbers fulfill this requirement.\n",
    "\n",
    "11. Take the square root of all numbers in indices 37 to 464.\n",
    "12. Round all numbers to the nearest whole number.\n",
    "13. Replace all instances of the number 39 with 20.\n",
    "\n",
    "**Checkpoint:** Headquarters has informed you that your final message should have 344 even numbers.  Write code to check if your numbers fulfill this requirement.\n",
    "\n",
    "## Part 3: The secret message!\n",
    "\n",
    "Run the following to discover the final message!  Google the first line of this message, if you do not recognize it, to see what it is.\n"
   ]
  },
  {
   "cell_type": "code",
   "execution_count": 33,
   "metadata": {},
   "outputs": [],
   "source": [
    "step_1 = top_secret + 14\n",
    "step_2 = (step_1 * 18) - 257\n",
    "step_3 = np.exp(step_2)\n",
    "step_4 = step_3 ** 2"
   ]
  },
  {
   "cell_type": "code",
   "execution_count": 34,
   "metadata": {},
   "outputs": [
    {
     "data": {
      "text/plain": [
       "0"
      ]
     },
     "execution_count": 34,
     "metadata": {},
     "output_type": "execute_result"
    }
   ],
   "source": [
    "top_secret = top_secret.reshape(5, -1).T\n",
    "evens = np.arange(2, 384, 2)\n",
    "top_secret[:,0] = top_secret[:,0] - evens\n",
    "top_secret[17:24, 2] = top_secret[17:24, 2] - 100\n",
    "top_secret[:,3:5] = top_secret[:,3:5]*2\n",
    "top_secret = top_secret.T.flatten()\n",
    "\n",
    "sum(top_secret[500:955] >= 100)"
   ]
  },
  {
   "cell_type": "code",
   "execution_count": 35,
   "metadata": {
    "id": "v_bB8VNvrrqu"
   },
   "outputs": [
    {
     "ename": "KeyError",
     "evalue": "\"None of [Float64Index([  -1.60895729322484, -3.6135549165158842,   -5.62868622694482,\\n              -7.6611882061851055,   -9.62868622694482, -11.603042793301434,\\n              -13.645205868826672, -15.624267763205106, -17.630671198166546,\\n              -19.625951780477784,\\n              ...\\n                0.745429260200744,   0.667494612252352,   0.686187514286856,\\n                0.720578581420536,   0.625153498249744,   0.677623587629788,\\n                0.517047378857782,   0.555555555555558,   0.606460596215228,\\n                0.737619151832898],\\n             dtype='float64', length=955)] are in the [index]\"",
     "output_type": "error",
     "traceback": [
      "\u001b[1;31m---------------------------------------------------------------------------\u001b[0m",
      "\u001b[1;31mKeyError\u001b[0m                                  Traceback (most recent call last)",
      "Cell \u001b[1;32mIn[35], line 1\u001b[0m\n\u001b[1;32m----> 1\u001b[0m \u001b[38;5;124m'\u001b[39m\u001b[38;5;124m'\u001b[39m\u001b[38;5;241m.\u001b[39mjoin(\u001b[38;5;28mmap\u001b[39m(\u001b[38;5;28mstr\u001b[39m, symbols_df\u001b[38;5;241m.\u001b[39mloc[top_secret][\u001b[38;5;124m'\u001b[39m\u001b[38;5;124mSymbol\u001b[39m\u001b[38;5;124m'\u001b[39m]))\n",
      "File \u001b[1;32m~\\anaconda3\\Lib\\site-packages\\pandas\\core\\indexing.py:1073\u001b[0m, in \u001b[0;36m_LocationIndexer.__getitem__\u001b[1;34m(self, key)\u001b[0m\n\u001b[0;32m   1070\u001b[0m axis \u001b[38;5;241m=\u001b[39m \u001b[38;5;28mself\u001b[39m\u001b[38;5;241m.\u001b[39maxis \u001b[38;5;129;01mor\u001b[39;00m \u001b[38;5;241m0\u001b[39m\n\u001b[0;32m   1072\u001b[0m maybe_callable \u001b[38;5;241m=\u001b[39m com\u001b[38;5;241m.\u001b[39mapply_if_callable(key, \u001b[38;5;28mself\u001b[39m\u001b[38;5;241m.\u001b[39mobj)\n\u001b[1;32m-> 1073\u001b[0m \u001b[38;5;28;01mreturn\u001b[39;00m \u001b[38;5;28mself\u001b[39m\u001b[38;5;241m.\u001b[39m_getitem_axis(maybe_callable, axis\u001b[38;5;241m=\u001b[39maxis)\n",
      "File \u001b[1;32m~\\anaconda3\\Lib\\site-packages\\pandas\\core\\indexing.py:1301\u001b[0m, in \u001b[0;36m_LocIndexer._getitem_axis\u001b[1;34m(self, key, axis)\u001b[0m\n\u001b[0;32m   1298\u001b[0m     \u001b[38;5;28;01mif\u001b[39;00m \u001b[38;5;28mhasattr\u001b[39m(key, \u001b[38;5;124m\"\u001b[39m\u001b[38;5;124mndim\u001b[39m\u001b[38;5;124m\"\u001b[39m) \u001b[38;5;129;01mand\u001b[39;00m key\u001b[38;5;241m.\u001b[39mndim \u001b[38;5;241m>\u001b[39m \u001b[38;5;241m1\u001b[39m:\n\u001b[0;32m   1299\u001b[0m         \u001b[38;5;28;01mraise\u001b[39;00m \u001b[38;5;167;01mValueError\u001b[39;00m(\u001b[38;5;124m\"\u001b[39m\u001b[38;5;124mCannot index with multidimensional key\u001b[39m\u001b[38;5;124m\"\u001b[39m)\n\u001b[1;32m-> 1301\u001b[0m     \u001b[38;5;28;01mreturn\u001b[39;00m \u001b[38;5;28mself\u001b[39m\u001b[38;5;241m.\u001b[39m_getitem_iterable(key, axis\u001b[38;5;241m=\u001b[39maxis)\n\u001b[0;32m   1303\u001b[0m \u001b[38;5;66;03m# nested tuple slicing\u001b[39;00m\n\u001b[0;32m   1304\u001b[0m \u001b[38;5;28;01mif\u001b[39;00m is_nested_tuple(key, labels):\n",
      "File \u001b[1;32m~\\anaconda3\\Lib\\site-packages\\pandas\\core\\indexing.py:1239\u001b[0m, in \u001b[0;36m_LocIndexer._getitem_iterable\u001b[1;34m(self, key, axis)\u001b[0m\n\u001b[0;32m   1236\u001b[0m \u001b[38;5;28mself\u001b[39m\u001b[38;5;241m.\u001b[39m_validate_key(key, axis)\n\u001b[0;32m   1238\u001b[0m \u001b[38;5;66;03m# A collection of keys\u001b[39;00m\n\u001b[1;32m-> 1239\u001b[0m keyarr, indexer \u001b[38;5;241m=\u001b[39m \u001b[38;5;28mself\u001b[39m\u001b[38;5;241m.\u001b[39m_get_listlike_indexer(key, axis)\n\u001b[0;32m   1240\u001b[0m \u001b[38;5;28;01mreturn\u001b[39;00m \u001b[38;5;28mself\u001b[39m\u001b[38;5;241m.\u001b[39mobj\u001b[38;5;241m.\u001b[39m_reindex_with_indexers(\n\u001b[0;32m   1241\u001b[0m     {axis: [keyarr, indexer]}, copy\u001b[38;5;241m=\u001b[39m\u001b[38;5;28;01mTrue\u001b[39;00m, allow_dups\u001b[38;5;241m=\u001b[39m\u001b[38;5;28;01mTrue\u001b[39;00m\n\u001b[0;32m   1242\u001b[0m )\n",
      "File \u001b[1;32m~\\anaconda3\\Lib\\site-packages\\pandas\\core\\indexing.py:1432\u001b[0m, in \u001b[0;36m_LocIndexer._get_listlike_indexer\u001b[1;34m(self, key, axis)\u001b[0m\n\u001b[0;32m   1429\u001b[0m ax \u001b[38;5;241m=\u001b[39m \u001b[38;5;28mself\u001b[39m\u001b[38;5;241m.\u001b[39mobj\u001b[38;5;241m.\u001b[39m_get_axis(axis)\n\u001b[0;32m   1430\u001b[0m axis_name \u001b[38;5;241m=\u001b[39m \u001b[38;5;28mself\u001b[39m\u001b[38;5;241m.\u001b[39mobj\u001b[38;5;241m.\u001b[39m_get_axis_name(axis)\n\u001b[1;32m-> 1432\u001b[0m keyarr, indexer \u001b[38;5;241m=\u001b[39m ax\u001b[38;5;241m.\u001b[39m_get_indexer_strict(key, axis_name)\n\u001b[0;32m   1434\u001b[0m \u001b[38;5;28;01mreturn\u001b[39;00m keyarr, indexer\n",
      "File \u001b[1;32m~\\anaconda3\\Lib\\site-packages\\pandas\\core\\indexes\\base.py:6070\u001b[0m, in \u001b[0;36mIndex._get_indexer_strict\u001b[1;34m(self, key, axis_name)\u001b[0m\n\u001b[0;32m   6067\u001b[0m \u001b[38;5;28;01melse\u001b[39;00m:\n\u001b[0;32m   6068\u001b[0m     keyarr, indexer, new_indexer \u001b[38;5;241m=\u001b[39m \u001b[38;5;28mself\u001b[39m\u001b[38;5;241m.\u001b[39m_reindex_non_unique(keyarr)\n\u001b[1;32m-> 6070\u001b[0m \u001b[38;5;28mself\u001b[39m\u001b[38;5;241m.\u001b[39m_raise_if_missing(keyarr, indexer, axis_name)\n\u001b[0;32m   6072\u001b[0m keyarr \u001b[38;5;241m=\u001b[39m \u001b[38;5;28mself\u001b[39m\u001b[38;5;241m.\u001b[39mtake(indexer)\n\u001b[0;32m   6073\u001b[0m \u001b[38;5;28;01mif\u001b[39;00m \u001b[38;5;28misinstance\u001b[39m(key, Index):\n\u001b[0;32m   6074\u001b[0m     \u001b[38;5;66;03m# GH 42790 - Preserve name from an Index\u001b[39;00m\n",
      "File \u001b[1;32m~\\anaconda3\\Lib\\site-packages\\pandas\\core\\indexes\\base.py:6130\u001b[0m, in \u001b[0;36mIndex._raise_if_missing\u001b[1;34m(self, key, indexer, axis_name)\u001b[0m\n\u001b[0;32m   6128\u001b[0m     \u001b[38;5;28;01mif\u001b[39;00m use_interval_msg:\n\u001b[0;32m   6129\u001b[0m         key \u001b[38;5;241m=\u001b[39m \u001b[38;5;28mlist\u001b[39m(key)\n\u001b[1;32m-> 6130\u001b[0m     \u001b[38;5;28;01mraise\u001b[39;00m \u001b[38;5;167;01mKeyError\u001b[39;00m(\u001b[38;5;124mf\u001b[39m\u001b[38;5;124m\"\u001b[39m\u001b[38;5;124mNone of [\u001b[39m\u001b[38;5;132;01m{\u001b[39;00mkey\u001b[38;5;132;01m}\u001b[39;00m\u001b[38;5;124m] are in the [\u001b[39m\u001b[38;5;132;01m{\u001b[39;00maxis_name\u001b[38;5;132;01m}\u001b[39;00m\u001b[38;5;124m]\u001b[39m\u001b[38;5;124m\"\u001b[39m)\n\u001b[0;32m   6132\u001b[0m not_found \u001b[38;5;241m=\u001b[39m \u001b[38;5;28mlist\u001b[39m(ensure_index(key)[missing_mask\u001b[38;5;241m.\u001b[39mnonzero()[\u001b[38;5;241m0\u001b[39m]]\u001b[38;5;241m.\u001b[39munique())\n\u001b[0;32m   6133\u001b[0m \u001b[38;5;28;01mraise\u001b[39;00m \u001b[38;5;167;01mKeyError\u001b[39;00m(\u001b[38;5;124mf\u001b[39m\u001b[38;5;124m\"\u001b[39m\u001b[38;5;132;01m{\u001b[39;00mnot_found\u001b[38;5;132;01m}\u001b[39;00m\u001b[38;5;124m not in index\u001b[39m\u001b[38;5;124m\"\u001b[39m)\n",
      "\u001b[1;31mKeyError\u001b[0m: \"None of [Float64Index([  -1.60895729322484, -3.6135549165158842,   -5.62868622694482,\\n              -7.6611882061851055,   -9.62868622694482, -11.603042793301434,\\n              -13.645205868826672, -15.624267763205106, -17.630671198166546,\\n              -19.625951780477784,\\n              ...\\n                0.745429260200744,   0.667494612252352,   0.686187514286856,\\n                0.720578581420536,   0.625153498249744,   0.677623587629788,\\n                0.517047378857782,   0.555555555555558,   0.606460596215228,\\n                0.737619151832898],\\n             dtype='float64', length=955)] are in the [index]\""
     ]
    }
   ],
   "source": [
    "''.join(map(str, symbols_df.loc[top_secret]['Symbol']))"
   ]
  }
 ],
 "metadata": {
  "colab": {
   "provenance": []
  },
  "kernelspec": {
   "display_name": "Python 3 (ipykernel)",
   "language": "python",
   "name": "python3"
  },
  "language_info": {
   "codemirror_mode": {
    "name": "ipython",
    "version": 3
   },
   "file_extension": ".py",
   "mimetype": "text/x-python",
   "name": "python",
   "nbconvert_exporter": "python",
   "pygments_lexer": "ipython3",
   "version": "3.11.4"
  }
 },
 "nbformat": 4,
 "nbformat_minor": 1
}

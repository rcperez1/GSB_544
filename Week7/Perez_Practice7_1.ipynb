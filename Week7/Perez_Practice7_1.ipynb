{
 "cells": [
  {
   "cell_type": "markdown",
   "id": "9ade2ce5",
   "metadata": {},
   "source": [
    "# Practice Activity 7.1: Cross-Validation and Tuning"
   ]
  },
  {
   "cell_type": "markdown",
   "id": "6832c89c",
   "metadata": {},
   "source": [
    "Please provide an ipynb notebook or Colab link showing the tasks marked \"Practice Activities\" in Chapter 13."
   ]
  },
  {
   "cell_type": "markdown",
   "id": "a5a9b19c",
   "metadata": {},
   "source": [
    "## 13.2.5: Predictions"
   ]
  },
  {
   "cell_type": "code",
   "execution_count": 2,
   "id": "7541cb46",
   "metadata": {},
   "outputs": [],
   "source": [
    "from sklearn.pipeline import Pipeline\n",
    "from sklearn.model_selection import GridSearchCV\n",
    "from sklearn.model_selection import cross_val_score\n",
    "from sklearn.linear_model import LinearRegression\n",
    "from sklearn.preprocessing import StandardScaler, OneHotEncoder, PolynomialFeatures\n",
    "from sklearn.compose import ColumnTransformer\n",
    "from sklearn.metrics import r2_score\n",
    "import pandas as pd\n",
    "import numpy as np\n",
    "from plotnine import *\n",
    "from re import X\n",
    "import plotnine as p9\n",
    "from sklearn.preprocessing import MinMaxScaler\n",
    "from sklearn.model_selection import train_test_split\n",
    "from sklearn.metrics import mean_squared_error\n",
    "from sklearn.metrics import r2_score\n",
    "from sklearn.model_selection import ParameterGrid"
   ]
  },
  {
   "cell_type": "code",
   "execution_count": 3,
   "id": "f89e2e0a",
   "metadata": {},
   "outputs": [],
   "source": [
    "ames = pd.read_csv(\"C:/Users/ryanc/Desktop/GSB_544/Data/AmesHousing.csv\")"
   ]
  },
  {
   "cell_type": "markdown",
   "id": "26095728",
   "metadata": {},
   "source": [
    "Consider four possible models for predicting house prices:\n",
    "\n",
    "1. Using only the size and number of rooms.\n",
    "2. Using size, number of rooms, and building type.\n",
    "3. Using size and building type, and their interaction.\n",
    "4. Using a 5-degree polynomial on size, a 5-degree polynomial on number of rooms, and also building type.\n",
    "\n",
    "Set up a pipeline for each of these four models.\n",
    "\n",
    "Then, get predictions on the test set for each of your pipelines, and compute the root mean squared error. Which model performed best?\n",
    "\n",
    "Note: You should only use the function train_test_split() one time in your code; that is, we should be predicting on the same test set for all four models."
   ]
  },
  {
   "cell_type": "code",
   "execution_count": 5,
   "id": "379fd3a4",
   "metadata": {},
   "outputs": [],
   "source": [
    "#Renaming some rows\n",
    "ames = ames.rename(columns={'Gr Liv Area': 'Size',\n",
    "                                  'TotRms AbvGrd': 'Rooms',\n",
    "                                  'Bldg Type': 'BldType'})"
   ]
  },
  {
   "cell_type": "code",
   "execution_count": 6,
   "id": "4b2dd712",
   "metadata": {},
   "outputs": [],
   "source": [
    "y = ames['SalePrice']\n",
    "X = ames[['Size', 'Rooms', 'BldType']]\n",
    "         \n",
    "X_train, X_test, y_train, y_test = train_test_split(X, y, test_size=0.25)"
   ]
  },
  {
   "cell_type": "markdown",
   "id": "31818b24",
   "metadata": {},
   "source": [
    "**Pipeline Model #1: Size and # of Rooms**"
   ]
  },
  {
   "cell_type": "code",
   "execution_count": 8,
   "id": "19a17ce5",
   "metadata": {},
   "outputs": [
    {
     "name": "stdout",
     "output_type": "stream",
     "text": [
      "[ 67328.06324265 -16226.58537719]\n",
      "RMSE: 54885.46616419861\n"
     ]
    }
   ],
   "source": [
    "ct = ColumnTransformer(\n",
    "    [\n",
    "        (\"standardize\", StandardScaler(), [\"Size\", \"Rooms\"])\n",
    "    ],\n",
    "    remainder = \"drop\"\n",
    "    )\n",
    "\n",
    "lr_pipeline_1 = Pipeline(\n",
    "  [(\"preprocessing\", ct),\n",
    "  (\"linear_regression\", LinearRegression())]\n",
    ")\n",
    "\n",
    "#Fit model on training dataset\n",
    "lr_pipeline_fitted = lr_pipeline_1.fit(X_train, y_train)\n",
    "\n",
    "#Predict model on test dataset\n",
    "y_preds = lr_pipeline_fitted.predict(X_test)\n",
    "\n",
    "#Calculate root mean squared error\n",
    "rmse1 = mean_squared_error(y_test, y_preds, squared = False)\n",
    "\n",
    "print(lr_pipeline_fitted.named_steps['linear_regression'].coef_)\n",
    "print(\"RMSE:\", rmse1)"
   ]
  },
  {
   "cell_type": "markdown",
   "id": "c2fbeef4",
   "metadata": {},
   "source": [
    "**Pipeline Model #2: Size, # of Rooms, and Building Type**"
   ]
  },
  {
   "cell_type": "code",
   "execution_count": 11,
   "id": "fdd47589",
   "metadata": {},
   "outputs": [
    {
     "name": "stdout",
     "output_type": "stream",
     "text": [
      "[ 21113.46072653 -34545.60098891 -31744.86454276    687.25247162\n",
      "  44489.75233352  61347.77761947  -7799.08533781]\n",
      "RMSE: 53184.25719760635\n"
     ]
    }
   ],
   "source": [
    "ct = ColumnTransformer(\n",
    "  [\n",
    "    (\"dummify\", OneHotEncoder(sparse_output = False), [\"BldType\"]),\n",
    "    (\"standardize\", StandardScaler(), [\"Size\", \"Rooms\"]),\n",
    "  ],\n",
    "  remainder = \"drop\"\n",
    ")\n",
    "\n",
    "\n",
    "lr_pipeline_2 = Pipeline(\n",
    "  [(\"preprocessing\", ct),\n",
    "  (\"linear_regression\", LinearRegression())]\n",
    ")\n",
    "\n",
    "#Fit model on training dataset\n",
    "lr_pipeline_fitted = lr_pipeline_2.fit(X_train, y_train)\n",
    "\n",
    "#Predict model on test dataset\n",
    "y_preds = lr_pipeline_fitted.predict(X_test)\n",
    "\n",
    "#Calculate root mean squared error\n",
    "rmse2 = mean_squared_error(y_test, y_preds, squared = False)\n",
    "\n",
    "print(lr_pipeline_fitted.named_steps['linear_regression'].coef_)\n",
    "print(\"RMSE:\", rmse2)"
   ]
  },
  {
   "cell_type": "code",
   "execution_count": 28,
   "id": "d2bd9f81",
   "metadata": {},
   "outputs": [
    {
     "data": {
      "text/plain": [
       "0.5070175206515921"
      ]
     },
     "execution_count": 28,
     "metadata": {},
     "output_type": "execute_result"
    }
   ],
   "source": [
    "ames['Size*BldType'] = ames['Size'] * ames['Size*BldType']\n",
    "\n",
    "X1 = ames[[\"Size\", \"Rooms\"]]\n",
    "X2 = ames[[\"Size\", \"Rooms\", \"BldType\"]]\n",
    "X3 = ames[[\"Size\", \"BldType\", \"Size*BldType\"]]\n",
    "X4 = ames[[]]\n",
    "y = ames[[\"SalePrice\"]]"
   ]
  },
  {
   "cell_type": "code",
   "execution_count": 31,
   "id": "40f9d118",
   "metadata": {},
   "outputs": [
    {
     "name": "stdout",
     "output_type": "stream",
     "text": [
      "Training R2 score: 0.6145739675492172\n",
      "Testing R2 score: -58.34782370352903\n"
     ]
    }
   ],
   "source": [
    "import pandas as pd\n",
    "from sklearn.model_selection import train_test_split\n",
    "from sklearn.preprocessing import PolynomialFeatures, StandardScaler, OneHotEncoder\n",
    "from sklearn.linear_model import LinearRegression\n",
    "from sklearn.compose import make_column_transformer\n",
    "from sklearn.pipeline import make_pipeline\n",
    "\n",
    "# Assuming 'ames' is your DataFrame\n",
    "# Assuming 'SalePrice' is the target variable\n",
    "\n",
    "# Extract the relevant features and the target variable\n",
    "features = ames[['Size', 'Rooms', 'BldType']]\n",
    "target = ames['SalePrice']\n",
    "\n",
    "# Split the data into training and testing sets\n",
    "X_train, X_test, y_train, y_test = train_test_split(features, target, test_size=0.2, random_state=42)\n",
    "\n",
    "# Create a pipeline for preprocessing and modeling\n",
    "pipeline = make_pipeline(\n",
    "    make_column_transformer(\n",
    "        (StandardScaler(), ['Size', 'Rooms']),  # Scaling for numerical features\n",
    "        (OneHotEncoder(), ['BldType'])    # One-hot encoding for categorical feature\n",
    "    ),\n",
    "    PolynomialFeatures(degree=5),  # Create polynomial features\n",
    "    LinearRegression()             # Linear regression model\n",
    ")\n",
    "\n",
    "# Fit the pipeline\n",
    "pipeline.fit(X_train, y_train)\n",
    "\n",
    "# Evaluate the model\n",
    "train_score = pipeline.score(X_train, y_train)\n",
    "test_score = pipeline.score(X_test, y_test)\n",
    "\n",
    "print(f\"Training R2 score: {train_score}\")\n",
    "print(f\"Testing R2 score: {test_score}\")\n",
    "\n",
    "# Make predictions\n",
    "predictions = pipeline.predict(X_test)"
   ]
  },
  {
   "cell_type": "markdown",
   "id": "d5b17419",
   "metadata": {},
   "source": [
    "## 13.3.1: cross_val_score\n",
    "\n",
    "Once again consider four modeling options for house price:\n",
    "\n",
    "1. Using only the size and number of rooms.\n",
    "2. Using size, number of rooms, and building type.\n",
    "3. Using size and building type, and their interaction.\n",
    "4. Using a 5-degree polynomial on size, a 5-degree polynomial on number of rooms, and also building type.\n",
    "\n",
    "Use cross_val_score with the pipelines you made earlier to find the cross-validated root mean squared error for each model.\n",
    "\n",
    "Which do you prefer? Does this agree with your conclusion from earlier?"
   ]
  },
  {
   "cell_type": "markdown",
   "id": "3b1de3b7",
   "metadata": {},
   "source": [
    "## 13.3.3: One-Hundred Modeling Options\n",
    "\n",
    "Consider one hundred modeling options for house price:\n",
    "\n",
    "- House size, trying degrees 1 through 10\n",
    "- Number of rooms, trying degrees 1 through 10\n",
    "- Building Type\n",
    "\n",
    "Hint: The dictionary of possible values that you make to give to GridSearchCV will have two elements instead of one.\n",
    "\n",
    "Q1: Which model performed the best?\n",
    "\n",
    "Q2: What downsides do you see of trying all possible model options? How might you go about choosing a smaller number of tuning values to try?"
   ]
  }
 ],
 "metadata": {
  "kernelspec": {
   "display_name": "Python 3 (ipykernel)",
   "language": "python",
   "name": "python3"
  },
  "language_info": {
   "codemirror_mode": {
    "name": "ipython",
    "version": 3
   },
   "file_extension": ".py",
   "mimetype": "text/x-python",
   "name": "python",
   "nbconvert_exporter": "python",
   "pygments_lexer": "ipython3",
   "version": "3.11.4"
  }
 },
 "nbformat": 4,
 "nbformat_minor": 5
}

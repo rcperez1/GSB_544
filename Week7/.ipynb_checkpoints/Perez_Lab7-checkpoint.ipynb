{
 "cells": [
  {
   "cell_type": "raw",
   "id": "d8272978",
   "metadata": {},
   "source": [
    "---\n",
    "format:\n",
    "  html:\n",
    "     code fold: false\n",
    "     theme: sketchy\n",
    "     self-contained: true\n",
    "     author: \"Ryan Perez\"\n",
    "     title: \"GSB 544: Lab 7\"\n",
    "---"
   ]
  },
  {
   "cell_type": "markdown",
   "id": "4d811c1d",
   "metadata": {},
   "source": [
    "# Lab 7: Heart Attack\n",
    "\n",
    "### The Data"
   ]
  },
  {
   "cell_type": "code",
   "execution_count": 1,
   "id": "8bfc0e8c",
   "metadata": {},
   "outputs": [],
   "source": [
    "import pandas as pd\n",
    "import numpy as np\n",
    "from plotnine import *\n",
    "from sklearn.model_selection import train_test_split, cross_val_score, GridSearchCV\n",
    "from sklearn.pipeline import Pipeline\n",
    "from sklearn.compose import ColumnTransformer, make_column_selector\n",
    "from sklearn.preprocessing import FunctionTransformer\n",
    "from sklearn.preprocessing import StandardScaler, OneHotEncoder, PolynomialFeatures, MinMaxScaler\n",
    "from sklearn.linear_model import LinearRegression, Ridge, Lasso, ElasticNet, LogisticRegression\n",
    "from sklearn.metrics import mean_squared_error, r2_score\n",
    "from sklearn.neighbors import KNeighborsClassifier\n",
    "from sklearn.tree import DecisionTreeRegressor, DecisionTreeClassifier\n",
    "from sklearn.model_selection import cross_val_predict\n",
    "from sklearn.metrics import confusion_matrix, precision_score, recall_score\n",
    "from sklearn.metrics import make_scorer, roc_auc_score\n",
    "\n",
    "import warnings\n",
    "from sklearn.exceptions import ConvergenceWarning"
   ]
  },
  {
   "cell_type": "code",
   "execution_count": 2,
   "id": "0b536b98",
   "metadata": {
    "scrolled": true
   },
   "outputs": [
    {
     "data": {
      "text/html": [
       "<div>\n",
       "<style scoped>\n",
       "    .dataframe tbody tr th:only-of-type {\n",
       "        vertical-align: middle;\n",
       "    }\n",
       "\n",
       "    .dataframe tbody tr th {\n",
       "        vertical-align: top;\n",
       "    }\n",
       "\n",
       "    .dataframe thead th {\n",
       "        text-align: right;\n",
       "    }\n",
       "</style>\n",
       "<table border=\"1\" class=\"dataframe\">\n",
       "  <thead>\n",
       "    <tr style=\"text-align: right;\">\n",
       "      <th></th>\n",
       "      <th>age</th>\n",
       "      <th>sex</th>\n",
       "      <th>cp</th>\n",
       "      <th>trtbps</th>\n",
       "      <th>chol</th>\n",
       "      <th>restecg</th>\n",
       "      <th>thalach</th>\n",
       "      <th>output</th>\n",
       "    </tr>\n",
       "  </thead>\n",
       "  <tbody>\n",
       "    <tr>\n",
       "      <th>0</th>\n",
       "      <td>63</td>\n",
       "      <td>1</td>\n",
       "      <td>3</td>\n",
       "      <td>145</td>\n",
       "      <td>233</td>\n",
       "      <td>0</td>\n",
       "      <td>150</td>\n",
       "      <td>1</td>\n",
       "    </tr>\n",
       "    <tr>\n",
       "      <th>1</th>\n",
       "      <td>37</td>\n",
       "      <td>1</td>\n",
       "      <td>2</td>\n",
       "      <td>130</td>\n",
       "      <td>250</td>\n",
       "      <td>1</td>\n",
       "      <td>187</td>\n",
       "      <td>1</td>\n",
       "    </tr>\n",
       "    <tr>\n",
       "      <th>2</th>\n",
       "      <td>56</td>\n",
       "      <td>1</td>\n",
       "      <td>1</td>\n",
       "      <td>120</td>\n",
       "      <td>236</td>\n",
       "      <td>1</td>\n",
       "      <td>178</td>\n",
       "      <td>1</td>\n",
       "    </tr>\n",
       "    <tr>\n",
       "      <th>3</th>\n",
       "      <td>57</td>\n",
       "      <td>0</td>\n",
       "      <td>0</td>\n",
       "      <td>120</td>\n",
       "      <td>354</td>\n",
       "      <td>1</td>\n",
       "      <td>163</td>\n",
       "      <td>1</td>\n",
       "    </tr>\n",
       "    <tr>\n",
       "      <th>4</th>\n",
       "      <td>57</td>\n",
       "      <td>1</td>\n",
       "      <td>0</td>\n",
       "      <td>140</td>\n",
       "      <td>192</td>\n",
       "      <td>1</td>\n",
       "      <td>148</td>\n",
       "      <td>1</td>\n",
       "    </tr>\n",
       "    <tr>\n",
       "      <th>...</th>\n",
       "      <td>...</td>\n",
       "      <td>...</td>\n",
       "      <td>...</td>\n",
       "      <td>...</td>\n",
       "      <td>...</td>\n",
       "      <td>...</td>\n",
       "      <td>...</td>\n",
       "      <td>...</td>\n",
       "    </tr>\n",
       "    <tr>\n",
       "      <th>268</th>\n",
       "      <td>59</td>\n",
       "      <td>1</td>\n",
       "      <td>0</td>\n",
       "      <td>164</td>\n",
       "      <td>176</td>\n",
       "      <td>0</td>\n",
       "      <td>90</td>\n",
       "      <td>0</td>\n",
       "    </tr>\n",
       "    <tr>\n",
       "      <th>269</th>\n",
       "      <td>57</td>\n",
       "      <td>0</td>\n",
       "      <td>0</td>\n",
       "      <td>140</td>\n",
       "      <td>241</td>\n",
       "      <td>1</td>\n",
       "      <td>123</td>\n",
       "      <td>0</td>\n",
       "    </tr>\n",
       "    <tr>\n",
       "      <th>270</th>\n",
       "      <td>45</td>\n",
       "      <td>1</td>\n",
       "      <td>3</td>\n",
       "      <td>110</td>\n",
       "      <td>264</td>\n",
       "      <td>1</td>\n",
       "      <td>132</td>\n",
       "      <td>0</td>\n",
       "    </tr>\n",
       "    <tr>\n",
       "      <th>271</th>\n",
       "      <td>68</td>\n",
       "      <td>1</td>\n",
       "      <td>0</td>\n",
       "      <td>144</td>\n",
       "      <td>193</td>\n",
       "      <td>1</td>\n",
       "      <td>141</td>\n",
       "      <td>0</td>\n",
       "    </tr>\n",
       "    <tr>\n",
       "      <th>272</th>\n",
       "      <td>57</td>\n",
       "      <td>0</td>\n",
       "      <td>1</td>\n",
       "      <td>130</td>\n",
       "      <td>236</td>\n",
       "      <td>0</td>\n",
       "      <td>174</td>\n",
       "      <td>0</td>\n",
       "    </tr>\n",
       "  </tbody>\n",
       "</table>\n",
       "<p>273 rows × 8 columns</p>\n",
       "</div>"
      ],
      "text/plain": [
       "     age  sex  cp  trtbps  chol  restecg  thalach  output\n",
       "0     63    1   3     145   233        0      150       1\n",
       "1     37    1   2     130   250        1      187       1\n",
       "2     56    1   1     120   236        1      178       1\n",
       "3     57    0   0     120   354        1      163       1\n",
       "4     57    1   0     140   192        1      148       1\n",
       "..   ...  ...  ..     ...   ...      ...      ...     ...\n",
       "268   59    1   0     164   176        0       90       0\n",
       "269   57    0   0     140   241        1      123       0\n",
       "270   45    1   3     110   264        1      132       0\n",
       "271   68    1   0     144   193        1      141       0\n",
       "272   57    0   1     130   236        0      174       0\n",
       "\n",
       "[273 rows x 8 columns]"
      ]
     },
     "execution_count": 2,
     "metadata": {},
     "output_type": "execute_result"
    }
   ],
   "source": [
    "ha = pd.read_csv(\"https://www.dropbox.com/s/aohbr6yb9ifmc8w/heart_attack.csv?dl=1\")\n",
    "ha = ha.dropna()\n",
    "#No missing values, might check for outliers\n",
    "ha"
   ]
  },
  {
   "cell_type": "markdown",
   "id": "4ab50992",
   "metadata": {},
   "source": [
    "### Outliers\n",
    "Went through and calculated any outliers for each of the numerical variables. While there were a handful in each of the variables, none of the values seemed to be a calculation or measurement error, so I did not remove any outliers"
   ]
  },
  {
   "cell_type": "code",
   "execution_count": 3,
   "id": "2218ea88",
   "metadata": {},
   "outputs": [],
   "source": [
    "ha.rename(columns={'output': 'atrisk', 'cp': 'chestpain', 'trtbps': 'rbp', 'thalach': 'maxrate'}, inplace = True)\n",
    "ha['atrisk'] = ha['atrisk'].astype('category')\n",
    "ha['sex'] = ha['sex'].astype('category')\n",
    "ha['chestpain'] = ha['chestpain'].astype('category')\n",
    "ha['restecg'] = ha['restecg'].astype('category')"
   ]
  },
  {
   "cell_type": "markdown",
   "id": "7b7200cd",
   "metadata": {},
   "source": [
    "# Part One: Fitting Models\n",
    "\n",
    "This section asks you to create a final best model for each of the model types studied this week. For each, you should:\n",
    "\n",
    "- Find the best model based on ROC AUC for predicting the target variable.\n",
    "- Report the (cross-validated!) ROC AUC metric.\n",
    "- Fit the final model.\n",
    "- Output a confusion matrix; that is, the counts of how many observations fell into each predicted class for each true class.\n",
    "- (Where applicable) Interpret the coefficients and/or estimates produced by the model fit.\n",
    "\n",
    "You should certainly try multiple model pipelines to find the best model. You do not need to include the output for every attempted model, but you should describe all of the models explored. You should include any hyperparameter tuning steps in your writeup as well."
   ]
  },
  {
   "cell_type": "code",
   "execution_count": 4,
   "id": "4ee6bbc7",
   "metadata": {},
   "outputs": [],
   "source": [
    "X = ha.drop([\"atrisk\"], axis = 1)\n",
    "y = ha[\"atrisk\"]\n",
    "\n",
    "X_train, X_test, y_train, y_test = train_test_split(X, y, test_size=0.6, random_state=13)"
   ]
  },
  {
   "cell_type": "code",
   "execution_count": 12,
   "id": "9c4eebab",
   "metadata": {},
   "outputs": [],
   "source": [
    "ct = ColumnTransformer(\n",
    "  [\n",
    "    (\"dummify\", OneHotEncoder(sparse_output = False, handle_unknown='ignore'),\n",
    "    make_column_selector(dtype_include='category')), \n",
    "    (\"standardize\", StandardScaler(),make_column_selector(dtype_include=np.number)) \n",
    "  ],\n",
    "  remainder = \"passthrough\"\n",
    ")\n",
    "\n",
    "#Attempted another feature set where I did not include 'sex', but it only reduced my scores\n",
    "ct2 = ColumnTransformer(\n",
    "  [\n",
    "    (\"keep\", FunctionTransformer(lambda x: x), [\"chestpain\", \"restecg\", \"rbp\", \"age\", \"chol\", \"maxrate\"]),\n",
    "    (\"dummify\", OneHotEncoder(sparse_output = False, handle_unknown='ignore'),\n",
    "    make_column_selector(dtype_include='category')), \n",
    "    (\"standardize\", StandardScaler(),make_column_selector(dtype_include=np.number)) \n",
    "  ],\n",
    "  remainder = \"passthrough\"\n",
    ")"
   ]
  },
  {
   "cell_type": "markdown",
   "id": "57e92ea1",
   "metadata": {},
   "source": [
    "## Q1: KNN"
   ]
  },
  {
   "cell_type": "code",
   "execution_count": 6,
   "id": "d34dee0d",
   "metadata": {},
   "outputs": [
    {
     "data": {
      "text/html": [
       "<div>\n",
       "<style scoped>\n",
       "    .dataframe tbody tr th:only-of-type {\n",
       "        vertical-align: middle;\n",
       "    }\n",
       "\n",
       "    .dataframe tbody tr th {\n",
       "        vertical-align: top;\n",
       "    }\n",
       "\n",
       "    .dataframe thead th {\n",
       "        text-align: right;\n",
       "    }\n",
       "</style>\n",
       "<table border=\"1\" class=\"dataframe\">\n",
       "  <thead>\n",
       "    <tr style=\"text-align: right;\">\n",
       "      <th></th>\n",
       "      <th>knn values</th>\n",
       "      <th>ROC AUC scores</th>\n",
       "    </tr>\n",
       "  </thead>\n",
       "  <tbody>\n",
       "    <tr>\n",
       "      <th>0</th>\n",
       "      <td>1</td>\n",
       "      <td>0.702285</td>\n",
       "    </tr>\n",
       "    <tr>\n",
       "      <th>1</th>\n",
       "      <td>2</td>\n",
       "      <td>0.742794</td>\n",
       "    </tr>\n",
       "    <tr>\n",
       "      <th>2</th>\n",
       "      <td>4</td>\n",
       "      <td>0.776119</td>\n",
       "    </tr>\n",
       "    <tr>\n",
       "      <th>3</th>\n",
       "      <td>8</td>\n",
       "      <td>0.791621</td>\n",
       "    </tr>\n",
       "    <tr>\n",
       "      <th>4</th>\n",
       "      <td>12</td>\n",
       "      <td>0.808792</td>\n",
       "    </tr>\n",
       "    <tr>\n",
       "      <th>5</th>\n",
       "      <td>16</td>\n",
       "      <td>0.819611</td>\n",
       "    </tr>\n",
       "    <tr>\n",
       "      <th>6</th>\n",
       "      <td>24</td>\n",
       "      <td>0.821157</td>\n",
       "    </tr>\n",
       "    <tr>\n",
       "      <th>7</th>\n",
       "      <td>36</td>\n",
       "      <td>0.814428</td>\n",
       "    </tr>\n",
       "    <tr>\n",
       "      <th>8</th>\n",
       "      <td>48</td>\n",
       "      <td>0.824325</td>\n",
       "    </tr>\n",
       "    <tr>\n",
       "      <th>9</th>\n",
       "      <td>96</td>\n",
       "      <td>0.812824</td>\n",
       "    </tr>\n",
       "  </tbody>\n",
       "</table>\n",
       "</div>"
      ],
      "text/plain": [
       "   knn values  ROC AUC scores\n",
       "0           1        0.702285\n",
       "1           2        0.742794\n",
       "2           4        0.776119\n",
       "3           8        0.791621\n",
       "4          12        0.808792\n",
       "5          16        0.819611\n",
       "6          24        0.821157\n",
       "7          36        0.814428\n",
       "8          48        0.824325\n",
       "9          96        0.812824"
      ]
     },
     "execution_count": 6,
     "metadata": {},
     "output_type": "execute_result"
    }
   ],
   "source": [
    "#Optimizing for K\n",
    "knn_pipeline_1 = Pipeline(\n",
    "  [(\"preprocessing\", ct),\n",
    "  (\"knn\", KNeighborsClassifier())]\n",
    ")\n",
    "\n",
    "knn_values = [1, 2, 4, 8, 12, 16, 24, 36, 48, 96]\n",
    "\n",
    "knn_param = {'knn__n_neighbors': knn_values}\n",
    "\n",
    "gscv =  GridSearchCV(knn_pipeline_1, knn_param, cv=5, scoring = 'roc_auc')\n",
    "\n",
    "gscv_fitted = gscv.fit(X, y)\n",
    "\n",
    "roc_auc_scores = gscv_fitted.cv_results_['mean_test_score']\n",
    "\n",
    "pd.DataFrame(data={\"knn values\": knn_values, \"ROC AUC scores\": roc_auc_scores})"
   ]
  },
  {
   "cell_type": "code",
   "execution_count": 7,
   "id": "a7632ddd",
   "metadata": {},
   "outputs": [
    {
     "name": "stdout",
     "output_type": "stream",
     "text": [
      "KNN ROC/AUC: 0.8243246684350133\n",
      "Confusion Matrix:\n",
      "[[70  4]\n",
      " [41 49]]\n"
     ]
    }
   ],
   "source": [
    "knn_optimal_pipeline = Pipeline(\n",
    "  [(\"preprocessing\", ct),\n",
    "  (\"knn\", KNeighborsClassifier(n_neighbors=48))]\n",
    ")\n",
    "\n",
    "knn_model = knn_optimal_pipeline.fit(X_train, y_train)\n",
    "\n",
    "knnscore = cross_val_score(knn_model, X, y, cv=5, scoring='roc_auc')\n",
    "\n",
    "knn_rocauc = knnscore.mean()\n",
    "\n",
    "print(f\"KNN ROC/AUC: {knn_rocauc}\")\n",
    "\n",
    "y_pred_knn = knn_optimal_pipeline.predict(X_test)\n",
    "\n",
    "#Confusion matrix\n",
    "knnconf_matrix = confusion_matrix(y_test, y_pred_knn)\n",
    "\n",
    "# Print the confusion matrix\n",
    "print(\"Confusion Matrix:\")\n",
    "print(knnconf_matrix)"
   ]
  },
  {
   "cell_type": "markdown",
   "id": "4aa173df",
   "metadata": {},
   "source": [
    "##### Q1: KNN Results\n",
    "It seems that the best KNN Model is the one with k = 48, resulting in an ROC-AUC value of .8243. This is closer to perfect than it is to being completely random, but it could certainly have a better score."
   ]
  },
  {
   "cell_type": "markdown",
   "id": "06082a07",
   "metadata": {},
   "source": [
    "## Q2: Logistic Regression"
   ]
  },
  {
   "cell_type": "code",
   "execution_count": 8,
   "id": "c4ed87f6",
   "metadata": {},
   "outputs": [
    {
     "name": "stdout",
     "output_type": "stream",
     "text": [
      "Logistic Regression ROC/AUC: 0.864367816091954\n",
      "Confusion Matrix:\n",
      "[[63 11]\n",
      " [23 67]]\n"
     ]
    }
   ],
   "source": [
    "log_pipeline = Pipeline(\n",
    "  [(\"preprocessing\", ct),\n",
    "  (\"log_regression\", LogisticRegression())]\n",
    ")\n",
    "\n",
    "log_fitted = log_pipeline.fit(X_train, y_train)\n",
    "\n",
    "#Scores\n",
    "log_scores = cross_val_score(log_fitted, X, y, cv=5, scoring='roc_auc')\n",
    "\n",
    "log_rocauc = log_scores.mean()\n",
    "\n",
    "print(f\"Logistic Regression ROC/AUC: {log_rocauc}\")\n",
    "\n",
    "y_pred_log = log_pipeline.predict(X_test)\n",
    "\n",
    "#Confusion matrix\n",
    "logconf_matrix = confusion_matrix(y_test, y_pred_log)\n",
    "\n",
    "# Print the confusion matrix\n",
    "print(\"Confusion Matrix:\")\n",
    "print(logconf_matrix)"
   ]
  },
  {
   "cell_type": "code",
   "execution_count": 24,
   "id": "4aba2a9b",
   "metadata": {},
   "outputs": [
    {
     "name": "stdout",
     "output_type": "stream",
     "text": [
      "Logistic Model coefficients:\n",
      "dummify__sex_0: 0.7022037026424545\n",
      "dummify__sex_1: -0.7022053440371269\n",
      "dummify__chestpain_0: -1.2049569286035926\n",
      "dummify__chestpain_1: 0.7430253536682061\n",
      "dummify__chestpain_2: 0.5744431022562854\n",
      "dummify__chestpain_3: -0.11251316871557075\n",
      "dummify__restecg_0: -0.09398392481628334\n",
      "dummify__restecg_1: 0.09398228342161148\n",
      "standardize__age: -0.3569989104816124\n",
      "standardize__rbp: -0.18685471578381188\n",
      "standardize__chol: 0.05708206695894269\n",
      "standardize__maxrate: 0.5877133788747588\n"
     ]
    }
   ],
   "source": [
    "# Coefficients\n",
    "logistic_model = log_pipeline.named_steps['log_regression']\n",
    "\n",
    "# Retrieve the coefficients and feature names\n",
    "coefficients = logistic_model.coef_[0]\n",
    "\n",
    "feature_names = ct.get_feature_names_out()\n",
    "\n",
    "# Print coefficients with feature names\n",
    "print(\"Logistic Model coefficients:\")\n",
    "for name, coef in zip(feature_names, coefficients):\n",
    "    print(f\"{name}: {coef}\")"
   ]
  },
  {
   "cell_type": "markdown",
   "id": "7b5d3d9e",
   "metadata": {},
   "source": [
    "##### Q2: Logistic Regression Results\n",
    "It seems that the best KNN Model is the one with k = 48, resulting in an ROC-AUC value of .8243. This is closer to perfect than it is to being completely random, but it could certainly have a better score."
   ]
  },
  {
   "cell_type": "markdown",
   "id": "6f4a4562",
   "metadata": {},
   "source": [
    "## Q3: Decision Tree"
   ]
  },
  {
   "cell_type": "code",
   "execution_count": 20,
   "id": "0d425ed2",
   "metadata": {},
   "outputs": [
    {
     "data": {
      "text/html": [
       "<div>\n",
       "<style scoped>\n",
       "    .dataframe tbody tr th:only-of-type {\n",
       "        vertical-align: middle;\n",
       "    }\n",
       "\n",
       "    .dataframe tbody tr th {\n",
       "        vertical-align: top;\n",
       "    }\n",
       "\n",
       "    .dataframe thead th {\n",
       "        text-align: right;\n",
       "    }\n",
       "</style>\n",
       "<table border=\"1\" class=\"dataframe\">\n",
       "  <thead>\n",
       "    <tr style=\"text-align: right;\">\n",
       "      <th></th>\n",
       "      <th>min_samples_leaf</th>\n",
       "      <th>ROC AUC Scores</th>\n",
       "    </tr>\n",
       "  </thead>\n",
       "  <tbody>\n",
       "    <tr>\n",
       "      <th>0</th>\n",
       "      <td>1</td>\n",
       "      <td>0.699977</td>\n",
       "    </tr>\n",
       "    <tr>\n",
       "      <th>1</th>\n",
       "      <td>5</td>\n",
       "      <td>0.781382</td>\n",
       "    </tr>\n",
       "    <tr>\n",
       "      <th>2</th>\n",
       "      <td>10</td>\n",
       "      <td>0.795710</td>\n",
       "    </tr>\n",
       "    <tr>\n",
       "      <th>3</th>\n",
       "      <td>15</td>\n",
       "      <td>0.801327</td>\n",
       "    </tr>\n",
       "    <tr>\n",
       "      <th>4</th>\n",
       "      <td>30</td>\n",
       "      <td>0.813252</td>\n",
       "    </tr>\n",
       "    <tr>\n",
       "      <th>5</th>\n",
       "      <td>32</td>\n",
       "      <td>0.815343</td>\n",
       "    </tr>\n",
       "    <tr>\n",
       "      <th>6</th>\n",
       "      <td>35</td>\n",
       "      <td>0.819434</td>\n",
       "    </tr>\n",
       "    <tr>\n",
       "      <th>7</th>\n",
       "      <td>38</td>\n",
       "      <td>0.792586</td>\n",
       "    </tr>\n",
       "    <tr>\n",
       "      <th>8</th>\n",
       "      <td>40</td>\n",
       "      <td>0.792586</td>\n",
       "    </tr>\n",
       "  </tbody>\n",
       "</table>\n",
       "</div>"
      ],
      "text/plain": [
       "   min_samples_leaf  ROC AUC Scores\n",
       "0                 1        0.699977\n",
       "1                 5        0.781382\n",
       "2                10        0.795710\n",
       "3                15        0.801327\n",
       "4                30        0.813252\n",
       "5                32        0.815343\n",
       "6                35        0.819434\n",
       "7                38        0.792586\n",
       "8                40        0.792586"
      ]
     },
     "execution_count": 20,
     "metadata": {},
     "output_type": "execute_result"
    }
   ],
   "source": [
    "#Optimizing for decision tree\n",
    "decision_tree_pipeline = Pipeline(\n",
    "  [(\"preprocessing\", ct),\n",
    "  (\"decision_tree_classification\", DecisionTreeClassifier())]\n",
    ")\n",
    "\n",
    "param_decision_tree = {\n",
    "    'decision_tree_classification__min_samples_leaf': (1, 5, 10, 15, 30, 32, 35, 38, 40)\n",
    "}\n",
    "\n",
    "gscv = GridSearchCV(decision_tree_pipeline, param_decision_tree, cv = 5, scoring='roc_auc')\n",
    "\n",
    "gscv_fitted = gscv.fit(X, y)\n",
    "\n",
    "# Extract the parameters and corresponding ROC AUC scores\n",
    "params = gscv_fitted.cv_results_['params']\n",
    "roc_auc_scores = gscv_fitted.cv_results_['mean_test_score']\n",
    "\n",
    "# Create a DataFrame\n",
    "pd.DataFrame({\"min_samples_leaf\": [param['decision_tree_classification__min_samples_leaf'] for param in params],\n",
    "                          \"ROC AUC Scores\": roc_auc_scores})"
   ]
  },
  {
   "cell_type": "code",
   "execution_count": 30,
   "id": "2d4545ae",
   "metadata": {
    "scrolled": true
   },
   "outputs": [
    {
     "name": "stdout",
     "output_type": "stream",
     "text": [
      "Decision Tree ROC/AUC: 0.8194337754199823\n",
      "Confusion Matrix:\n",
      "[[56 18]\n",
      " [22 68]]\n"
     ]
    }
   ],
   "source": [
    "#Optimal Decision Tree model\n",
    "\n",
    "decision_tree_optimal_pipeline = Pipeline(\n",
    "  [(\"preprocessing\", ct),\n",
    "  (\"decision_tree_classifier\", DecisionTreeClassifier(min_samples_leaf = 35))]\n",
    ")\n",
    "\n",
    "# Fit the pipeline on the data\n",
    "decision_tree_optimal_pipeline.fit(X, y)\n",
    "\n",
    "decision_tree_optimal_pipeline_fitted = decision_tree_optimal_pipeline.fit(X_train, y_train)\n",
    "y_pred_tree = decision_tree_optimal_pipeline_fitted.predict(X_test)\n",
    "\n",
    "tree_model = decision_tree_optimal_pipeline_fitted.fit(X_train, y_train)\n",
    "\n",
    "tree_score = cross_val_score(tree_model, X, y, cv=5, scoring='roc_auc')\n",
    "\n",
    "tree_rocauc = tree_score.mean()\n",
    "\n",
    "print(f\"Decision Tree ROC/AUC: {tree_rocauc}\")\n",
    "\n",
    "decision_tree_conf_matrix = confusion_matrix(y_test, y_pred_tree)\n",
    "\n",
    "\n",
    "print(\"Confusion Matrix:\")\n",
    "print(decision_tree_conf_matrix)"
   ]
  },
  {
   "cell_type": "code",
   "execution_count": 32,
   "id": "9e43a08c",
   "metadata": {},
   "outputs": [
    {
     "data": {
      "image/png": "[encoded data removed]",
      "text/plain": [
       "<Figure size 1000x600 with 1 Axes>"
      ]
     },
     "metadata": {},
     "output_type": "display_data"
    }
   ],
   "source": [
    "from sklearn.tree import plot_tree\n",
    "import matplotlib.pyplot as plt\n",
    "\n",
    "# Extract the feature names from the preprocessing step\n",
    "feature_names = decision_tree_optimal_pipeline.named_steps['preprocessing'].get_feature_names_out(input_features=X.columns)\n",
    "\n",
    "# Convert the array to a list\n",
    "feature_names_list = feature_names.tolist()\n",
    "\n",
    "# Extract the DecisionTreeClassifier model from the pipeline\n",
    "decision_tree_model = decision_tree_optimal_pipeline.named_steps['decision_tree_classifier']\n",
    "\n",
    "# Plot the tree\n",
    "plt.figure(figsize=(10, 6))\n",
    "plot_tree(decision_tree_model, \n",
    "          filled=True, \n",
    "          feature_names=feature_names_list,\n",
    "          class_names=['Not at Risk', 'At Risk'])\n",
    "plt.show()"
   ]
  },
  {
   "cell_type": "markdown",
   "id": "d226d618",
   "metadata": {},
   "source": [
    "##### Q3: Decision Tree Results\n",
    "The best ROC-AUC score is .8194 with min_samples_leaf = 35. It is a somewhat effective model, but the least effective of the 3 tested. "
   ]
  },
  {
   "cell_type": "markdown",
   "id": "29b9dad3",
   "metadata": {},
   "source": [
    "## Q4: Interpretation\n",
    "\n",
    "Which predictors were most important to predicting heart attack risk?"
   ]
  },
  {
   "cell_type": "markdown",
   "id": "62451ed7",
   "metadata": {},
   "source": [
    "- Sex was a significant predictor, as its coefficients were fairly large at +.7022 (male) and -.7022 (female). This suggests that being male is associated with a higher likelihood of being 'at risk', while being female associated with a lower likelihood. This seems to make sense, considering (anecdotally) more men are known to be at risk for a heart attack.\n",
    "\n",
    "- The dummify__chestpain_0 variable was the only negative of the Chest Pain category, at -1.205. This seems to suggest that anything above a 0 in this category is associated with a higher likelihood of being at risk, since they are all positive coefficients.\n",
    "\n",
    "- Max heart rate during exercise also seems to have a fairly significant effect, as its coefficient is 0.588, not the largest but still something to consider. "
   ]
  },
  {
   "cell_type": "markdown",
   "id": "a7518ada",
   "metadata": {},
   "source": [
    "## Q5: ROC Curve\n",
    "\n",
    "Plot the ROC Curve for your three models above."
   ]
  },
  {
   "cell_type": "code",
   "execution_count": 33,
   "id": "99a88379",
   "metadata": {},
   "outputs": [
    {
     "data": {
      "image/png": "[encoded data removed]",
      "text/plain": [
       "<Figure size 800x600 with 1 Axes>"
      ]
     },
     "metadata": {},
     "output_type": "display_data"
    },
    {
     "name": "stdout",
     "output_type": "stream",
     "text": [
      "KNN ROC AUC: 0.83\n"
     ]
    }
   ],
   "source": [
    "import matplotlib.pyplot as plt\n",
    "from sklearn.metrics import roc_curve, auc\n",
    "\n",
    "# Probability predictions\n",
    "probs = knn_model.predict_proba(X_test)\n",
    "# Positive outcomes only, 0 to 1\n",
    "probs = probs[:, 1]\n",
    "\n",
    "# ROC curve and AUC\n",
    "fpr, tpr, thresholds = roc_curve(y_test, probs)\n",
    "roc_auc = auc(fpr, tpr)\n",
    "\n",
    "# Plot\n",
    "plt.figure(figsize=(8, 6))\n",
    "plt.plot(fpr, tpr, color='navy', lw=2, label=f'ROC curve (area = {roc_auc:.2f})')\n",
    "plt.plot([0, 1], [0, 1], color='red', lw=2, linestyle='--')\n",
    "plt.xlim([0.0, 1.0])\n",
    "plt.ylim([0.0, 1.05])\n",
    "plt.xlabel('False Positive Rate')\n",
    "plt.ylabel('True Positive Rate')\n",
    "plt.title('KNN Model ROC Curve')\n",
    "plt.legend(loc=\"lower right\")\n",
    "plt.show()\n",
    "\n",
    "print(f\"KNN ROC AUC: {roc_auc:.2f}\")"
   ]
  },
  {
   "cell_type": "code",
   "execution_count": 37,
   "id": "e9f88dec",
   "metadata": {},
   "outputs": [
    {
     "data": {
      "image/png": "[encoded data removed]",
      "text/plain": [
       "<Figure size 800x600 with 1 Axes>"
      ]
     },
     "metadata": {},
     "output_type": "display_data"
    },
    {
     "name": "stdout",
     "output_type": "stream",
     "text": [
      "KNN ROC AUC: 0.87\n"
     ]
    }
   ],
   "source": [
    "# Probabilities\n",
    "probs = log_fitted.predict_proba(X_test)\n",
    "# Positive outcomes only, 0 to 1\n",
    "probs = probs[:, 1]\n",
    "\n",
    "# ROC curve and AUC\n",
    "fpr, tpr, thresholds = roc_curve(y_test, probs)\n",
    "roc_auc = auc(fpr, tpr)\n",
    "\n",
    "# Plot\n",
    "plt.figure(figsize=(8, 6))\n",
    "plt.plot(fpr, tpr, color='green', lw=2, label=f'ROC curve (area = {roc_auc:.2f})')\n",
    "plt.plot([0, 1], [0, 1], color='red', lw=2, linestyle='--')\n",
    "plt.xlim([0.0, 1.0])\n",
    "plt.ylim([0.0, 1.05])\n",
    "plt.xlabel('False Positive Rate')\n",
    "plt.ylabel('True Positive Rate')\n",
    "plt.title('Log Model ROC Curve')\n",
    "plt.legend(loc=\"lower right\")\n",
    "plt.show()\n",
    "\n",
    "print(f\"KNN ROC AUC: {roc_auc:.2f}\")"
   ]
  },
  {
   "cell_type": "code",
   "execution_count": 42,
   "id": "2b9a06ff",
   "metadata": {},
   "outputs": [
    {
     "data": {
      "image/png": "[encoded data removed]",
      "text/plain": [
       "<Figure size 800x600 with 1 Axes>"
      ]
     },
     "metadata": {},
     "output_type": "display_data"
    }
   ],
   "source": [
    "from sklearn.model_selection import cross_val_predict\n",
    "\n",
    "# Predicted probabilities from CV\n",
    "probs = cross_val_predict(decision_tree_optimal_pipeline, X, y, cv=5, method='predict_proba')\n",
    "\n",
    "# Positive outcomes only\n",
    "probs = probs[:, 1]\n",
    "\n",
    "# Compute ROC curve and AUC\n",
    "fpr, tpr, thresholds = roc_curve(y, probs)\n",
    "roc_auc = auc(fpr, tpr)\n",
    "\n",
    "# Plot\n",
    "plt.figure(figsize=(8, 6))\n",
    "plt.plot(fpr, tpr, color='yellow', lw=2, label=f'Cross-Validated ROC curve (area = {roc_auc:.2f})')\n",
    "plt.plot([0, 1], [0, 1], color='red', lw=2, linestyle='--')\n",
    "plt.xlim([0.0, 1.0])\n",
    "plt.ylim([0.0, 1.05])\n",
    "plt.xlabel('False Positive Rate')\n",
    "plt.ylabel('True Positive Rate')\n",
    "plt.title('Decision Tree ROC Curve')\n",
    "plt.legend(loc=\"lower right\")\n",
    "plt.show()"
   ]
  },
  {
   "cell_type": "markdown",
   "id": "29e2fb65",
   "metadata": {},
   "source": [
    "# Part Two: Metrics\n",
    "\n",
    "Consider the following metrics:\n",
    "\n",
    "- True Positive Rate or Recall or Sensitivity = Of the observations that are truly Class A, how many were predicted to be Class A?\n",
    "- Precision or Positive Predictive Value = Of all the observations classified as Class A, how many of them were truly from Class A?\n",
    "- True Negative Rate or Specificity or Negative Predictive Value = Of all the observations classified as NOT Class A, how many were truly NOT Class A?\n",
    "\n",
    "Compute each of these metrics (cross-validated) for your three models (KNN, Logistic Regression, and Decision Tree) in Part One."
   ]
  },
  {
   "cell_type": "code",
   "execution_count": 43,
   "id": "4a9ca92d",
   "metadata": {},
   "outputs": [
    {
     "name": "stdout",
     "output_type": "stream",
     "text": [
      "KNN Precision: 0.9245283018867925\n",
      "KNN Recall (True Positive Rate): 0.5444444444444444\n",
      "KNN Specificity (True Negative Rate): 0.9459459459459459\n"
     ]
    }
   ],
   "source": [
    "#Get metrics from KNN\n",
    "tn, fp, fn, tp = knnconf_matrix.ravel()\n",
    "\n",
    "#Calc metrics\n",
    "knnprecision = tp / (tp + fp)  \n",
    "knnrecall = tp / (tp + fn)    \n",
    "knnspecificity = tn / (tn + fp)  \n",
    "\n",
    "\n",
    "print(f\"KNN Precision: {knnprecision}\")\n",
    "print(f\"KNN Recall (True Positive Rate): {knnrecall}\")\n",
    "print(f\"KNN Specificity (True Negative Rate): {knnspecificity}\")"
   ]
  },
  {
   "cell_type": "code",
   "execution_count": 44,
   "id": "63c7fec4",
   "metadata": {},
   "outputs": [
    {
     "name": "stdout",
     "output_type": "stream",
     "text": [
      "Logistic Model Precision: 0.8589743589743589\n",
      "Logistic Model Recall (True Positive Rate): 0.7444444444444445\n",
      "Logistic Model Specificity (True Negative Rate): 0.8513513513513513\n"
     ]
    }
   ],
   "source": [
    "#Get metrics from Log model\n",
    "\n",
    "tn, fp, fn, tp = logconf_matrix.ravel()\n",
    "\n",
    "#Calc metrics\n",
    "logprecision = tp / (tp + fp)  \n",
    "logrecall = tp / (tp + fn)    \n",
    "logspecificity = tn / (tn + fp)  \n",
    "\n",
    "\n",
    "print(f\"Logistic Model Precision: {logprecision}\")\n",
    "print(f\"Logistic Model Recall (True Positive Rate): {logrecall}\")\n",
    "print(f\"Logistic Model Specificity (True Negative Rate): {logspecificity}\")"
   ]
  },
  {
   "cell_type": "code",
   "execution_count": 46,
   "id": "7a6d4395",
   "metadata": {},
   "outputs": [
    {
     "name": "stdout",
     "output_type": "stream",
     "text": [
      "Decision Tree Precision: 0.7906976744186046\n",
      "Decision Tree Recall (True Positive Rate): 0.7555555555555555\n",
      "Decision Tree Specificity (True Negative Rate): 0.7567567567567568\n"
     ]
    }
   ],
   "source": [
    "#Get metrics from DT\n",
    "\n",
    "tn, fp, fn, tp = decision_tree_conf_matrix.ravel()\n",
    "\n",
    "#Calc metrics\n",
    "dtprecision = tp / (tp + fp)  \n",
    "dtrecall = tp / (tp + fn)    \n",
    "dtspecificity = tn / (tn + fp)  \n",
    "\n",
    "\n",
    "print(f\"Decision Tree Precision: {dtprecision}\")\n",
    "print(f\"Decision Tree Recall (True Positive Rate): {dtrecall}\")\n",
    "print(f\"Decision Tree Specificity (True Negative Rate): {dtspecificity}\")"
   ]
  },
  {
   "cell_type": "markdown",
   "id": "835b7134",
   "metadata": {},
   "source": [
    "# Part Three: Discussion\n",
    "\n",
    "Suppose you have been hired by a hospital to create classification models for heart attack risk.\n",
    "\n",
    "The following questions give a possible scenario for why the hospital is interested in these models. For each one, discuss:\n",
    "- Which metric(s) you would use for model selection and why.\n",
    "- Which of your final models (Part One Q1-3) you would recommend to the hospital, and why.\n",
    "- What score you should expect for your chosen metric(s) using your chosen model to predict future observations."
   ]
  },
  {
   "cell_type": "markdown",
   "id": "aab407c6",
   "metadata": {},
   "source": [
    "## Q1\n",
    "\n",
    "### The hospital faces severe lawsuits if they deem a patient to be low risk, and that patient later experiences a heart attack.\n",
    "\n",
    "- I would go with the model that has the highest True Positive Rate, meaning the highest sensitivity. This would prioritize the minimization of false negatives, meaning labeling someone as not at risk when they actually are. The Decision Tree Model just edges out Logistic Regression Model in TPR, so it would be the ideal model for this scenario.We would expect about 76% of at risk patients to be correctly identified."
   ]
  },
  {
   "cell_type": "markdown",
   "id": "41a3a13f",
   "metadata": {},
   "source": [
    "## Q2\n",
    "\n",
    "The hospital is overfull, and wants to only use bed space for patients most in need of monitoring due to heart attack risk.\n",
    "\n",
    "- This is a situation where only those that are most in need of medical attention should be labeled as at risk. Precision is important here because the hospital want to be efficient with the space they are using for people that are potentially at risk. In this case, the KNN model is clearly the most precise. About 92% of diagnoses are considered accurate."
   ]
  },
  {
   "cell_type": "markdown",
   "id": "589cc4ed",
   "metadata": {},
   "source": [
    "## Q3\n",
    "\n",
    "The hospital is studying root causes of heart attacks, and would like to understand which biological measures are associated with heart attack risk.\n",
    "\n",
    "- A situation like this would require us to be able to interpret the coefficients of a model, which I was only able to do with the Logistic Regression Model. A decision tree model could also allow for this, but since the Logistic Regression Model had a better ROC AUC score, I would go with that instead."
   ]
  },
  {
   "cell_type": "markdown",
   "id": "b5dab62c",
   "metadata": {},
   "source": [
    "## Q4\n",
    "\n",
    "The hospital is training a new batch of doctors, and they would like to compare the diagnoses of these doctors to the predictions given by the algorithm to measure the ability of new doctors to diagnose patients.\n",
    "\n",
    "- It would be nice to use a model that has both a good TPR and Precision rate for this scenario, so we can compare our results to the diagnoses ofr new doctors. The KNN or Logistic regression models both have a high Precision, with KNN being much larger, Log Reg being smaller, but the opposite for their sensitivities."
   ]
  },
  {
   "cell_type": "markdown",
   "id": "98bd0d1d",
   "metadata": {},
   "source": [
    "# Part Four: Validation\n",
    "\n",
    "Before sharing the dataset with you, I set aside a random 10% of the observations to serve as a final validation set.\n",
    "\n",
    "ha_validation = pd.read_csv(\"https://www.dropbox.com/s/jkwqdiyx6o6oad0/heart_attack_validation.csv?dl=1\")\n",
    "\n",
    "Use each of your final models in Part One Q1-3, predict the target variable in the validation dataset.\n",
    "\n",
    "For each, output a confusion matrix, and report the ROC AUC, the precision, and the recall.\n",
    "\n",
    "Compare these values to the cross-validated estimates you reported in Part One and Part Two. Did our measure of model success turn out to be approximately correct for the validation data?"
   ]
  },
  {
   "cell_type": "code",
   "execution_count": 53,
   "id": "b6e79289",
   "metadata": {
    "scrolled": true
   },
   "outputs": [
    {
     "data": {
      "text/html": [
       "<div>\n",
       "<style scoped>\n",
       "    .dataframe tbody tr th:only-of-type {\n",
       "        vertical-align: middle;\n",
       "    }\n",
       "\n",
       "    .dataframe tbody tr th {\n",
       "        vertical-align: top;\n",
       "    }\n",
       "\n",
       "    .dataframe thead th {\n",
       "        text-align: right;\n",
       "    }\n",
       "</style>\n",
       "<table border=\"1\" class=\"dataframe\">\n",
       "  <thead>\n",
       "    <tr style=\"text-align: right;\">\n",
       "      <th></th>\n",
       "      <th>age</th>\n",
       "      <th>sex</th>\n",
       "      <th>chestpain</th>\n",
       "      <th>rbp</th>\n",
       "      <th>chol</th>\n",
       "      <th>restecg</th>\n",
       "      <th>maxrate</th>\n",
       "      <th>atrisk</th>\n",
       "    </tr>\n",
       "  </thead>\n",
       "  <tbody>\n",
       "    <tr>\n",
       "      <th>0</th>\n",
       "      <td>41</td>\n",
       "      <td>0</td>\n",
       "      <td>1</td>\n",
       "      <td>130</td>\n",
       "      <td>204</td>\n",
       "      <td>0</td>\n",
       "      <td>172</td>\n",
       "      <td>1</td>\n",
       "    </tr>\n",
       "    <tr>\n",
       "      <th>1</th>\n",
       "      <td>64</td>\n",
       "      <td>1</td>\n",
       "      <td>3</td>\n",
       "      <td>110</td>\n",
       "      <td>211</td>\n",
       "      <td>0</td>\n",
       "      <td>144</td>\n",
       "      <td>1</td>\n",
       "    </tr>\n",
       "    <tr>\n",
       "      <th>2</th>\n",
       "      <td>59</td>\n",
       "      <td>1</td>\n",
       "      <td>0</td>\n",
       "      <td>135</td>\n",
       "      <td>234</td>\n",
       "      <td>1</td>\n",
       "      <td>161</td>\n",
       "      <td>1</td>\n",
       "    </tr>\n",
       "    <tr>\n",
       "      <th>3</th>\n",
       "      <td>42</td>\n",
       "      <td>1</td>\n",
       "      <td>0</td>\n",
       "      <td>140</td>\n",
       "      <td>226</td>\n",
       "      <td>1</td>\n",
       "      <td>178</td>\n",
       "      <td>1</td>\n",
       "    </tr>\n",
       "    <tr>\n",
       "      <th>4</th>\n",
       "      <td>40</td>\n",
       "      <td>1</td>\n",
       "      <td>3</td>\n",
       "      <td>140</td>\n",
       "      <td>199</td>\n",
       "      <td>1</td>\n",
       "      <td>178</td>\n",
       "      <td>1</td>\n",
       "    </tr>\n",
       "  </tbody>\n",
       "</table>\n",
       "</div>"
      ],
      "text/plain": [
       "   age sex chestpain  rbp  chol restecg  maxrate atrisk\n",
       "0   41   0         1  130   204       0      172      1\n",
       "1   64   1         3  110   211       0      144      1\n",
       "2   59   1         0  135   234       1      161      1\n",
       "3   42   1         0  140   226       1      178      1\n",
       "4   40   1         3  140   199       1      178      1"
      ]
     },
     "execution_count": 53,
     "metadata": {},
     "output_type": "execute_result"
    }
   ],
   "source": [
    "# Load in validation set and apply same changes to assess prediction performance\n",
    "validation = pd.read_csv(\"https://www.dropbox.com/s/jkwqdiyx6o6oad0/heart_attack_validation.csv?dl=1\")\n",
    "validation = validation.dropna()\n",
    "validation.rename(columns={'output': 'atrisk', 'cp': 'chestpain', 'trtbps': 'rbp', 'thalach': 'maxrate'}, inplace=True)\n",
    "validation['atrisk'] = validation['atrisk'].astype('category')\n",
    "validation['sex'] = validation['sex'].astype('category')\n",
    "validation['chestpain'] = validation['chestpain'].astype('category')\n",
    "validation['restecg'] = validation['restecg'].astype('category')\n",
    "validation.head()"
   ]
  },
  {
   "cell_type": "code",
   "execution_count": 54,
   "id": "716709ac",
   "metadata": {},
   "outputs": [],
   "source": [
    "X_val = validation.drop([\"atrisk\"],axis=1)\n",
    "y_val = validation[\"atrisk\"]"
   ]
  },
  {
   "cell_type": "markdown",
   "id": "a402aed6",
   "metadata": {},
   "source": [
    "## KNN Validation"
   ]
  },
  {
   "cell_type": "code",
   "execution_count": 60,
   "id": "0b108a86",
   "metadata": {},
   "outputs": [
    {
     "name": "stdout",
     "output_type": "stream",
     "text": [
      "KNN Validation Confusion Matrix:\n",
      "[[11  0]\n",
      " [ 9 10]]\n",
      "KNN Validation ROC AUC: 0.8349282296650719\n",
      "KNN Validation Precision: 1.0\n",
      "KNN Validation Recall: 0.5263157894736842\n"
     ]
    }
   ],
   "source": [
    "knn_val_pred = knn_optimal_pipeline.predict(X_val)\n",
    "knn_val_pred_proba = knn_optimal_pipeline.predict_proba(X_val)[:, 1]  \n",
    "\n",
    "# Calculate metrics\n",
    "knn_val_roc_auc = roc_auc_score(y_val, knn_val_pred_proba)\n",
    "knn_val_precision = precision_score(y_val, knn_val_pred)\n",
    "knn_val_recall = recall_score(y_val, knn_val_pred)\n",
    "\n",
    "# Confusion Matrix\n",
    "knn_val_conf_matrix = confusion_matrix(y_val, knn_val_pred)\n",
    "\n",
    "# Print results\n",
    "print(\"KNN Validation Confusion Matrix:\")\n",
    "print(knn_val_conf_matrix)\n",
    "print(f\"KNN Validation ROC AUC: {knn_val_roc_auc}\")\n",
    "print(f\"KNN Validation Precision: {knn_val_precision}\")\n",
    "print(f\"KNN Validation Recall: {knn_val_recall}\")"
   ]
  },
  {
   "cell_type": "markdown",
   "id": "88e194d6",
   "metadata": {},
   "source": [
    "#### Results\n",
    "\n",
    "ROC AUC seemed to improve slightly, while precision improved dramatically, up to 100% The only concern here is that it had a very low True Positive Rate, which could be a concern in some of the scenarios above."
   ]
  },
  {
   "cell_type": "markdown",
   "id": "2e9e1676",
   "metadata": {},
   "source": [
    "## Logistic Regression Validation"
   ]
  },
  {
   "cell_type": "code",
   "execution_count": 58,
   "id": "6a347408",
   "metadata": {},
   "outputs": [
    {
     "name": "stdout",
     "output_type": "stream",
     "text": [
      "LOG Validation Confusion Matrix:\n",
      "[[ 9  2]\n",
      " [ 6 13]]\n",
      "LOG Validation ROC AUC: 0.8708133971291866\n",
      "LOG Validation Precision: 0.8666666666666667\n",
      "LOG Validation Recall: 0.6842105263157895\n"
     ]
    }
   ],
   "source": [
    "# Validation\n",
    "log_val_pred = log_pipeline.predict(X_val)\n",
    "log_val_pred_proba = log_pipeline.predict_proba(X_val)[:, 1]  \n",
    "\n",
    "# Calculate metrics\n",
    "log_val_roc_auc = roc_auc_score(y_val, log_val_pred_proba)\n",
    "log_val_precision = precision_score(y_val, log_val_pred)\n",
    "log_val_recall = recall_score(y_val, log_val_pred)\n",
    "\n",
    "# Confusion Matrix\n",
    "log_val_conf_matrix = confusion_matrix(y_val, log_val_pred)\n",
    "\n",
    "# Print results\n",
    "print(\"LOG Validation Confusion Matrix:\")\n",
    "print(log_val_conf_matrix)\n",
    "print(f\"LOG Validation ROC AUC: {log_val_roc_auc}\")\n",
    "print(f\"LOG Validation Precision: {log_val_precision}\")\n",
    "print(f\"LOG Validation Recall: {log_val_recall}\")"
   ]
  },
  {
   "cell_type": "markdown",
   "id": "9ba95d37",
   "metadata": {},
   "source": [
    "#### Results\n",
    "\n",
    "ROC AUC and Precision barely improved at all, while recall dropped from the 70s down to 68. This doesn't seem to make the Logistic Regression model very promising, which is unfortunate as it had the highest ROC AUC score."
   ]
  },
  {
   "cell_type": "code",
   "execution_count": 61,
   "id": "570371a3",
   "metadata": {},
   "outputs": [
    {
     "name": "stdout",
     "output_type": "stream",
     "text": [
      "DT Validation Confusion Matrix:\n",
      "[[10  1]\n",
      " [ 5 14]]\n",
      "DT Validation ROC AUC: 0.8229665071770335\n",
      "DT Validation Precision: 0.9333333333333333\n",
      "DT Validation Recall: 0.7368421052631579\n"
     ]
    }
   ],
   "source": [
    "# DT Validation\n",
    "dt_val_pred = decision_tree_optimal_pipeline.predict(X_val)\n",
    "dt_val_pred_proba = decision_tree_optimal_pipeline.predict_proba(X_val)[:, 1]  \n",
    "\n",
    "# Calculate metrics\n",
    "dt_val_roc_auc = roc_auc_score(y_val, dt_val_pred_proba)\n",
    "dt_val_precision = precision_score(y_val, dt_val_pred)\n",
    "dt_val_recall = recall_score(y_val, dt_val_pred)\n",
    "\n",
    "# Confusion Matrix\n",
    "dt_val_conf_matrix = confusion_matrix(y_val, dt_val_pred)\n",
    "\n",
    "# Print the results\n",
    "print(\"DT Validation Confusion Matrix:\")\n",
    "print(dt_val_conf_matrix)\n",
    "print(f\"DT Validation ROC AUC: {dt_val_roc_auc}\")\n",
    "print(f\"DT Validation Precision: {dt_val_precision}\")\n",
    "print(f\"DT Validation Recall: {dt_val_recall}\")\n"
   ]
  },
  {
   "cell_type": "markdown",
   "id": "838024f9",
   "metadata": {},
   "source": [
    "#### Results\n",
    "\n",
    "ROC AUC went up slightly from .819 to .823. However Precision went up drastically from .79 to .93, while Recall dropped from 75 to 73. This model seems to hold up as it has a very similiar ROC AUC score, improves its precision, and doesn't drop the recall too much."
   ]
  },
  {
   "cell_type": "markdown",
   "id": "df7fd668",
   "metadata": {},
   "source": [
    "# Part Five: Cohen’s Kappa\n",
    "Another common metric used in classification is Cohen’s Kappa.\n",
    "\n",
    "Use online resources to research this measurement. Calculate it for the models from Part One, Q1-3, and discuss reasons or scenarios that would make us prefer to use this metric as our measure of model success. Do your conclusions from above change if you judge your models using Cohen’s Kappa instead? Does this make sense?"
   ]
  },
  {
   "cell_type": "code",
   "execution_count": 65,
   "id": "7bd94e26",
   "metadata": {},
   "outputs": [
    {
     "name": "stdout",
     "output_type": "stream",
     "text": [
      "CK scorefor K-Nearest Neighbors: 0.4695227142035653\n",
      "CK score for Logistic Regression: 0.5873297809354647\n",
      "CK score for Decision Tree: 0.5098625224148237\n"
     ]
    }
   ],
   "source": [
    "from sklearn.metrics import cohen_kappa_score\n",
    "\n",
    "#Cohen's Kappa of each model\n",
    "knn_cohen = cohen_kappa_score(y_test,y_pred_knn)\n",
    "log_cohen = cohen_kappa_score(y_test,y_pred_log)\n",
    "dt_cohen = cohen_kappa_score(y_test,y_pred_tree)\n",
    "\n",
    "print(f\"CK scorefor K-Nearest Neighbors: {knn_cohen}\")\n",
    "print(f\"CK score for Logistic Regression: {log_cohen}\")\n",
    "print(f\"CK score for Decision Tree: {dt_cohen}\")"
   ]
  },
  {
   "cell_type": "markdown",
   "id": "c5d87411",
   "metadata": {},
   "source": [
    "The Kappa score of .47 for KNN is moderate. It might make sense to use this metric if it is costly to misdiagnose patients.\n",
    "\n",
    "The Kappy score of .59 for Logistic Regression is the best of the three models, which strengthens the original decision from parts 1 and 2 that Log Reg is the best model to use. \n",
    "\n",
    "Same thing for KNN applies to decision tree model, but also seems to indicate the conclusion from part 1 that DTree is not a substantial model."
   ]
  }
 ],
 "metadata": {
  "kernelspec": {
   "display_name": "Python 3 (ipykernel)",
   "language": "python",
   "name": "python3"
  },
  "language_info": {
   "codemirror_mode": {
    "name": "ipython",
    "version": 3
   },
   "file_extension": ".py",
   "mimetype": "text/x-python",
   "name": "python",
   "nbconvert_exporter": "python",
   "pygments_lexer": "ipython3",
   "version": "3.11.4"
  }
 },
 "nbformat": 4,
 "nbformat_minor": 5
}

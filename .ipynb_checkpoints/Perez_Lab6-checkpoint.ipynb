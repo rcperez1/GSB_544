{
 "cells": [
  {
   "cell_type": "raw",
   "id": "4cfcbb02",
   "metadata": {},
   "source": [
    "---\n",
    "format:\n",
    "  html:\n",
    "     code fold: false\n",
    "     theme: sketchy\n",
    "     self-contained: true\n",
    "     author: \"Ryan Perez\"\n",
    "---"
   ]
  },
  {
   "cell_type": "markdown",
   "id": "184ad0f4",
   "metadata": {},
   "source": [
    "# Lab 6: Variable Selection and Regularization\n",
    "## Baseball Players"
   ]
  },
  {
   "cell_type": "code",
   "execution_count": 2,
   "id": "f6c16b94",
   "metadata": {},
   "outputs": [],
   "source": [
    "import pandas as pd\n",
    "import numpy as np\n",
    "from plotnine import *\n",
    "from sklearn.model_selection import train_test_split, cross_val_score, GridSearchCV\n",
    "from sklearn.pipeline import Pipeline\n",
    "from sklearn.compose import ColumnTransformer, make_column_selector\n",
    "from sklearn.preprocessing import StandardScaler, OneHotEncoder, PolynomialFeatures, MinMaxScaler\n",
    "from sklearn.linear_model import LinearRegression, Ridge, Lasso, ElasticNet\n",
    "from sklearn.metrics import mean_squared_error, r2_score\n",
    "\n",
    "import warnings\n",
    "from sklearn.exceptions import ConvergenceWarning"
   ]
  },
  {
   "cell_type": "code",
   "execution_count": 3,
   "id": "f3d08609",
   "metadata": {},
   "outputs": [],
   "source": [
    "#Import dataset\n",
    "hitters = pd.read_csv(\"C:/Users/ryanc/Desktop/GSB_544/Week7/hitters.csv\")\n",
    "hitters = hitters.dropna()"
   ]
  },
  {
   "cell_type": "markdown",
   "id": "999ac45d",
   "metadata": {},
   "source": [
    "## Part 1: Different Model Specs\n",
    "\n",
    "### A. Regression w/o regularization\n",
    "\n"
   ]
  },
  {
   "cell_type": "code",
   "execution_count": 4,
   "id": "7a3a22b9",
   "metadata": {},
   "outputs": [],
   "source": [
    "X = hitters.drop(\"Salary\", axis = 1)\n",
    "y = hitters[\"Salary\"]\n",
    "\n",
    "lr = LinearRegression()"
   ]
  },
  {
   "cell_type": "markdown",
   "id": "96d28f5f",
   "metadata": {},
   "source": [
    "1. Create a pipeline that includes all the columns as predictors for Salary, and performs ordinary linear regression\n",
    "\n",
    "\n",
    "2. Fit this pipeline to the full dataset, and interpret a few of the most important coefficients\n",
    "\n",
    "\n",
    "3. Use cross-validation to estimate the MSE you would expect if you used this pipeline to predict 1989 salaries."
   ]
  },
  {
   "cell_type": "code",
   "execution_count": 5,
   "id": "1e3a5074",
   "metadata": {},
   "outputs": [
    {
     "data": {
      "text/html": [
       "<style>#sk-container-id-1 {color: black;}#sk-container-id-1 pre{padding: 0;}#sk-container-id-1 div.sk-toggleable {background-color: white;}#sk-container-id-1 label.sk-toggleable__label {cursor: pointer;display: block;width: 100%;margin-bottom: 0;padding: 0.3em;box-sizing: border-box;text-align: center;}#sk-container-id-1 label.sk-toggleable__label-arrow:before {content: \"▸\";float: left;margin-right: 0.25em;color: #696969;}#sk-container-id-1 label.sk-toggleable__label-arrow:hover:before {color: black;}#sk-container-id-1 div.sk-estimator:hover label.sk-toggleable__label-arrow:before {color: black;}#sk-container-id-1 div.sk-toggleable__content {max-height: 0;max-width: 0;overflow: hidden;text-align: left;background-color: #f0f8ff;}#sk-container-id-1 div.sk-toggleable__content pre {margin: 0.2em;color: black;border-radius: 0.25em;background-color: #f0f8ff;}#sk-container-id-1 input.sk-toggleable__control:checked~div.sk-toggleable__content {max-height: 200px;max-width: 100%;overflow: auto;}#sk-container-id-1 input.sk-toggleable__control:checked~label.sk-toggleable__label-arrow:before {content: \"▾\";}#sk-container-id-1 div.sk-estimator input.sk-toggleable__control:checked~label.sk-toggleable__label {background-color: #d4ebff;}#sk-container-id-1 div.sk-label input.sk-toggleable__control:checked~label.sk-toggleable__label {background-color: #d4ebff;}#sk-container-id-1 input.sk-hidden--visually {border: 0;clip: rect(1px 1px 1px 1px);clip: rect(1px, 1px, 1px, 1px);height: 1px;margin: -1px;overflow: hidden;padding: 0;position: absolute;width: 1px;}#sk-container-id-1 div.sk-estimator {font-family: monospace;background-color: #f0f8ff;border: 1px dotted black;border-radius: 0.25em;box-sizing: border-box;margin-bottom: 0.5em;}#sk-container-id-1 div.sk-estimator:hover {background-color: #d4ebff;}#sk-container-id-1 div.sk-parallel-item::after {content: \"\";width: 100%;border-bottom: 1px solid gray;flex-grow: 1;}#sk-container-id-1 div.sk-label:hover label.sk-toggleable__label {background-color: #d4ebff;}#sk-container-id-1 div.sk-serial::before {content: \"\";position: absolute;border-left: 1px solid gray;box-sizing: border-box;top: 0;bottom: 0;left: 50%;z-index: 0;}#sk-container-id-1 div.sk-serial {display: flex;flex-direction: column;align-items: center;background-color: white;padding-right: 0.2em;padding-left: 0.2em;position: relative;}#sk-container-id-1 div.sk-item {position: relative;z-index: 1;}#sk-container-id-1 div.sk-parallel {display: flex;align-items: stretch;justify-content: center;background-color: white;position: relative;}#sk-container-id-1 div.sk-item::before, #sk-container-id-1 div.sk-parallel-item::before {content: \"\";position: absolute;border-left: 1px solid gray;box-sizing: border-box;top: 0;bottom: 0;left: 50%;z-index: -1;}#sk-container-id-1 div.sk-parallel-item {display: flex;flex-direction: column;z-index: 1;position: relative;background-color: white;}#sk-container-id-1 div.sk-parallel-item:first-child::after {align-self: flex-end;width: 50%;}#sk-container-id-1 div.sk-parallel-item:last-child::after {align-self: flex-start;width: 50%;}#sk-container-id-1 div.sk-parallel-item:only-child::after {width: 0;}#sk-container-id-1 div.sk-dashed-wrapped {border: 1px dashed gray;margin: 0 0.4em 0.5em 0.4em;box-sizing: border-box;padding-bottom: 0.4em;background-color: white;}#sk-container-id-1 div.sk-label label {font-family: monospace;font-weight: bold;display: inline-block;line-height: 1.2em;}#sk-container-id-1 div.sk-label-container {text-align: center;}#sk-container-id-1 div.sk-container {/* jupyter's `normalize.less` sets `[hidden] { display: none; }` but bootstrap.min.css set `[hidden] { display: none !important; }` so we also need the `!important` here to be able to override the default hidden behavior on the sphinx rendered scikit-learn.org. See: https://github.com/scikit-learn/scikit-learn/issues/21755 */display: inline-block !important;position: relative;}#sk-container-id-1 div.sk-text-repr-fallback {display: none;}</style><div id=\"sk-container-id-1\" class=\"sk-top-container\"><div class=\"sk-text-repr-fallback\"><pre>Pipeline(steps=[(&#x27;preprocessing&#x27;,\n",
       "                 ColumnTransformer(remainder=&#x27;passthrough&#x27;,\n",
       "                                   transformers=[(&#x27;dummify&#x27;,\n",
       "                                                  OneHotEncoder(handle_unknown=&#x27;ignore&#x27;,\n",
       "                                                                sparse_output=False),\n",
       "                                                  &lt;sklearn.compose._column_transformer.make_column_selector object at 0x000001F608FFEF10&gt;),\n",
       "                                                 (&#x27;standardize&#x27;,\n",
       "                                                  StandardScaler(),\n",
       "                                                  &lt;sklearn.compose._column_transformer.make_column_selector object at 0x000001F608E83710&gt;)])),\n",
       "                (&#x27;linear_regression&#x27;, LinearRegression())])</pre><b>In a Jupyter environment, please rerun this cell to show the HTML representation or trust the notebook. <br />On GitHub, the HTML representation is unable to render, please try loading this page with nbviewer.org.</b></div><div class=\"sk-container\" hidden><div class=\"sk-item sk-dashed-wrapped\"><div class=\"sk-label-container\"><div class=\"sk-label sk-toggleable\"><input class=\"sk-toggleable__control sk-hidden--visually\" id=\"sk-estimator-id-1\" type=\"checkbox\" ><label for=\"sk-estimator-id-1\" class=\"sk-toggleable__label sk-toggleable__label-arrow\">Pipeline</label><div class=\"sk-toggleable__content\"><pre>Pipeline(steps=[(&#x27;preprocessing&#x27;,\n",
       "                 ColumnTransformer(remainder=&#x27;passthrough&#x27;,\n",
       "                                   transformers=[(&#x27;dummify&#x27;,\n",
       "                                                  OneHotEncoder(handle_unknown=&#x27;ignore&#x27;,\n",
       "                                                                sparse_output=False),\n",
       "                                                  &lt;sklearn.compose._column_transformer.make_column_selector object at 0x000001F608FFEF10&gt;),\n",
       "                                                 (&#x27;standardize&#x27;,\n",
       "                                                  StandardScaler(),\n",
       "                                                  &lt;sklearn.compose._column_transformer.make_column_selector object at 0x000001F608E83710&gt;)])),\n",
       "                (&#x27;linear_regression&#x27;, LinearRegression())])</pre></div></div></div><div class=\"sk-serial\"><div class=\"sk-item sk-dashed-wrapped\"><div class=\"sk-label-container\"><div class=\"sk-label sk-toggleable\"><input class=\"sk-toggleable__control sk-hidden--visually\" id=\"sk-estimator-id-2\" type=\"checkbox\" ><label for=\"sk-estimator-id-2\" class=\"sk-toggleable__label sk-toggleable__label-arrow\">preprocessing: ColumnTransformer</label><div class=\"sk-toggleable__content\"><pre>ColumnTransformer(remainder=&#x27;passthrough&#x27;,\n",
       "                  transformers=[(&#x27;dummify&#x27;,\n",
       "                                 OneHotEncoder(handle_unknown=&#x27;ignore&#x27;,\n",
       "                                               sparse_output=False),\n",
       "                                 &lt;sklearn.compose._column_transformer.make_column_selector object at 0x000001F608FFEF10&gt;),\n",
       "                                (&#x27;standardize&#x27;, StandardScaler(),\n",
       "                                 &lt;sklearn.compose._column_transformer.make_column_selector object at 0x000001F608E83710&gt;)])</pre></div></div></div><div class=\"sk-parallel\"><div class=\"sk-parallel-item\"><div class=\"sk-item\"><div class=\"sk-label-container\"><div class=\"sk-label sk-toggleable\"><input class=\"sk-toggleable__control sk-hidden--visually\" id=\"sk-estimator-id-3\" type=\"checkbox\" ><label for=\"sk-estimator-id-3\" class=\"sk-toggleable__label sk-toggleable__label-arrow\">dummify</label><div class=\"sk-toggleable__content\"><pre>&lt;sklearn.compose._column_transformer.make_column_selector object at 0x000001F608FFEF10&gt;</pre></div></div></div><div class=\"sk-serial\"><div class=\"sk-item\"><div class=\"sk-estimator sk-toggleable\"><input class=\"sk-toggleable__control sk-hidden--visually\" id=\"sk-estimator-id-4\" type=\"checkbox\" ><label for=\"sk-estimator-id-4\" class=\"sk-toggleable__label sk-toggleable__label-arrow\">OneHotEncoder</label><div class=\"sk-toggleable__content\"><pre>OneHotEncoder(handle_unknown=&#x27;ignore&#x27;, sparse_output=False)</pre></div></div></div></div></div></div><div class=\"sk-parallel-item\"><div class=\"sk-item\"><div class=\"sk-label-container\"><div class=\"sk-label sk-toggleable\"><input class=\"sk-toggleable__control sk-hidden--visually\" id=\"sk-estimator-id-5\" type=\"checkbox\" ><label for=\"sk-estimator-id-5\" class=\"sk-toggleable__label sk-toggleable__label-arrow\">standardize</label><div class=\"sk-toggleable__content\"><pre>&lt;sklearn.compose._column_transformer.make_column_selector object at 0x000001F608E83710&gt;</pre></div></div></div><div class=\"sk-serial\"><div class=\"sk-item\"><div class=\"sk-estimator sk-toggleable\"><input class=\"sk-toggleable__control sk-hidden--visually\" id=\"sk-estimator-id-6\" type=\"checkbox\" ><label for=\"sk-estimator-id-6\" class=\"sk-toggleable__label sk-toggleable__label-arrow\">StandardScaler</label><div class=\"sk-toggleable__content\"><pre>StandardScaler()</pre></div></div></div></div></div></div><div class=\"sk-parallel-item\"><div class=\"sk-item\"><div class=\"sk-label-container\"><div class=\"sk-label sk-toggleable\"><input class=\"sk-toggleable__control sk-hidden--visually\" id=\"sk-estimator-id-7\" type=\"checkbox\" ><label for=\"sk-estimator-id-7\" class=\"sk-toggleable__label sk-toggleable__label-arrow\">remainder</label><div class=\"sk-toggleable__content\"><pre></pre></div></div></div><div class=\"sk-serial\"><div class=\"sk-item\"><div class=\"sk-estimator sk-toggleable\"><input class=\"sk-toggleable__control sk-hidden--visually\" id=\"sk-estimator-id-8\" type=\"checkbox\" ><label for=\"sk-estimator-id-8\" class=\"sk-toggleable__label sk-toggleable__label-arrow\">passthrough</label><div class=\"sk-toggleable__content\"><pre>passthrough</pre></div></div></div></div></div></div></div></div><div class=\"sk-item\"><div class=\"sk-estimator sk-toggleable\"><input class=\"sk-toggleable__control sk-hidden--visually\" id=\"sk-estimator-id-9\" type=\"checkbox\" ><label for=\"sk-estimator-id-9\" class=\"sk-toggleable__label sk-toggleable__label-arrow\">LinearRegression</label><div class=\"sk-toggleable__content\"><pre>LinearRegression()</pre></div></div></div></div></div></div></div>"
      ],
      "text/plain": [
       "Pipeline(steps=[('preprocessing',\n",
       "                 ColumnTransformer(remainder='passthrough',\n",
       "                                   transformers=[('dummify',\n",
       "                                                  OneHotEncoder(handle_unknown='ignore',\n",
       "                                                                sparse_output=False),\n",
       "                                                  <sklearn.compose._column_transformer.make_column_selector object at 0x000001F608FFEF10>),\n",
       "                                                 ('standardize',\n",
       "                                                  StandardScaler(),\n",
       "                                                  <sklearn.compose._column_transformer.make_column_selector object at 0x000001F608E83710>)])),\n",
       "                ('linear_regression', LinearRegression())])"
      ]
     },
     "execution_count": 5,
     "metadata": {},
     "output_type": "execute_result"
    }
   ],
   "source": [
    "#1A-1\n",
    "\n",
    "ct = ColumnTransformer(\n",
    "    [\n",
    "        ('dummify', OneHotEncoder(sparse_output = False, handle_unknown='ignore'),\n",
    "         make_column_selector(dtype_include=object)),\n",
    "        ('standardize', StandardScaler(), make_column_selector(dtype_include=np.number))\n",
    "        \n",
    "    ],\n",
    "    remainder = \"passthrough\"\n",
    ").set_output(transform = \"pandas\")\n",
    "\n",
    "\n",
    "# Linear Regression Pipeline\n",
    "\n",
    "lr_pipeline_1 = Pipeline(\n",
    "  [(\"preprocessing\", ct),\n",
    "  (\"linear_regression\", LinearRegression())]\n",
    ")\n",
    "\n",
    "lr_pipeline_1"
   ]
  },
  {
   "cell_type": "code",
   "execution_count": 6,
   "id": "b84d5871",
   "metadata": {},
   "outputs": [],
   "source": [
    "#1A-2\n",
    "\n",
    "lr_pipeline_fitted1 = lr_pipeline_1.fit(X, y)\n",
    "coef1 = lr_pipeline_fitted1.named_steps['linear_regression'].coef_"
   ]
  },
  {
   "cell_type": "code",
   "execution_count": 11,
   "id": "6dafdb70",
   "metadata": {},
   "outputs": [
    {
     "name": "stdout",
     "output_type": "stream",
     "text": [
      "                Variable  Coefficient\n",
      "16    standardize__CRuns      480.747\n",
      "7      standardize__Hits      337.830\n",
      "17     standardize__CRBI      260.690\n",
      "11    standardize__Walks      135.074\n",
      "14    standardize__CHits       86.688\n",
      "19  standardize__PutOuts       78.761\n",
      "2    dummify__Division_E       58.425\n",
      "20  standardize__Assists       53.732\n",
      "8     standardize__HmRun       37.854\n",
      "1      dummify__League_N       31.300\n",
      "4   dummify__NewLeague_A       12.381\n",
      "5   dummify__NewLeague_N      -12.381\n",
      "15   standardize__CHmRun      -14.182\n",
      "12    standardize__Years      -16.693\n",
      "21   standardize__Errors      -22.161\n",
      "10      standardize__RBI      -26.995\n",
      "0      dummify__League_A      -31.300\n",
      "3    dummify__Division_W      -58.425\n",
      "9      standardize__Runs      -60.572\n",
      "18   standardize__CWalks     -213.892\n",
      "6     standardize__AtBat     -291.095\n",
      "13   standardize__CAtBat     -391.039\n"
     ]
    }
   ],
   "source": [
    "X_1 = ct.fit_transform(X)\n",
    "X_1\n",
    "\n",
    "X_1_df = pd.DataFrame(X_1, columns = ct.get_feature_names_out())\n",
    "\n",
    "coef_df = pd.DataFrame([coef1], columns = X_1_df.columns)\n",
    "\n",
    "coef_df_rounded = coef_df.round(3)\n",
    "\n",
    "coef_df_transposed = coef_df_rounded.T\n",
    "\n",
    "coef_df_transposed.reset_index(inplace = True)\n",
    "coef_df_transposed.columns = ['Variable', 'Coefficient']\n",
    "coef_df_sorted = coef_df_transposed.sort_values(by = 'Coefficient', ascending=False)\n",
    "\n",
    "\n",
    "print(coef_df_sorted)"
   ]
  },
  {
   "cell_type": "markdown",
   "id": "576dc9d2",
   "metadata": {},
   "source": [
    "### **LR Model 1 Analysis**\n",
    "\n",
    "#### Coefficients\n",
    "- The largest coefficient was CRuns, which is the number of career runs the player had, at 480.747. It seems that career runs have a very strong impact on overall salary, as those with more runs earn much higher salaries. With the current model, a player's salary is expected to increase by roughly $480,750 dollars for every additional standard deviation increase in career runs. This seem to make sense, since scoring more runs is an extremely desirable trait in a player for MLB teams.\n",
    "- The most negatively impactful coefficient is CAtBat, at -391.039. The more at bats that a player has seems to be associated with a drop in expected salary. This may seem counterintuitive, but it is possible that more career at bats is associated with a player getting older, thus less valuable. Younger players with more potential have less at bats, and it may smaller negative impact on their salary. "
   ]
  },
  {
   "cell_type": "code",
   "execution_count": 12,
   "id": "afe1ce60",
   "metadata": {},
   "outputs": [
    {
     "data": {
      "text/plain": [
       "121136.31031816883"
      ]
     },
     "execution_count": 12,
     "metadata": {},
     "output_type": "execute_result"
    }
   ],
   "source": [
    "#1A-3\n",
    "\n",
    "scores1 = cross_val_score(lr_pipeline_1, X, y, cv = 5, scoring = 'neg_mean_squared_error')\n",
    "mse_pred1 = -scores1\n",
    "mse_pred1.mean()"
   ]
  },
  {
   "cell_type": "markdown",
   "id": "79cd86c1",
   "metadata": {},
   "source": [
    "**MSE expected when predicting 1989 salaries**\n",
    "\n",
    "MSE = 121,136 thousand dollars"
   ]
  },
  {
   "cell_type": "markdown",
   "id": "e3c4d286",
   "metadata": {},
   "source": [
    "### B. Ridge regression\n",
    "1. Create a pipeline that includes all the columns as predictors for Salary, and performs ordinary ridge regression\n",
    "\n",
    "\n",
    "2. Use cross-validation to tune the hyperparameter.\n",
    "\n",
    "\n",
    "3. Fit the pipeline with your chosen to the full dataset, and interpret a few of the most important coefficients.\n",
    "\n",
    "\n",
    "4. Report the MSE you would expect if you used this pipeline to predict 1989 salaries."
   ]
  },
  {
   "cell_type": "code",
   "execution_count": 13,
   "id": "6ecaa4ec",
   "metadata": {},
   "outputs": [
    {
     "data": {
      "text/html": [
       "<style>#sk-container-id-2 {color: black;}#sk-container-id-2 pre{padding: 0;}#sk-container-id-2 div.sk-toggleable {background-color: white;}#sk-container-id-2 label.sk-toggleable__label {cursor: pointer;display: block;width: 100%;margin-bottom: 0;padding: 0.3em;box-sizing: border-box;text-align: center;}#sk-container-id-2 label.sk-toggleable__label-arrow:before {content: \"▸\";float: left;margin-right: 0.25em;color: #696969;}#sk-container-id-2 label.sk-toggleable__label-arrow:hover:before {color: black;}#sk-container-id-2 div.sk-estimator:hover label.sk-toggleable__label-arrow:before {color: black;}#sk-container-id-2 div.sk-toggleable__content {max-height: 0;max-width: 0;overflow: hidden;text-align: left;background-color: #f0f8ff;}#sk-container-id-2 div.sk-toggleable__content pre {margin: 0.2em;color: black;border-radius: 0.25em;background-color: #f0f8ff;}#sk-container-id-2 input.sk-toggleable__control:checked~div.sk-toggleable__content {max-height: 200px;max-width: 100%;overflow: auto;}#sk-container-id-2 input.sk-toggleable__control:checked~label.sk-toggleable__label-arrow:before {content: \"▾\";}#sk-container-id-2 div.sk-estimator input.sk-toggleable__control:checked~label.sk-toggleable__label {background-color: #d4ebff;}#sk-container-id-2 div.sk-label input.sk-toggleable__control:checked~label.sk-toggleable__label {background-color: #d4ebff;}#sk-container-id-2 input.sk-hidden--visually {border: 0;clip: rect(1px 1px 1px 1px);clip: rect(1px, 1px, 1px, 1px);height: 1px;margin: -1px;overflow: hidden;padding: 0;position: absolute;width: 1px;}#sk-container-id-2 div.sk-estimator {font-family: monospace;background-color: #f0f8ff;border: 1px dotted black;border-radius: 0.25em;box-sizing: border-box;margin-bottom: 0.5em;}#sk-container-id-2 div.sk-estimator:hover {background-color: #d4ebff;}#sk-container-id-2 div.sk-parallel-item::after {content: \"\";width: 100%;border-bottom: 1px solid gray;flex-grow: 1;}#sk-container-id-2 div.sk-label:hover label.sk-toggleable__label {background-color: #d4ebff;}#sk-container-id-2 div.sk-serial::before {content: \"\";position: absolute;border-left: 1px solid gray;box-sizing: border-box;top: 0;bottom: 0;left: 50%;z-index: 0;}#sk-container-id-2 div.sk-serial {display: flex;flex-direction: column;align-items: center;background-color: white;padding-right: 0.2em;padding-left: 0.2em;position: relative;}#sk-container-id-2 div.sk-item {position: relative;z-index: 1;}#sk-container-id-2 div.sk-parallel {display: flex;align-items: stretch;justify-content: center;background-color: white;position: relative;}#sk-container-id-2 div.sk-item::before, #sk-container-id-2 div.sk-parallel-item::before {content: \"\";position: absolute;border-left: 1px solid gray;box-sizing: border-box;top: 0;bottom: 0;left: 50%;z-index: -1;}#sk-container-id-2 div.sk-parallel-item {display: flex;flex-direction: column;z-index: 1;position: relative;background-color: white;}#sk-container-id-2 div.sk-parallel-item:first-child::after {align-self: flex-end;width: 50%;}#sk-container-id-2 div.sk-parallel-item:last-child::after {align-self: flex-start;width: 50%;}#sk-container-id-2 div.sk-parallel-item:only-child::after {width: 0;}#sk-container-id-2 div.sk-dashed-wrapped {border: 1px dashed gray;margin: 0 0.4em 0.5em 0.4em;box-sizing: border-box;padding-bottom: 0.4em;background-color: white;}#sk-container-id-2 div.sk-label label {font-family: monospace;font-weight: bold;display: inline-block;line-height: 1.2em;}#sk-container-id-2 div.sk-label-container {text-align: center;}#sk-container-id-2 div.sk-container {/* jupyter's `normalize.less` sets `[hidden] { display: none; }` but bootstrap.min.css set `[hidden] { display: none !important; }` so we also need the `!important` here to be able to override the default hidden behavior on the sphinx rendered scikit-learn.org. See: https://github.com/scikit-learn/scikit-learn/issues/21755 */display: inline-block !important;position: relative;}#sk-container-id-2 div.sk-text-repr-fallback {display: none;}</style><div id=\"sk-container-id-2\" class=\"sk-top-container\"><div class=\"sk-text-repr-fallback\"><pre>Pipeline(steps=[(&#x27;preprocessing&#x27;,\n",
       "                 ColumnTransformer(remainder=&#x27;passthrough&#x27;,\n",
       "                                   transformers=[(&#x27;dummify&#x27;,\n",
       "                                                  OneHotEncoder(handle_unknown=&#x27;ignore&#x27;,\n",
       "                                                                sparse_output=False),\n",
       "                                                  &lt;sklearn.compose._column_transformer.make_column_selector object at 0x000001F608FFEF10&gt;),\n",
       "                                                 (&#x27;standardize&#x27;,\n",
       "                                                  StandardScaler(),\n",
       "                                                  &lt;sklearn.compose._column_transformer.make_column_selector object at 0x000001F608E83710&gt;)])),\n",
       "                (&#x27;ridge_regression&#x27;, Ridge(alpha=1))])</pre><b>In a Jupyter environment, please rerun this cell to show the HTML representation or trust the notebook. <br />On GitHub, the HTML representation is unable to render, please try loading this page with nbviewer.org.</b></div><div class=\"sk-container\" hidden><div class=\"sk-item sk-dashed-wrapped\"><div class=\"sk-label-container\"><div class=\"sk-label sk-toggleable\"><input class=\"sk-toggleable__control sk-hidden--visually\" id=\"sk-estimator-id-10\" type=\"checkbox\" ><label for=\"sk-estimator-id-10\" class=\"sk-toggleable__label sk-toggleable__label-arrow\">Pipeline</label><div class=\"sk-toggleable__content\"><pre>Pipeline(steps=[(&#x27;preprocessing&#x27;,\n",
       "                 ColumnTransformer(remainder=&#x27;passthrough&#x27;,\n",
       "                                   transformers=[(&#x27;dummify&#x27;,\n",
       "                                                  OneHotEncoder(handle_unknown=&#x27;ignore&#x27;,\n",
       "                                                                sparse_output=False),\n",
       "                                                  &lt;sklearn.compose._column_transformer.make_column_selector object at 0x000001F608FFEF10&gt;),\n",
       "                                                 (&#x27;standardize&#x27;,\n",
       "                                                  StandardScaler(),\n",
       "                                                  &lt;sklearn.compose._column_transformer.make_column_selector object at 0x000001F608E83710&gt;)])),\n",
       "                (&#x27;ridge_regression&#x27;, Ridge(alpha=1))])</pre></div></div></div><div class=\"sk-serial\"><div class=\"sk-item sk-dashed-wrapped\"><div class=\"sk-label-container\"><div class=\"sk-label sk-toggleable\"><input class=\"sk-toggleable__control sk-hidden--visually\" id=\"sk-estimator-id-11\" type=\"checkbox\" ><label for=\"sk-estimator-id-11\" class=\"sk-toggleable__label sk-toggleable__label-arrow\">preprocessing: ColumnTransformer</label><div class=\"sk-toggleable__content\"><pre>ColumnTransformer(remainder=&#x27;passthrough&#x27;,\n",
       "                  transformers=[(&#x27;dummify&#x27;,\n",
       "                                 OneHotEncoder(handle_unknown=&#x27;ignore&#x27;,\n",
       "                                               sparse_output=False),\n",
       "                                 &lt;sklearn.compose._column_transformer.make_column_selector object at 0x000001F608FFEF10&gt;),\n",
       "                                (&#x27;standardize&#x27;, StandardScaler(),\n",
       "                                 &lt;sklearn.compose._column_transformer.make_column_selector object at 0x000001F608E83710&gt;)])</pre></div></div></div><div class=\"sk-parallel\"><div class=\"sk-parallel-item\"><div class=\"sk-item\"><div class=\"sk-label-container\"><div class=\"sk-label sk-toggleable\"><input class=\"sk-toggleable__control sk-hidden--visually\" id=\"sk-estimator-id-12\" type=\"checkbox\" ><label for=\"sk-estimator-id-12\" class=\"sk-toggleable__label sk-toggleable__label-arrow\">dummify</label><div class=\"sk-toggleable__content\"><pre>&lt;sklearn.compose._column_transformer.make_column_selector object at 0x000001F608FFEF10&gt;</pre></div></div></div><div class=\"sk-serial\"><div class=\"sk-item\"><div class=\"sk-estimator sk-toggleable\"><input class=\"sk-toggleable__control sk-hidden--visually\" id=\"sk-estimator-id-13\" type=\"checkbox\" ><label for=\"sk-estimator-id-13\" class=\"sk-toggleable__label sk-toggleable__label-arrow\">OneHotEncoder</label><div class=\"sk-toggleable__content\"><pre>OneHotEncoder(handle_unknown=&#x27;ignore&#x27;, sparse_output=False)</pre></div></div></div></div></div></div><div class=\"sk-parallel-item\"><div class=\"sk-item\"><div class=\"sk-label-container\"><div class=\"sk-label sk-toggleable\"><input class=\"sk-toggleable__control sk-hidden--visually\" id=\"sk-estimator-id-14\" type=\"checkbox\" ><label for=\"sk-estimator-id-14\" class=\"sk-toggleable__label sk-toggleable__label-arrow\">standardize</label><div class=\"sk-toggleable__content\"><pre>&lt;sklearn.compose._column_transformer.make_column_selector object at 0x000001F608E83710&gt;</pre></div></div></div><div class=\"sk-serial\"><div class=\"sk-item\"><div class=\"sk-estimator sk-toggleable\"><input class=\"sk-toggleable__control sk-hidden--visually\" id=\"sk-estimator-id-15\" type=\"checkbox\" ><label for=\"sk-estimator-id-15\" class=\"sk-toggleable__label sk-toggleable__label-arrow\">StandardScaler</label><div class=\"sk-toggleable__content\"><pre>StandardScaler()</pre></div></div></div></div></div></div><div class=\"sk-parallel-item\"><div class=\"sk-item\"><div class=\"sk-label-container\"><div class=\"sk-label sk-toggleable\"><input class=\"sk-toggleable__control sk-hidden--visually\" id=\"sk-estimator-id-16\" type=\"checkbox\" ><label for=\"sk-estimator-id-16\" class=\"sk-toggleable__label sk-toggleable__label-arrow\">remainder</label><div class=\"sk-toggleable__content\"><pre>[]</pre></div></div></div><div class=\"sk-serial\"><div class=\"sk-item\"><div class=\"sk-estimator sk-toggleable\"><input class=\"sk-toggleable__control sk-hidden--visually\" id=\"sk-estimator-id-17\" type=\"checkbox\" ><label for=\"sk-estimator-id-17\" class=\"sk-toggleable__label sk-toggleable__label-arrow\">passthrough</label><div class=\"sk-toggleable__content\"><pre>passthrough</pre></div></div></div></div></div></div></div></div><div class=\"sk-item\"><div class=\"sk-estimator sk-toggleable\"><input class=\"sk-toggleable__control sk-hidden--visually\" id=\"sk-estimator-id-18\" type=\"checkbox\" ><label for=\"sk-estimator-id-18\" class=\"sk-toggleable__label sk-toggleable__label-arrow\">Ridge</label><div class=\"sk-toggleable__content\"><pre>Ridge(alpha=1)</pre></div></div></div></div></div></div></div>"
      ],
      "text/plain": [
       "Pipeline(steps=[('preprocessing',\n",
       "                 ColumnTransformer(remainder='passthrough',\n",
       "                                   transformers=[('dummify',\n",
       "                                                  OneHotEncoder(handle_unknown='ignore',\n",
       "                                                                sparse_output=False),\n",
       "                                                  <sklearn.compose._column_transformer.make_column_selector object at 0x000001F608FFEF10>),\n",
       "                                                 ('standardize',\n",
       "                                                  StandardScaler(),\n",
       "                                                  <sklearn.compose._column_transformer.make_column_selector object at 0x000001F608E83710>)])),\n",
       "                ('ridge_regression', Ridge(alpha=1))])"
      ]
     },
     "execution_count": 13,
     "metadata": {},
     "output_type": "execute_result"
    }
   ],
   "source": [
    "#1B-1\n",
    "\n",
    "ridge_pipeline = Pipeline(\n",
    "    [('preprocessing', ct),\n",
    "     ('ridge_regression', Ridge(alpha = 1)) #Set this to 1 after tuning\n",
    "        \n",
    "    ]\n",
    ")\n",
    "\n",
    "ridge_pipeline"
   ]
  },
  {
   "cell_type": "code",
   "execution_count": 14,
   "id": "f823e1e6",
   "metadata": {},
   "outputs": [
    {
     "data": {
      "text/html": [
       "<div>\n",
       "<style scoped>\n",
       "    .dataframe tbody tr th:only-of-type {\n",
       "        vertical-align: middle;\n",
       "    }\n",
       "\n",
       "    .dataframe tbody tr th {\n",
       "        vertical-align: top;\n",
       "    }\n",
       "\n",
       "    .dataframe thead th {\n",
       "        text-align: right;\n",
       "    }\n",
       "</style>\n",
       "<table border=\"1\" class=\"dataframe\">\n",
       "  <thead>\n",
       "    <tr style=\"text-align: right;\">\n",
       "      <th></th>\n",
       "      <th>lambdas</th>\n",
       "      <th>scores</th>\n",
       "    </tr>\n",
       "  </thead>\n",
       "  <tbody>\n",
       "    <tr>\n",
       "      <th>0</th>\n",
       "      <td>0.001</td>\n",
       "      <td>-121124.458592</td>\n",
       "    </tr>\n",
       "    <tr>\n",
       "      <th>1</th>\n",
       "      <td>0.010</td>\n",
       "      <td>-121022.903286</td>\n",
       "    </tr>\n",
       "    <tr>\n",
       "      <th>2</th>\n",
       "      <td>0.100</td>\n",
       "      <td>-120343.621067</td>\n",
       "    </tr>\n",
       "    <tr>\n",
       "      <th>3</th>\n",
       "      <td>1.000</td>\n",
       "      <td>-119144.432677</td>\n",
       "    </tr>\n",
       "    <tr>\n",
       "      <th>4</th>\n",
       "      <td>10.000</td>\n",
       "      <td>-119348.984776</td>\n",
       "    </tr>\n",
       "    <tr>\n",
       "      <th>5</th>\n",
       "      <td>100.000</td>\n",
       "      <td>-120716.435589</td>\n",
       "    </tr>\n",
       "    <tr>\n",
       "      <th>6</th>\n",
       "      <td>1000.000</td>\n",
       "      <td>-134876.333803</td>\n",
       "    </tr>\n",
       "  </tbody>\n",
       "</table>\n",
       "</div>"
      ],
      "text/plain": [
       "    lambdas         scores\n",
       "0     0.001 -121124.458592\n",
       "1     0.010 -121022.903286\n",
       "2     0.100 -120343.621067\n",
       "3     1.000 -119144.432677\n",
       "4    10.000 -119348.984776\n",
       "5   100.000 -120716.435589\n",
       "6  1000.000 -134876.333803"
      ]
     },
     "execution_count": 14,
     "metadata": {},
     "output_type": "execute_result"
    }
   ],
   "source": [
    "#1-B2: Tuning\n",
    "\n",
    "results = [.001,.01,.1,1,10,100, 1000]\n",
    "lambdas = {'ridge_regression__alpha': results}\n",
    "\n",
    "gscv = GridSearchCV(ridge_pipeline, lambdas, cv = 5, scoring='neg_mean_squared_error')\n",
    "gscv.fit(X, y)\n",
    "\n",
    "pd.DataFrame(data = {\"lambdas\": results, \"scores\": gscv.cv_results_['mean_test_score']})"
   ]
  },
  {
   "cell_type": "code",
   "execution_count": 15,
   "id": "c4fa7584",
   "metadata": {},
   "outputs": [
    {
     "name": "stdout",
     "output_type": "stream",
     "text": [
      "Best Lambda: 1.0\n",
      "Best Score: -119144.43267691578\n"
     ]
    }
   ],
   "source": [
    "results_df = pd.DataFrame(data={\"lambdas\": results, \"scores\": gscv.cv_results_['mean_test_score']})\n",
    "\n",
    "# Find the row with the maximum score\n",
    "best_row = results_df.loc[results_df['scores'].idxmax()]\n",
    "\n",
    "\n",
    "best_lambda = best_row['lambdas']\n",
    "best_score = best_row['scores']\n",
    "\n",
    "print(\"Best Lambda:\", best_lambda)\n",
    "print(\"Best Score:\", best_score)"
   ]
  },
  {
   "cell_type": "code",
   "execution_count": 16,
   "id": "e42713e1",
   "metadata": {
    "scrolled": true
   },
   "outputs": [
    {
     "name": "stdout",
     "output_type": "stream",
     "text": [
      "                Variable  Coefficient\n",
      "16    standardize__CRuns      320.412\n",
      "7      standardize__Hits      296.645\n",
      "17     standardize__CRBI      160.387\n",
      "14    standardize__CHits      126.660\n",
      "11    standardize__Walks      124.407\n",
      "19  standardize__PutOuts       78.624\n",
      "2    dummify__Division_E       60.016\n",
      "20  standardize__Assists       47.463\n",
      "15   standardize__CHmRun       39.071\n",
      "1      dummify__League_N       30.439\n",
      "8     standardize__HmRun       18.101\n",
      "4   dummify__NewLeague_A       13.111\n",
      "10      standardize__RBI       -9.113\n",
      "5   dummify__NewLeague_N      -13.111\n",
      "21   standardize__Errors      -23.724\n",
      "9      standardize__Runs      -29.339\n",
      "0      dummify__League_A      -30.439\n",
      "12    standardize__Years      -38.668\n",
      "3    dummify__Division_W      -60.016\n",
      "18   standardize__CWalks     -184.424\n",
      "13   standardize__CAtBat     -225.407\n",
      "6     standardize__AtBat     -270.686\n"
     ]
    }
   ],
   "source": [
    "#1B-3\n",
    "ridge_pipeline_fitted = ridge_pipeline.fit(X, y)\n",
    "coefR = ridge_pipeline_fitted.named_steps['ridge_regression'].coef_\n",
    "\n",
    "\n",
    "coef_df = pd.DataFrame([coefR], columns = X_1_df.columns)\n",
    "\n",
    "coef_df_rounded = coef_df.round(3)\n",
    "\n",
    "coef_df_transposed = coef_df_rounded.T\n",
    "\n",
    "coef_df_transposed.reset_index(inplace = True)\n",
    "coef_df_transposed.columns = ['Variable', 'Coefficient']\n",
    "coef_df_sorted = coef_df_transposed.sort_values(by = 'Coefficient', ascending=False)\n",
    "\n",
    "\n",
    "print(coef_df_sorted)"
   ]
  },
  {
   "cell_type": "markdown",
   "id": "f4207242",
   "metadata": {},
   "source": [
    "### Analyzing coefficients of ridge regression\n",
    "\n",
    "- The highest coefficient, CRuns, seems to remain the same for this model. However, it has dropped down to 320.4. This means that for every standard deviation increase in career runs, we expect a player's salary to increase by roughly $320 thousand \n",
    "- While in the previous model, the lowest coefficient was CAtBat, it is now AtBat, which is the number of at bats for this specific season. So, for every standard deviation increase in at bats a player has had in 1986, we expect their salary to drop by \\$270 thousand."
   ]
  },
  {
   "cell_type": "code",
   "execution_count": 17,
   "id": "34a23594",
   "metadata": {},
   "outputs": [
    {
     "data": {
      "text/plain": [
       "119144.43267691578"
      ]
     },
     "execution_count": 17,
     "metadata": {},
     "output_type": "execute_result"
    }
   ],
   "source": [
    "#1B-4: MSE for new model\n",
    "\n",
    "scores2 = cross_val_score(ridge_pipeline, X, y, cv = 5, scoring = 'neg_mean_squared_error')\n",
    "mse_predRidge = -scores2\n",
    "mse_predRidge.mean()"
   ]
  },
  {
   "cell_type": "markdown",
   "id": "1b59feac",
   "metadata": {},
   "source": [
    "**MSE expected when predicting 1989 salaries with ridge regression**\n",
    "\n",
    "MSE = 119,144 thousand dollars"
   ]
  },
  {
   "cell_type": "markdown",
   "id": "43e153f0",
   "metadata": {},
   "source": [
    "### C. LASSO Regression\n",
    "\n",
    "1. Create a pipeline that includes all the columns as predictors for Salary, and performs ordinary ridge regression\n",
    "\n",
    "2. Use cross-validation to tune the Lambda hyperparameter.\n",
    "\n",
    "3. Fit the pipeline with your chosen Lambda to the full dataset, and interpret a few of the most important coefficients.\n",
    "\n",
    "4. Report the MSE you would expect if you used this pipeline to predict 1989 salaries."
   ]
  },
  {
   "cell_type": "code",
   "execution_count": 18,
   "id": "88890a1f",
   "metadata": {},
   "outputs": [],
   "source": [
    "#1C-1\n",
    "\n",
    "lasso_pipeline = Pipeline(\n",
    "    [('preprocessing', ct),\n",
    "     ('lasso_regression', Lasso(alpha = 1)) #Alpha set after tuning\n",
    "        \n",
    "    ]\n",
    ")"
   ]
  },
  {
   "cell_type": "code",
   "execution_count": 20,
   "id": "2bf16402",
   "metadata": {},
   "outputs": [],
   "source": [
    "# 1.C.2\n",
    "\n",
    "results2 = [.001,.01,.1,1,10,100, 1000]\n",
    "lambdas2 = {'lasso_regression__alpha': results}\n",
    "\n",
    "gscv_lasso = GridSearchCV(lasso_pipeline, lambdas2, cv = 5, scoring='neg_mean_squared_error')\n",
    "gscv_lasso_fitted = gscv_lasso.fit(X, y)\n",
    "\n",
    "\n",
    "pd.DataFrame(data = {\"lambdas\": results2, \"scores\": gscv_lasso_fitted.cv_results_['mean_test_score']})\n",
    "\n",
    "\n",
    "warnings.simplefilter('ignore', ConvergenceWarning)"
   ]
  },
  {
   "cell_type": "code",
   "execution_count": 21,
   "id": "ecb60d3e",
   "metadata": {},
   "outputs": [
    {
     "name": "stdout",
     "output_type": "stream",
     "text": [
      "Best Lambda: 1.0\n",
      "Best Score: -119761.58740741297\n"
     ]
    }
   ],
   "source": [
    "lasso_results_df = pd.DataFrame(data={\"lambdas\": results, \"scores\": gscv_lasso.cv_results_['mean_test_score']})\n",
    "\n",
    "# Find the row with the maximum score\n",
    "best_row = lasso_results_df.loc[lasso_results_df['scores'].idxmax()]\n",
    "\n",
    "\n",
    "best_lambda = best_row['lambdas']\n",
    "best_score = best_row['scores']\n",
    "\n",
    "print(\"Best Lambda:\", best_lambda)\n",
    "print(\"Best Score:\", best_score)"
   ]
  },
  {
   "cell_type": "code",
   "execution_count": 22,
   "id": "a8bea6fa",
   "metadata": {},
   "outputs": [
    {
     "name": "stdout",
     "output_type": "stream",
     "text": [
      "                Variable  Coefficient\n",
      "16    standardize__CRuns      375.566\n",
      "7      standardize__Hits      304.360\n",
      "17     standardize__CRBI      192.611\n",
      "11    standardize__Walks      120.695\n",
      "2    dummify__Division_E      114.413\n",
      "19  standardize__PutOuts       78.760\n",
      "20  standardize__Assists       41.997\n",
      "15   standardize__CHmRun       14.226\n",
      "8     standardize__HmRun       11.127\n",
      "3    dummify__Division_W       -0.000\n",
      "4   dummify__NewLeague_A        0.000\n",
      "5   dummify__NewLeague_N       -0.000\n",
      "10      standardize__RBI       -0.000\n",
      "1      dummify__League_N        0.000\n",
      "14    standardize__CHits        0.000\n",
      "21   standardize__Errors      -18.479\n",
      "9      standardize__Runs      -24.967\n",
      "12    standardize__Years      -34.948\n",
      "0      dummify__League_A      -35.826\n",
      "13   standardize__CAtBat     -162.640\n",
      "18   standardize__CWalks     -189.645\n",
      "6     standardize__AtBat     -282.371\n"
     ]
    }
   ],
   "source": [
    "# 1.C.3\n",
    "\n",
    "lasso_pipeline_fitted = lasso_pipeline.fit(X, y)\n",
    "coef3 = lasso_pipeline_fitted.named_steps['lasso_regression'].coef_\n",
    "\n",
    "coef_df = pd.DataFrame([coef3], columns = X_1_df.columns)\n",
    "\n",
    "coef_df_rounded = coef_df.round(3)\n",
    "\n",
    "coef_df_transposed = coef_df_rounded.T\n",
    "\n",
    "coef_df_transposed.reset_index(inplace = True)\n",
    "coef_df_transposed.columns = ['Variable', 'Coefficient']\n",
    "coef_df_sorted = coef_df_transposed.sort_values(by = 'Coefficient', ascending=False)\n",
    "\n",
    "\n",
    "print(coef_df_sorted)"
   ]
  },
  {
   "cell_type": "markdown",
   "id": "cb538104",
   "metadata": {},
   "source": [
    "### Analyzing coefficients of LASSO regression\n",
    "\n",
    "- The highest coefficient, CRuns, yet again remains the same for this model. However, it is back up to 375.566. This means that for every standard deviation increase in career runs, we expect a player's salary to increase by roughly \\$376 thousand \n",
    "- Our LASSO model has the same lowest coefficient as the Ridge model, AtBat, which is the number of at bats for this specific season. So, for every standard deviation increase in at bats a player has had in 1986, we expect their salary to drop by \\$282 thousand. This is an even more negative effect than with ridge, which was only 270 thousand."
   ]
  },
  {
   "cell_type": "code",
   "execution_count": 23,
   "id": "06a7c022",
   "metadata": {
    "scrolled": true
   },
   "outputs": [
    {
     "data": {
      "text/plain": [
       "119761.58740741297"
      ]
     },
     "execution_count": 23,
     "metadata": {},
     "output_type": "execute_result"
    }
   ],
   "source": [
    "#1C-4\n",
    "\n",
    "warnings.simplefilter('ignore', ConvergenceWarning)\n",
    "\n",
    "scores3 = cross_val_score(lasso_pipeline, X, y, cv = 5, scoring = 'neg_mean_squared_error')\n",
    "mse_predlasso = -scores3\n",
    "mse_predlasso.mean()"
   ]
  },
  {
   "cell_type": "markdown",
   "id": "5c86e42a",
   "metadata": {},
   "source": [
    "**MSE expected when predicting 1989 salaries with Lasso regression**\n",
    "\n",
    "MSE = 119,761 thousand dollars"
   ]
  },
  {
   "cell_type": "markdown",
   "id": "4a56795a",
   "metadata": {},
   "source": [
    "### D. Elastic Net\n",
    "\n",
    "1. Create a pipeline that includes all the columns as predictors for Salary, and performs ordinary ridge regression\n",
    "\n",
    "2. Use cross-validation to tune the Lambda and alpha hyperparameters.\n",
    "\n",
    "3. Fit the pipeline with your chosen hyperparameters to the full dataset, and interpret a few of the most important coefficients.\n",
    "\n",
    "4. Report the MSE you would expect if you used this pipeline to predict 1989 salaries."
   ]
  },
  {
   "cell_type": "code",
   "execution_count": 24,
   "id": "5c14d6d3",
   "metadata": {},
   "outputs": [],
   "source": [
    "#1D-1\n",
    "\n",
    "elastic_pipeline = Pipeline(\n",
    "    [('preprocessing', ct),\n",
    "    ('elasticnet', ElasticNet(alpha=0.1, l1_ratio=0.8))#Set after tuning\n",
    "    ]\n",
    ")"
   ]
  },
  {
   "cell_type": "code",
   "execution_count": 25,
   "id": "ba4dd9e8",
   "metadata": {},
   "outputs": [
    {
     "name": "stdout",
     "output_type": "stream",
     "text": [
      "Best Parameters: {'elasticnet__alpha': 0.1, 'elasticnet__l1_ratio': 0.8}\n",
      "Best Score: 118994.42787368372\n"
     ]
    }
   ],
   "source": [
    "#1D-2\n",
    "\n",
    "warnings.simplefilter('ignore', ConvergenceWarning)\n",
    "\n",
    "param_grid_elastic = {\n",
    "    'elasticnet__alpha': [0.01, 0.1, 1, 10, 100],\n",
    "    'elasticnet__l1_ratio': [0.2, 0.4, 0.6, 0.8]\n",
    "}\n",
    "\n",
    "\n",
    "gscv_elastic = GridSearchCV(elastic_pipeline, param_grid_elastic, cv=5, scoring='neg_mean_squared_error')\n",
    "gscv_elastic_fitted = gscv_elastic.fit(X, y)\n",
    "\n",
    "\n",
    "best_params = gscv_elastic_fitted.best_params_\n",
    "best_score_elastic = -(gscv_elastic_fitted.best_score_)\n",
    "\n",
    "print(\"Best Parameters:\", best_params)\n",
    "print(\"Best Score:\", best_score_elastic)"
   ]
  },
  {
   "cell_type": "code",
   "execution_count": 26,
   "id": "abade0c7",
   "metadata": {},
   "outputs": [
    {
     "name": "stdout",
     "output_type": "stream",
     "text": [
      "                Variable  Coefficient\n",
      "7      standardize__Hits      200.550\n",
      "16    standardize__CRuns      163.216\n",
      "14    standardize__CHits      110.759\n",
      "17     standardize__CRBI      104.765\n",
      "11    standardize__Walks       97.556\n",
      "19  standardize__PutOuts       76.813\n",
      "2    dummify__Division_E       60.749\n",
      "15   standardize__CHmRun       59.261\n",
      "20  standardize__Assists       34.983\n",
      "1      dummify__League_N       26.238\n",
      "4   dummify__NewLeague_A        9.679\n",
      "10      standardize__RBI        9.379\n",
      "9      standardize__Runs        9.359\n",
      "8     standardize__HmRun       -3.277\n",
      "5   dummify__NewLeague_N       -9.681\n",
      "21   standardize__Errors      -24.952\n",
      "0      dummify__League_A      -26.237\n",
      "12    standardize__Years      -52.181\n",
      "13   standardize__CAtBat      -56.854\n",
      "3    dummify__Division_W      -60.750\n",
      "18   standardize__CWalks     -125.754\n",
      "6     standardize__AtBat     -184.996\n"
     ]
    }
   ],
   "source": [
    "# 1.D.3\n",
    "\n",
    "elastic_pipeline_fitted = elastic_pipeline.fit(X, y)\n",
    "coef4 = elastic_pipeline_fitted.named_steps['elasticnet'].coef_\n",
    "\n",
    "coef_df = pd.DataFrame([coef4], columns = X_1_df.columns)\n",
    "\n",
    "coef_df_rounded = coef_df.round(3)\n",
    "\n",
    "coef_df_transposed = coef_df_rounded.T\n",
    "\n",
    "coef_df_transposed.reset_index(inplace = True)\n",
    "coef_df_transposed.columns = ['Variable', 'Coefficient']\n",
    "coef_df_sorted = coef_df_transposed.sort_values(by = 'Coefficient', ascending=False)\n",
    "\n",
    "\n",
    "print(coef_df_sorted)\n"
   ]
  },
  {
   "cell_type": "markdown",
   "id": "f267ed8b",
   "metadata": {},
   "source": [
    "### Analyzing coefficients of Elastic Net Model\n",
    "\n",
    "- The highest coefficient has changed for the first time, and is now Hits in the 1986 season. This implies that players with more hits are expected to earn higher salaries than those with less hits. In relation to the model, we expect a player's salary to increase by around 200 thousand dollars for every st dev increase in the number of hits they have in 1986.\n",
    "- Our Elastic model has the same lowest coefficient as the Ridge model and lasso model, AtBat, which is the number of at bats for this specific season. So, for every standard deviation increase in at bats a player has had in 1986, we expect their salary to drop by \\$184 thousand. This is less of a negative impact than it was with the previous two models."
   ]
  },
  {
   "cell_type": "code",
   "execution_count": 27,
   "id": "961d5c11",
   "metadata": {},
   "outputs": [
    {
     "data": {
      "text/plain": [
       "118994.42787368372"
      ]
     },
     "execution_count": 27,
     "metadata": {},
     "output_type": "execute_result"
    }
   ],
   "source": [
    "#1D-4\n",
    "\n",
    "scores4 = cross_val_score(elastic_pipeline, X, y, cv = 5, scoring = 'neg_mean_squared_error')\n",
    "mse_predElastic = -scores4\n",
    "mse_predElastic.mean()"
   ]
  },
  {
   "cell_type": "markdown",
   "id": "86cc6ce2",
   "metadata": {},
   "source": [
    "**MSE expected when predicting 1989 salaries with Elastic net model**\n",
    "\n",
    "MSE = 118,994 thousand dollars"
   ]
  },
  {
   "cell_type": "markdown",
   "id": "292791ec",
   "metadata": {},
   "source": [
    "# Part 2: Variable Selection\n",
    "\n",
    "Based on the above results, decide on:\n",
    "\n",
    "- Which numeric variable is most important.\n",
    "\n",
    "- Which five numeric variables are most important\n",
    "\n",
    "- Which categorical variable is most important\n",
    "\n",
    "For each of the four model specifications, compare the following possible feature sets:\n",
    "\n",
    "- Using only the one best numeric variable.\n",
    "\n",
    "- Using only the five best variables.\n",
    "\n",
    "- Using the five best numeric variables and their interactions with the one best categorical variable.\n",
    "\n",
    "Report which combination of features and model performed best, based on the validation metric of MSE.\n",
    "\n",
    "(Note: Lambda and Alpha must be re-tuned for each feature set.)"
   ]
  },
  {
   "cell_type": "code",
   "execution_count": 39,
   "id": "0cb1d544",
   "metadata": {},
   "outputs": [],
   "source": [
    "X = hitters[['Hits','CRBI','CRuns','AtBat','Walks','Division']]\n",
    "\n",
    "y = hitters[\"Salary\"]"
   ]
  },
  {
   "cell_type": "markdown",
   "id": "393bba4c",
   "metadata": {},
   "source": [
    "### Linear Models"
   ]
  },
  {
   "cell_type": "code",
   "execution_count": 40,
   "id": "76a6e27e",
   "metadata": {},
   "outputs": [
    {
     "name": "stdout",
     "output_type": "stream",
     "text": [
      "LR Hits Mean Squared Error: 173088.9728644403\n"
     ]
    }
   ],
   "source": [
    "#LR Only Hits\n",
    "ct = ColumnTransformer(\n",
    "    transformers=[\n",
    "        ('Standardize', StandardScaler(), ['Hits']),\n",
    "    ], remainder = \"drop\"\n",
    ").set_output(transform = \"pandas\")\n",
    "\n",
    "lr_pipelineHits = Pipeline([\n",
    "    ('preprocessing', ct),\n",
    "    ('linear_regression', LinearRegression())\n",
    "])\n",
    "\n",
    "lr_pipelineHits.fit(X, y)\n",
    "\n",
    "scores = cross_val_score(lr_pipelineHits, X, y, cv=5, scoring='neg_mean_squared_error')\n",
    "\n",
    "mse_scores = -scores\n",
    "mean_mse = mse_scores.mean()\n",
    "\n",
    "print(f\"LR Hits Mean Squared Error: {mean_mse}\")"
   ]
  },
  {
   "cell_type": "code",
   "execution_count": 30,
   "id": "287a7e3f",
   "metadata": {},
   "outputs": [
    {
     "name": "stdout",
     "output_type": "stream",
     "text": [
      "LR Top 5 Mean Squared Error: 119906.79075868055\n"
     ]
    }
   ],
   "source": [
    "#LR Top 5\n",
    "# Column transformer that standardizes and dummies\n",
    "ct = ColumnTransformer(\n",
    "    transformers=[\n",
    "        ('Standardize', StandardScaler(), ['Hits','CRBI','CRuns','AtBat','Walks']),\n",
    "    ], remainder = \"drop\"\n",
    ").set_output(transform = \"pandas\")\n",
    "\n",
    "# pipeline\n",
    "lr_pipelineTop5 = Pipeline([\n",
    "    ('preprocessing', ct),\n",
    "    ('linear_regression', LinearRegression())\n",
    "])\n",
    "\n",
    "# Fit pipline\n",
    "lr_pipelineTop5.fit(X, y)\n",
    "\n",
    "\n",
    "scores = cross_val_score(lr_pipelineTop5, X, y, cv=5, scoring='neg_mean_squared_error')\n",
    "\n",
    "mse_scores = -scores\n",
    "mean_mse = mse_scores.mean()\n",
    "\n",
    "print(f\"LR Top 5 Mean Squared Error: {mean_mse}\")"
   ]
  },
  {
   "cell_type": "code",
   "execution_count": 32,
   "id": "0b49e41b",
   "metadata": {},
   "outputs": [
    {
     "name": "stdout",
     "output_type": "stream",
     "text": [
      "LR Top 5 + Interact Mean Squared Error: 122782.08848146773\n"
     ]
    }
   ],
   "source": [
    "# LR Top 5 + Interaction. Standardizing and dummifying.\n",
    "ct = ColumnTransformer(\n",
    "    transformers=[\n",
    "        (\"dummify\", OneHotEncoder(sparse_output = False), [\"Division\"]),\n",
    "        ('Standardize', StandardScaler(), ['Hits','CRBI','CRuns','AtBat','Walks']),\n",
    "    ], remainder = \"passthrough\"\n",
    ").set_output(transform = \"pandas\")\n",
    "\n",
    "ct_inter = ColumnTransformer(\n",
    "  [\n",
    "    (\"interaction1\", PolynomialFeatures(interaction_only = True), [\"Standardize__Hits\", \"dummify__Division_E\"]),\n",
    "    (\"interaction2\", PolynomialFeatures(interaction_only = True), [\"Standardize__CRBI\", \"dummify__Division_E\"]),\n",
    "    (\"interaction3\", PolynomialFeatures(interaction_only = True), [\"Standardize__CRuns\", \"dummify__Division_E\"]),\n",
    "    (\"interaction4\", PolynomialFeatures(interaction_only = True), [\"Standardize__AtBat\", \"dummify__Division_E\"]),\n",
    "    (\"interaction5\", PolynomialFeatures(interaction_only = True), [\"Standardize__Walks\", \"dummify__Division_E\"]),\n",
    "  ],\n",
    "  remainder = \"drop\"\n",
    ").set_output(transform = \"pandas\")\n",
    "\n",
    "# pipeline\n",
    "lr_pipelineTop5int = Pipeline([\n",
    "    ('preprocessing', ct),\n",
    "   (\"interaction\", ct_inter),\n",
    "    ('linear_regression', LinearRegression())\n",
    "])\n",
    "\n",
    "# Fit pipline\n",
    "lr_pipelineTop5int.fit(X, y)\n",
    "\n",
    "\n",
    "scores = cross_val_score(lr_pipelineTop5int, X, y, cv=5, scoring='neg_mean_squared_error')\n",
    "\n",
    "mse_scores = -scores\n",
    "mean_mse = mse_scores.mean()\n",
    "\n",
    "print(f\"LR Top 5 + Interact Mean Squared Error: {mean_mse}\")"
   ]
  },
  {
   "cell_type": "markdown",
   "id": "7cf499f3",
   "metadata": {},
   "source": [
    "Of the 3 linear models, the one with the top 5 variables and no interactions performed the best."
   ]
  },
  {
   "cell_type": "markdown",
   "id": "802cd3d0",
   "metadata": {},
   "source": [
    "### Ridge"
   ]
  },
  {
   "cell_type": "code",
   "execution_count": 33,
   "id": "b9d9e07f",
   "metadata": {},
   "outputs": [
    {
     "data": {
      "text/html": [
       "<div>\n",
       "<style scoped>\n",
       "    .dataframe tbody tr th:only-of-type {\n",
       "        vertical-align: middle;\n",
       "    }\n",
       "\n",
       "    .dataframe tbody tr th {\n",
       "        vertical-align: top;\n",
       "    }\n",
       "\n",
       "    .dataframe thead th {\n",
       "        text-align: right;\n",
       "    }\n",
       "</style>\n",
       "<table border=\"1\" class=\"dataframe\">\n",
       "  <thead>\n",
       "    <tr style=\"text-align: right;\">\n",
       "      <th></th>\n",
       "      <th>lambdas</th>\n",
       "      <th>MSE scores</th>\n",
       "    </tr>\n",
       "  </thead>\n",
       "  <tbody>\n",
       "    <tr>\n",
       "      <th>0</th>\n",
       "      <td>1</td>\n",
       "      <td>173046.230311</td>\n",
       "    </tr>\n",
       "    <tr>\n",
       "      <th>1</th>\n",
       "      <td>10</td>\n",
       "      <td>172755.975523</td>\n",
       "    </tr>\n",
       "    <tr>\n",
       "      <th>2</th>\n",
       "      <td>100</td>\n",
       "      <td>174448.308656</td>\n",
       "    </tr>\n",
       "  </tbody>\n",
       "</table>\n",
       "</div>"
      ],
      "text/plain": [
       "   lambdas     MSE scores\n",
       "0        1  173046.230311\n",
       "1       10  172755.975523\n",
       "2      100  174448.308656"
      ]
     },
     "execution_count": 33,
     "metadata": {},
     "output_type": "execute_result"
    }
   ],
   "source": [
    "# Ridge Only Hits w/ Tuning\n",
    "\n",
    "ct = ColumnTransformer(\n",
    "    transformers=[\n",
    "        ('Standardize', StandardScaler(), ['Hits']),\n",
    "    ], remainder = \"drop\"\n",
    ").set_output(transform = \"pandas\")\n",
    "\n",
    "\n",
    "ridge_pipelineHits = Pipeline(\n",
    "  [(\"preprocessing\", ct),\n",
    "  (\"ridge_regression\", Ridge())]\n",
    ")\n",
    "\n",
    "results = [1,10,100]\n",
    "\n",
    "lambdas = {'ridge_regression__alpha': results}\n",
    "\n",
    "gscv = GridSearchCV(ridge_pipelineHits, lambdas, cv = 5, scoring='neg_mean_squared_error')\n",
    "\n",
    "gscv_fitted = gscv.fit(X, y)\n",
    "mse_scores = -gscv_fitted.cv_results_['mean_test_score']\n",
    "pd.DataFrame(data={\"lambdas\": results, \"MSE scores\": mse_scores})"
   ]
  },
  {
   "cell_type": "code",
   "execution_count": 34,
   "id": "1a746fc9",
   "metadata": {},
   "outputs": [
    {
     "name": "stdout",
     "output_type": "stream",
     "text": [
      "Ridge Reg Hits Mean Squared Error: 172755.97552343184\n"
     ]
    }
   ],
   "source": [
    "# Ridge Only Hits w/ best lambda\n",
    "ridge_pipelineHits = Pipeline(\n",
    "  [(\"preprocessing\", ct),\n",
    "  (\"ridge_regression\", Ridge(alpha=10))]\n",
    ")\n",
    "\n",
    "ridge_pipelineHits.fit(X,y)\n",
    "\n",
    "scores = cross_val_score(ridge_pipelineHits, X, y, cv=5, scoring='neg_mean_squared_error')\n",
    "\n",
    "mse_scores = -scores\n",
    "mean_mse = mse_scores.mean()\n",
    "\n",
    "print(f\"Ridge Reg Hits Mean Squared Error: {mean_mse}\")"
   ]
  },
  {
   "cell_type": "code",
   "execution_count": 35,
   "id": "dbc9cae5",
   "metadata": {},
   "outputs": [
    {
     "data": {
      "text/html": [
       "<div>\n",
       "<style scoped>\n",
       "    .dataframe tbody tr th:only-of-type {\n",
       "        vertical-align: middle;\n",
       "    }\n",
       "\n",
       "    .dataframe tbody tr th {\n",
       "        vertical-align: top;\n",
       "    }\n",
       "\n",
       "    .dataframe thead th {\n",
       "        text-align: right;\n",
       "    }\n",
       "</style>\n",
       "<table border=\"1\" class=\"dataframe\">\n",
       "  <thead>\n",
       "    <tr style=\"text-align: right;\">\n",
       "      <th></th>\n",
       "      <th>lambdas</th>\n",
       "      <th>MSE scores</th>\n",
       "    </tr>\n",
       "  </thead>\n",
       "  <tbody>\n",
       "    <tr>\n",
       "      <th>0</th>\n",
       "      <td>0.1</td>\n",
       "      <td>119832.764215</td>\n",
       "    </tr>\n",
       "    <tr>\n",
       "      <th>1</th>\n",
       "      <td>1.0</td>\n",
       "      <td>119386.669648</td>\n",
       "    </tr>\n",
       "    <tr>\n",
       "      <th>2</th>\n",
       "      <td>10.0</td>\n",
       "      <td>119946.973728</td>\n",
       "    </tr>\n",
       "    <tr>\n",
       "      <th>3</th>\n",
       "      <td>100.0</td>\n",
       "      <td>123578.477116</td>\n",
       "    </tr>\n",
       "  </tbody>\n",
       "</table>\n",
       "</div>"
      ],
      "text/plain": [
       "   lambdas     MSE scores\n",
       "0      0.1  119832.764215\n",
       "1      1.0  119386.669648\n",
       "2     10.0  119946.973728\n",
       "3    100.0  123578.477116"
      ]
     },
     "execution_count": 35,
     "metadata": {},
     "output_type": "execute_result"
    }
   ],
   "source": [
    "#Ridge Top 5 w/ Tuning\n",
    "\n",
    "ct = ColumnTransformer(\n",
    "    transformers=[\n",
    "        ('Standardize', StandardScaler(), ['Hits','CRBI','CRuns','AtBat','Walks']),\n",
    "    ], remainder = \"drop\"\n",
    ").set_output(transform = \"pandas\")\n",
    "\n",
    "\n",
    "ridge_pipelineTop5 = Pipeline(\n",
    "  [(\"preprocessing\", ct),\n",
    "  (\"ridge_regression\", Ridge())]\n",
    ")\n",
    "\n",
    "results = [0.1,1,10,100]\n",
    "\n",
    "lambdas = {'ridge_regression__alpha': results}\n",
    "\n",
    "gscv = GridSearchCV(ridge_pipelineTop5, lambdas, cv = 5, scoring='neg_mean_squared_error')\n",
    "\n",
    "gscv_fitted = gscv.fit(X, y)\n",
    "mse_scores = -gscv_fitted.cv_results_['mean_test_score']\n",
    "pd.DataFrame(data={\"lambdas\": results, \"MSE scores\": mse_scores})"
   ]
  },
  {
   "cell_type": "code",
   "execution_count": 36,
   "id": "dc369ad8",
   "metadata": {},
   "outputs": [
    {
     "name": "stdout",
     "output_type": "stream",
     "text": [
      "Ridge Reg Top5 Mean Squared Error: 119386.66964827264\n"
     ]
    }
   ],
   "source": [
    "#Ridge Top 5 w/ best lambda\n",
    "\n",
    "ridge_pipelineTop5 = Pipeline(\n",
    "  [(\"preprocessing\", ct),\n",
    "  (\"ridge_regression\", Ridge(alpha=1))]\n",
    ")\n",
    "\n",
    "ridge_pipelineTop5.fit(X,y)\n",
    "\n",
    "scores = cross_val_score(ridge_pipelineTop5, X, y, cv=5, scoring='neg_mean_squared_error')\n",
    "\n",
    "mse_scores = -scores\n",
    "mean_mse = mse_scores.mean()\n",
    "\n",
    "print(f\"Ridge Reg Top5 Mean Squared Error: {mean_mse}\")"
   ]
  },
  {
   "cell_type": "code",
   "execution_count": 39,
   "id": "ca4591b6",
   "metadata": {},
   "outputs": [
    {
     "data": {
      "text/html": [
       "<div>\n",
       "<style scoped>\n",
       "    .dataframe tbody tr th:only-of-type {\n",
       "        vertical-align: middle;\n",
       "    }\n",
       "\n",
       "    .dataframe tbody tr th {\n",
       "        vertical-align: top;\n",
       "    }\n",
       "\n",
       "    .dataframe thead th {\n",
       "        text-align: right;\n",
       "    }\n",
       "</style>\n",
       "<table border=\"1\" class=\"dataframe\">\n",
       "  <thead>\n",
       "    <tr style=\"text-align: right;\">\n",
       "      <th></th>\n",
       "      <th>lambdas</th>\n",
       "      <th>MSE scores</th>\n",
       "    </tr>\n",
       "  </thead>\n",
       "  <tbody>\n",
       "    <tr>\n",
       "      <th>0</th>\n",
       "      <td>1</td>\n",
       "      <td>119202.542721</td>\n",
       "    </tr>\n",
       "    <tr>\n",
       "      <th>1</th>\n",
       "      <td>10</td>\n",
       "      <td>116985.613336</td>\n",
       "    </tr>\n",
       "    <tr>\n",
       "      <th>2</th>\n",
       "      <td>100</td>\n",
       "      <td>117413.597417</td>\n",
       "    </tr>\n",
       "    <tr>\n",
       "      <th>3</th>\n",
       "      <td>1000</td>\n",
       "      <td>144253.919247</td>\n",
       "    </tr>\n",
       "  </tbody>\n",
       "</table>\n",
       "</div>"
      ],
      "text/plain": [
       "   lambdas     MSE scores\n",
       "0        1  119202.542721\n",
       "1       10  116985.613336\n",
       "2      100  117413.597417\n",
       "3     1000  144253.919247"
      ]
     },
     "execution_count": 39,
     "metadata": {},
     "output_type": "execute_result"
    }
   ],
   "source": [
    "#Ridge Top 5 + Interaction. With tuning.\n",
    "\n",
    "ct = ColumnTransformer(\n",
    "    transformers=[\n",
    "        (\"dummify\", OneHotEncoder(sparse_output = False), [\"Division\"]),\n",
    "        ('Standardize', StandardScaler(), ['Hits','CRBI','CRuns','AtBat','Walks']),\n",
    "    ], remainder = \"passthrough\"\n",
    ").set_output(transform = \"pandas\")\n",
    "\n",
    "ct_inter = ColumnTransformer(\n",
    "  [\n",
    "    (\"interaction1\", PolynomialFeatures(interaction_only = True), [\"Standardize__Hits\", \"dummify__Division_E\"]),\n",
    "    (\"interaction2\", PolynomialFeatures(interaction_only = True), [\"Standardize__CRBI\", \"dummify__Division_E\"]),\n",
    "    (\"interaction3\", PolynomialFeatures(interaction_only = True), [\"Standardize__CRuns\", \"dummify__Division_E\"]),\n",
    "    (\"interaction4\", PolynomialFeatures(interaction_only = True), [\"Standardize__AtBat\", \"dummify__Division_E\"]),\n",
    "    (\"interaction5\", PolynomialFeatures(interaction_only = True), [\"Standardize__Walks\", \"dummify__Division_E\"]),\n",
    "  ],\n",
    "  remainder = \"drop\"\n",
    ").set_output(transform = \"pandas\")\n",
    "\n",
    "# Creates pipeline\n",
    "ridge_pipelineTop5int = Pipeline([\n",
    "    ('preprocessing', ct),\n",
    "   (\"interaction\", ct_inter),\n",
    "    ('ridge_regression', Ridge())\n",
    "])\n",
    "\n",
    "results = [1,10,100,1000]\n",
    "\n",
    "lambdas = {'ridge_regression__alpha': results}\n",
    "\n",
    "gscv = GridSearchCV(ridge_pipelineTop5int, lambdas, cv = 5, scoring='neg_mean_squared_error')\n",
    "\n",
    "gscv_fitted = gscv.fit(X, y)\n",
    "mse_scores = -gscv_fitted.cv_results_['mean_test_score']\n",
    "pd.DataFrame(data={\"lambdas\": results, \"MSE scores\": mse_scores})"
   ]
  },
  {
   "cell_type": "code",
   "execution_count": 40,
   "id": "9e48265c",
   "metadata": {},
   "outputs": [
    {
     "name": "stdout",
     "output_type": "stream",
     "text": [
      "Ridge Reg Top5 + Int Mean Squared Error: 116985.61333614467\n"
     ]
    }
   ],
   "source": [
    "#Ridge Top 5 + Interaction\n",
    "\n",
    "\n",
    "ridge_pipelineTop5int = Pipeline([\n",
    "    ('preprocessing', ct),\n",
    "   (\"interaction\", ct_inter),\n",
    "    ('ridge_regression', Ridge(alpha=10))\n",
    "])\n",
    "\n",
    "ridge_pipelineTop5int.fit(X,y)\n",
    "\n",
    "scores = cross_val_score(ridge_pipelineTop5int, X, y, cv=5, scoring='neg_mean_squared_error')\n",
    "mse_scores = -scores\n",
    "mean_mse = mse_scores.mean()\n",
    "\n",
    "print(f\"Ridge Reg Top5 + Int Mean Squared Error: {mean_mse}\")"
   ]
  },
  {
   "cell_type": "markdown",
   "id": "642eab85",
   "metadata": {},
   "source": [
    "### LASSO"
   ]
  },
  {
   "cell_type": "code",
   "execution_count": 41,
   "id": "8367c579",
   "metadata": {},
   "outputs": [
    {
     "data": {
      "text/html": [
       "<div>\n",
       "<style scoped>\n",
       "    .dataframe tbody tr th:only-of-type {\n",
       "        vertical-align: middle;\n",
       "    }\n",
       "\n",
       "    .dataframe tbody tr th {\n",
       "        vertical-align: top;\n",
       "    }\n",
       "\n",
       "    .dataframe thead th {\n",
       "        text-align: right;\n",
       "    }\n",
       "</style>\n",
       "<table border=\"1\" class=\"dataframe\">\n",
       "  <thead>\n",
       "    <tr style=\"text-align: right;\">\n",
       "      <th></th>\n",
       "      <th>lambdas</th>\n",
       "      <th>MSE scores</th>\n",
       "    </tr>\n",
       "  </thead>\n",
       "  <tbody>\n",
       "    <tr>\n",
       "      <th>0</th>\n",
       "      <td>1</td>\n",
       "      <td>173076.934306</td>\n",
       "    </tr>\n",
       "    <tr>\n",
       "      <th>1</th>\n",
       "      <td>10</td>\n",
       "      <td>173061.634500</td>\n",
       "    </tr>\n",
       "    <tr>\n",
       "      <th>2</th>\n",
       "      <td>100</td>\n",
       "      <td>182120.311402</td>\n",
       "    </tr>\n",
       "  </tbody>\n",
       "</table>\n",
       "</div>"
      ],
      "text/plain": [
       "   lambdas     MSE scores\n",
       "0        1  173076.934306\n",
       "1       10  173061.634500\n",
       "2      100  182120.311402"
      ]
     },
     "execution_count": 41,
     "metadata": {},
     "output_type": "execute_result"
    }
   ],
   "source": [
    "# Lasso Only Hits Tuning\n",
    "\n",
    "ct = ColumnTransformer(\n",
    "    transformers=[\n",
    "        ('Standardize', StandardScaler(), ['Hits']),\n",
    "    ], remainder = \"drop\"\n",
    ").set_output(transform = \"pandas\")\n",
    "\n",
    "\n",
    "lasso_pipelineHits = Pipeline(\n",
    "  [(\"preprocessing\", ct),\n",
    "  (\"lasso_regression\", Lasso())]\n",
    ")\n",
    "\n",
    "results = [1,10,100]\n",
    "\n",
    "lambdas = {'lasso_regression__alpha': results}\n",
    "\n",
    "gscv = GridSearchCV(lasso_pipelineHits, lambdas, cv = 5, scoring='neg_mean_squared_error')\n",
    "\n",
    "gscv_fitted = gscv.fit(X, y)\n",
    "mse_scores = -gscv_fitted.cv_results_['mean_test_score']\n",
    "pd.DataFrame(data={\"lambdas\": results, \"MSE scores\": mse_scores})"
   ]
  },
  {
   "cell_type": "code",
   "execution_count": 42,
   "id": "48f9a239",
   "metadata": {},
   "outputs": [
    {
     "name": "stdout",
     "output_type": "stream",
     "text": [
      "Lasso Reg Hits Mean Squared Error: 173061.63450002926\n"
     ]
    }
   ],
   "source": [
    "# Lasso Only Hits w/ best lamda\n",
    "lasso_pipelineHits = Pipeline(\n",
    "  [(\"preprocessing\", ct),\n",
    "  (\"lasso_regression\", Lasso(alpha=10))]\n",
    ")\n",
    "\n",
    "lasso_pipelineHits.fit(X,y)\n",
    "\n",
    "scores = cross_val_score(lasso_pipelineHits, X, y, cv=5, scoring='neg_mean_squared_error')\n",
    "\n",
    "mse_scores = -scores\n",
    "mean_mse = mse_scores.mean()\n",
    "\n",
    "print(f\"Lasso Reg Hits Mean Squared Error: {mean_mse}\")"
   ]
  },
  {
   "cell_type": "code",
   "execution_count": 45,
   "id": "c38c2532",
   "metadata": {},
   "outputs": [
    {
     "data": {
      "text/html": [
       "<div>\n",
       "<style scoped>\n",
       "    .dataframe tbody tr th:only-of-type {\n",
       "        vertical-align: middle;\n",
       "    }\n",
       "\n",
       "    .dataframe tbody tr th {\n",
       "        vertical-align: top;\n",
       "    }\n",
       "\n",
       "    .dataframe thead th {\n",
       "        text-align: right;\n",
       "    }\n",
       "</style>\n",
       "<table border=\"1\" class=\"dataframe\">\n",
       "  <thead>\n",
       "    <tr style=\"text-align: right;\">\n",
       "      <th></th>\n",
       "      <th>lambdas</th>\n",
       "      <th>MSE scores</th>\n",
       "    </tr>\n",
       "  </thead>\n",
       "  <tbody>\n",
       "    <tr>\n",
       "      <th>0</th>\n",
       "      <td>1.000000e-07</td>\n",
       "      <td>119906.790707</td>\n",
       "    </tr>\n",
       "    <tr>\n",
       "      <th>1</th>\n",
       "      <td>1.000000e-06</td>\n",
       "      <td>119906.790244</td>\n",
       "    </tr>\n",
       "    <tr>\n",
       "      <th>2</th>\n",
       "      <td>1.000000e-05</td>\n",
       "      <td>119906.785614</td>\n",
       "    </tr>\n",
       "    <tr>\n",
       "      <th>3</th>\n",
       "      <td>1.000000e-04</td>\n",
       "      <td>119906.739296</td>\n",
       "    </tr>\n",
       "    <tr>\n",
       "      <th>4</th>\n",
       "      <td>1.000000e-03</td>\n",
       "      <td>119906.276423</td>\n",
       "    </tr>\n",
       "    <tr>\n",
       "      <th>5</th>\n",
       "      <td>1.000000e-02</td>\n",
       "      <td>119901.656157</td>\n",
       "    </tr>\n",
       "    <tr>\n",
       "      <th>6</th>\n",
       "      <td>1.000000e+00</td>\n",
       "      <td>119509.429219</td>\n",
       "    </tr>\n",
       "    <tr>\n",
       "      <th>7</th>\n",
       "      <td>1.000000e+01</td>\n",
       "      <td>124278.714238</td>\n",
       "    </tr>\n",
       "    <tr>\n",
       "      <th>8</th>\n",
       "      <td>1.000000e+02</td>\n",
       "      <td>142515.321400</td>\n",
       "    </tr>\n",
       "  </tbody>\n",
       "</table>\n",
       "</div>"
      ],
      "text/plain": [
       "        lambdas     MSE scores\n",
       "0  1.000000e-07  119906.790707\n",
       "1  1.000000e-06  119906.790244\n",
       "2  1.000000e-05  119906.785614\n",
       "3  1.000000e-04  119906.739296\n",
       "4  1.000000e-03  119906.276423\n",
       "5  1.000000e-02  119901.656157\n",
       "6  1.000000e+00  119509.429219\n",
       "7  1.000000e+01  124278.714238\n",
       "8  1.000000e+02  142515.321400"
      ]
     },
     "execution_count": 45,
     "metadata": {},
     "output_type": "execute_result"
    }
   ],
   "source": [
    "#Lasso Top 5 w/ Tuning\n",
    "\n",
    "ct = ColumnTransformer(\n",
    "    transformers=[\n",
    "        ('Standardize', StandardScaler(), ['Hits','CRBI','CRuns','AtBat','Walks']),\n",
    "    ], remainder = \"drop\"\n",
    ").set_output(transform = \"pandas\")\n",
    "\n",
    "\n",
    "lasso_pipelineTop5 = Pipeline(\n",
    "  [(\"preprocessing\", ct),\n",
    "  (\"lasso_regression\", Lasso())]\n",
    ")\n",
    "\n",
    "results = [.0000001,.000001,.00001,.0001, .001, .01, 1.0, 10, 100]\n",
    "\n",
    "lambdas = {'lasso_regression__alpha': results}\n",
    "\n",
    "gscv = GridSearchCV(lasso_pipelineTop5, lambdas, cv = 5, scoring='neg_mean_squared_error')\n",
    "\n",
    "gscv_fitted = gscv.fit(X, y)\n",
    "mse_scores = -gscv_fitted.cv_results_['mean_test_score']\n",
    "pd.DataFrame(data={\"lambdas\": results, \"MSE scores\": mse_scores})"
   ]
  },
  {
   "cell_type": "code",
   "execution_count": 46,
   "id": "b460c9a5",
   "metadata": {},
   "outputs": [
    {
     "name": "stdout",
     "output_type": "stream",
     "text": [
      "Lasso Reg Top5 Mean Squared Error: 119509.429219181\n"
     ]
    }
   ],
   "source": [
    "#Lasso Top 5\n",
    "\n",
    "\n",
    "# optimal lambda\n",
    "lasso_pipelineTop5 = Pipeline(\n",
    "  [(\"preprocessing\", ct),\n",
    "  (\"ridge_regression\", Lasso(alpha=1))]\n",
    ")\n",
    "\n",
    "lasso_pipelineTop5.fit(X,y)\n",
    "\n",
    "scores = cross_val_score(lasso_pipelineTop5, X, y, cv=5, scoring='neg_mean_squared_error')\n",
    "\n",
    "mse_scores = -scores\n",
    "mean_mse = mse_scores.mean()\n",
    "\n",
    "print(f\"Lasso Reg Top5 Mean Squared Error: {mean_mse}\")"
   ]
  },
  {
   "cell_type": "code",
   "execution_count": 50,
   "id": "9f36af0c",
   "metadata": {},
   "outputs": [
    {
     "data": {
      "text/html": [
       "<div>\n",
       "<style scoped>\n",
       "    .dataframe tbody tr th:only-of-type {\n",
       "        vertical-align: middle;\n",
       "    }\n",
       "\n",
       "    .dataframe tbody tr th {\n",
       "        vertical-align: top;\n",
       "    }\n",
       "\n",
       "    .dataframe thead th {\n",
       "        text-align: right;\n",
       "    }\n",
       "</style>\n",
       "<table border=\"1\" class=\"dataframe\">\n",
       "  <thead>\n",
       "    <tr style=\"text-align: right;\">\n",
       "      <th></th>\n",
       "      <th>lambdas</th>\n",
       "      <th>MSE scores</th>\n",
       "    </tr>\n",
       "  </thead>\n",
       "  <tbody>\n",
       "    <tr>\n",
       "      <th>0</th>\n",
       "      <td>1</td>\n",
       "      <td>119202.542721</td>\n",
       "    </tr>\n",
       "    <tr>\n",
       "      <th>1</th>\n",
       "      <td>10</td>\n",
       "      <td>116985.613336</td>\n",
       "    </tr>\n",
       "    <tr>\n",
       "      <th>2</th>\n",
       "      <td>100</td>\n",
       "      <td>117413.597417</td>\n",
       "    </tr>\n",
       "    <tr>\n",
       "      <th>3</th>\n",
       "      <td>1000</td>\n",
       "      <td>144253.919247</td>\n",
       "    </tr>\n",
       "  </tbody>\n",
       "</table>\n",
       "</div>"
      ],
      "text/plain": [
       "   lambdas     MSE scores\n",
       "0        1  119202.542721\n",
       "1       10  116985.613336\n",
       "2      100  117413.597417\n",
       "3     1000  144253.919247"
      ]
     },
     "execution_count": 50,
     "metadata": {},
     "output_type": "execute_result"
    }
   ],
   "source": [
    "#Lasso Top 5 + Interaction w/ Tuning\n",
    "\n",
    "ct = ColumnTransformer(\n",
    "    transformers=[\n",
    "        (\"dummify\", OneHotEncoder(sparse_output = False), [\"Division\"]),\n",
    "        ('Standardize', StandardScaler(), ['Hits','CRBI','CRuns','AtBat','Walks']),\n",
    "    ], remainder = \"passthrough\"\n",
    ").set_output(transform = \"pandas\")\n",
    "\n",
    "ct_inter = ColumnTransformer(\n",
    "  [\n",
    "    (\"interaction1\", PolynomialFeatures(interaction_only = True), [\"Standardize__Hits\", \"dummify__Division_E\"]),\n",
    "    (\"interaction2\", PolynomialFeatures(interaction_only = True), [\"Standardize__CRBI\", \"dummify__Division_E\"]),\n",
    "    (\"interaction3\", PolynomialFeatures(interaction_only = True), [\"Standardize__CRuns\", \"dummify__Division_E\"]),\n",
    "    (\"interaction4\", PolynomialFeatures(interaction_only = True), [\"Standardize__AtBat\", \"dummify__Division_E\"]),\n",
    "    (\"interaction5\", PolynomialFeatures(interaction_only = True), [\"Standardize__Walks\", \"dummify__Division_E\"]),\n",
    "  ],\n",
    "  remainder = \"drop\"\n",
    ").set_output(transform = \"pandas\")\n",
    "\n",
    "\n",
    "lasso_pipelineTop5int = Pipeline([\n",
    "    ('preprocessing', ct),\n",
    "   (\"interaction\", ct_inter),\n",
    "    ('lasso_regression', Ridge())\n",
    "])\n",
    "\n",
    "results = [1,10,100,1000]\n",
    "\n",
    "lambdas = {'lasso_regression__alpha': results}\n",
    "\n",
    "gscv = GridSearchCV(lasso_pipelineTop5int, lambdas, cv = 5, scoring='neg_mean_squared_error')\n",
    "\n",
    "gscv_fitted = gscv.fit(X, y)\n",
    "mse_scores = -gscv_fitted.cv_results_['mean_test_score']\n",
    "pd.DataFrame(data={\"lambdas\": results, \"MSE scores\": mse_scores})"
   ]
  },
  {
   "cell_type": "code",
   "execution_count": 49,
   "id": "4f961402",
   "metadata": {},
   "outputs": [
    {
     "name": "stdout",
     "output_type": "stream",
     "text": [
      "Lasso Reg Top5 + Int Mean Squared Error: 116985.61333614467\n"
     ]
    }
   ],
   "source": [
    "#Lasso Top 5 w/ Interactions and best lambda\n",
    "\n",
    "lasso_pipelineTop5int = Pipeline([\n",
    "    ('preprocessing', ct),\n",
    "   (\"interaction\", ct_inter),\n",
    "    ('ridge_regression', Ridge(alpha=10))\n",
    "])\n",
    "\n",
    "lasso_pipelineTop5int.fit(X,y)\n",
    "\n",
    "scores = cross_val_score(lasso_pipelineTop5int, X, y, cv=5, scoring='neg_mean_squared_error')\n",
    "mse_scores = -scores\n",
    "mean_mse = mse_scores.mean()\n",
    "\n",
    "print(f\"Lasso Reg Top5 + Int Mean Squared Error: {mean_mse}\")"
   ]
  },
  {
   "cell_type": "markdown",
   "id": "61370d0f",
   "metadata": {},
   "source": [
    "### Elastic net"
   ]
  },
  {
   "cell_type": "code",
   "execution_count": 58,
   "id": "fa88cbd5",
   "metadata": {},
   "outputs": [
    {
     "data": {
      "text/html": [
       "<div>\n",
       "<style scoped>\n",
       "    .dataframe tbody tr th:only-of-type {\n",
       "        vertical-align: middle;\n",
       "    }\n",
       "\n",
       "    .dataframe tbody tr th {\n",
       "        vertical-align: top;\n",
       "    }\n",
       "\n",
       "    .dataframe thead th {\n",
       "        text-align: right;\n",
       "    }\n",
       "</style>\n",
       "<table border=\"1\" class=\"dataframe\">\n",
       "  <thead>\n",
       "    <tr style=\"text-align: right;\">\n",
       "      <th></th>\n",
       "      <th>alpha</th>\n",
       "      <th>l1_ratio</th>\n",
       "      <th>mean_squared_error</th>\n",
       "    </tr>\n",
       "  </thead>\n",
       "  <tbody>\n",
       "    <tr>\n",
       "      <th>10</th>\n",
       "      <td>0.12</td>\n",
       "      <td>0.01</td>\n",
       "      <td>172569.569811</td>\n",
       "    </tr>\n",
       "    <tr>\n",
       "      <th>24</th>\n",
       "      <td>0.23</td>\n",
       "      <td>0.45</td>\n",
       "      <td>172571.467365</td>\n",
       "    </tr>\n",
       "    <tr>\n",
       "      <th>36</th>\n",
       "      <td>0.34</td>\n",
       "      <td>0.67</td>\n",
       "      <td>172578.968935</td>\n",
       "    </tr>\n",
       "    <tr>\n",
       "      <th>11</th>\n",
       "      <td>0.12</td>\n",
       "      <td>0.12</td>\n",
       "      <td>172579.376881</td>\n",
       "    </tr>\n",
       "    <tr>\n",
       "      <th>57</th>\n",
       "      <td>0.56</td>\n",
       "      <td>0.78</td>\n",
       "      <td>172581.201475</td>\n",
       "    </tr>\n",
       "  </tbody>\n",
       "</table>\n",
       "</div>"
      ],
      "text/plain": [
       "   alpha l1_ratio  mean_squared_error\n",
       "10  0.12     0.01       172569.569811\n",
       "24  0.23     0.45       172571.467365\n",
       "36  0.34     0.67       172578.968935\n",
       "11  0.12     0.12       172579.376881\n",
       "57  0.56     0.78       172581.201475"
      ]
     },
     "execution_count": 58,
     "metadata": {},
     "output_type": "execute_result"
    }
   ],
   "source": [
    "# Elastic Net Only Hits and tuning\n",
    "\n",
    "ct = ColumnTransformer(\n",
    "    transformers=[\n",
    "        ('Standardize', StandardScaler(), ['Hits']),\n",
    "    ], remainder = \"drop\"\n",
    ").set_output(transform = \"pandas\")\n",
    "\n",
    "\n",
    "# Creating pipeline\n",
    "enet_pipelineHits = Pipeline(\n",
    "  [(\"preprocessing\", ct),\n",
    "   (\"enet_regression\", ElasticNet(max_iter=100000, tol=0.1))]\n",
    ")\n",
    "\n",
    "\n",
    "lambdas = {\n",
    "    'enet_regression__alpha': np.linspace(0.01, 1, 10),\n",
    "    'enet_regression__l1_ratio': np.linspace(0.01, 1, 10)\n",
    "}\n",
    "\n",
    "# GridSearchCV\n",
    "gscv = GridSearchCV(enet_pipelineHits, lambdas, cv=5, scoring='neg_mean_squared_error')\n",
    "\n",
    "gscv_fitted = gscv.fit(X,y)\n",
    "\n",
    "\n",
    "results = gscv.cv_results_\n",
    "\n",
    "\n",
    "df = pd.DataFrame({\n",
    "    'alpha': results['param_enet_regression__alpha'],\n",
    "    'l1_ratio': results['param_enet_regression__l1_ratio'],\n",
    "    'mean_squared_error': -results['mean_test_score']  # Negating because scores are negative MSE\n",
    "})\n",
    "\n",
    "results_df = df.sort_values(by='mean_squared_error')\n",
    "results_df.head(5)"
   ]
  },
  {
   "cell_type": "code",
   "execution_count": 60,
   "id": "2f073e39",
   "metadata": {},
   "outputs": [
    {
     "name": "stdout",
     "output_type": "stream",
     "text": [
      "Elastic Net Hits Mean Squared Error: 173061.63450002926\n"
     ]
    }
   ],
   "source": [
    "# Elastic Net Only Hits\n",
    "\n",
    "\n",
    "enet_pipelineHits = Pipeline(\n",
    "  [(\"preprocessing\", ct),\n",
    "   (\"enet_regression\", ElasticNet(alpha=0.12, l1_ratio=0.01, max_iter=100000, tol=0.1))]\n",
    ")\n",
    "\n",
    "enet_pipelineHits.fit(X,y)\n",
    "\n",
    "scores = cross_val_score(lasso_pipelineHits, X, y, cv=5, scoring='neg_mean_squared_error')\n",
    "\n",
    "mse_scores = -scores\n",
    "mean_mse = mse_scores.mean()\n",
    "\n",
    "print(f\"Elastic Net Hits Mean Squared Error: {mean_mse}\")\n",
    "\n"
   ]
  },
  {
   "cell_type": "code",
   "execution_count": 61,
   "id": "1bc02124",
   "metadata": {},
   "outputs": [
    {
     "data": {
      "text/html": [
       "<div>\n",
       "<style scoped>\n",
       "    .dataframe tbody tr th:only-of-type {\n",
       "        vertical-align: middle;\n",
       "    }\n",
       "\n",
       "    .dataframe tbody tr th {\n",
       "        vertical-align: top;\n",
       "    }\n",
       "\n",
       "    .dataframe thead th {\n",
       "        text-align: right;\n",
       "    }\n",
       "</style>\n",
       "<table border=\"1\" class=\"dataframe\">\n",
       "  <thead>\n",
       "    <tr style=\"text-align: right;\">\n",
       "      <th></th>\n",
       "      <th>alpha</th>\n",
       "      <th>l1_ratio</th>\n",
       "      <th>mean_squared_error</th>\n",
       "    </tr>\n",
       "  </thead>\n",
       "  <tbody>\n",
       "    <tr>\n",
       "      <th>8</th>\n",
       "      <td>0.1</td>\n",
       "      <td>0.9</td>\n",
       "      <td>119184.373130</td>\n",
       "    </tr>\n",
       "    <tr>\n",
       "      <th>7</th>\n",
       "      <td>0.1</td>\n",
       "      <td>0.8</td>\n",
       "      <td>119269.652955</td>\n",
       "    </tr>\n",
       "    <tr>\n",
       "      <th>18</th>\n",
       "      <td>0.2</td>\n",
       "      <td>0.9</td>\n",
       "      <td>119318.858784</td>\n",
       "    </tr>\n",
       "    <tr>\n",
       "      <th>99</th>\n",
       "      <td>1.0</td>\n",
       "      <td>1.0</td>\n",
       "      <td>119437.390250</td>\n",
       "    </tr>\n",
       "    <tr>\n",
       "      <th>89</th>\n",
       "      <td>0.9</td>\n",
       "      <td>1.0</td>\n",
       "      <td>119458.035010</td>\n",
       "    </tr>\n",
       "  </tbody>\n",
       "</table>\n",
       "</div>"
      ],
      "text/plain": [
       "   alpha l1_ratio  mean_squared_error\n",
       "8    0.1      0.9       119184.373130\n",
       "7    0.1      0.8       119269.652955\n",
       "18   0.2      0.9       119318.858784\n",
       "99   1.0      1.0       119437.390250\n",
       "89   0.9      1.0       119458.035010"
      ]
     },
     "execution_count": 61,
     "metadata": {},
     "output_type": "execute_result"
    }
   ],
   "source": [
    "#Elastic Net Top 5 with tuning\n",
    "\n",
    "ct = ColumnTransformer(\n",
    "    transformers=[\n",
    "        ('Standardize', StandardScaler(), ['Hits','CRBI','CRuns','AtBat','Walks']),\n",
    "    ], remainder = \"drop\"\n",
    ").set_output(transform = \"pandas\")\n",
    "\n",
    "\n",
    "enet_pipelineTop5 = Pipeline(\n",
    "  [(\"preprocessing\", ct),\n",
    "   (\"enet_regression\", ElasticNet(max_iter=10000, tol=0.1))]\n",
    ")\n",
    "\n",
    "\n",
    "lambdas = {\n",
    "    'enet_regression__alpha': np.linspace(0.1, 1, 10),\n",
    "    'enet_regression__l1_ratio': np.linspace(0.1, 1, 10)\n",
    "}\n",
    "\n",
    "# GridSearchCV\n",
    "gscv = GridSearchCV(enet_pipelineTop5, lambdas, cv=5, scoring='neg_mean_squared_error')\n",
    "\n",
    "gscv_fitted = gscv.fit(X,y)\n",
    "\n",
    "\n",
    "results = gscv.cv_results_\n",
    "\n",
    "\n",
    "df = pd.DataFrame({\n",
    "    'alpha': results['param_enet_regression__alpha'],\n",
    "    'l1_ratio': results['param_enet_regression__l1_ratio'],\n",
    "    'mean_squared_error': -results['mean_test_score']  # Negating because scores are negative MSE\n",
    "})\n",
    "\n",
    "results_df = df.sort_values(by='mean_squared_error')\n",
    "results_df.head(5)"
   ]
  },
  {
   "cell_type": "code",
   "execution_count": 62,
   "id": "8ec262a3",
   "metadata": {},
   "outputs": [
    {
     "name": "stdout",
     "output_type": "stream",
     "text": [
      "Elastic Net Top 5 Mean Squared Error: 119184.373130125\n"
     ]
    }
   ],
   "source": [
    "#Elastic Net Top 5 \n",
    "\n",
    "enet_pipelineTop5 = Pipeline(\n",
    "  [(\"preprocessing\", ct),\n",
    "   (\"enet_regression\", ElasticNet(alpha=0.1, l1_ratio=0.9, max_iter=10000, tol=0.1))]\n",
    ")\n",
    "\n",
    "enet_pipelineTop5.fit(X,y)\n",
    "\n",
    "scores = cross_val_score(enet_pipelineTop5, X, y, cv=5, scoring='neg_mean_squared_error')\n",
    "\n",
    "mse_scores = -scores\n",
    "mean_mse = mse_scores.mean()\n",
    "\n",
    "print(f\"Elastic Net Top 5 Mean Squared Error: {mean_mse}\")"
   ]
  },
  {
   "cell_type": "code",
   "execution_count": 63,
   "id": "12d8f61c",
   "metadata": {},
   "outputs": [
    {
     "data": {
      "text/html": [
       "<div>\n",
       "<style scoped>\n",
       "    .dataframe tbody tr th:only-of-type {\n",
       "        vertical-align: middle;\n",
       "    }\n",
       "\n",
       "    .dataframe tbody tr th {\n",
       "        vertical-align: top;\n",
       "    }\n",
       "\n",
       "    .dataframe thead th {\n",
       "        text-align: right;\n",
       "    }\n",
       "</style>\n",
       "<table border=\"1\" class=\"dataframe\">\n",
       "  <thead>\n",
       "    <tr style=\"text-align: right;\">\n",
       "      <th></th>\n",
       "      <th>alpha</th>\n",
       "      <th>l1_ratio</th>\n",
       "      <th>mean_squared_error</th>\n",
       "    </tr>\n",
       "  </thead>\n",
       "  <tbody>\n",
       "    <tr>\n",
       "      <th>68</th>\n",
       "      <td>0.7</td>\n",
       "      <td>0.9</td>\n",
       "      <td>116811.165058</td>\n",
       "    </tr>\n",
       "    <tr>\n",
       "      <th>58</th>\n",
       "      <td>0.6</td>\n",
       "      <td>0.9</td>\n",
       "      <td>116815.586233</td>\n",
       "    </tr>\n",
       "    <tr>\n",
       "      <th>88</th>\n",
       "      <td>0.9</td>\n",
       "      <td>0.9</td>\n",
       "      <td>116835.312344</td>\n",
       "    </tr>\n",
       "    <tr>\n",
       "      <th>78</th>\n",
       "      <td>0.8</td>\n",
       "      <td>0.9</td>\n",
       "      <td>116842.895264</td>\n",
       "    </tr>\n",
       "    <tr>\n",
       "      <th>48</th>\n",
       "      <td>0.5</td>\n",
       "      <td>0.9</td>\n",
       "      <td>116925.896813</td>\n",
       "    </tr>\n",
       "  </tbody>\n",
       "</table>\n",
       "</div>"
      ],
      "text/plain": [
       "   alpha l1_ratio  mean_squared_error\n",
       "68   0.7      0.9       116811.165058\n",
       "58   0.6      0.9       116815.586233\n",
       "88   0.9      0.9       116835.312344\n",
       "78   0.8      0.9       116842.895264\n",
       "48   0.5      0.9       116925.896813"
      ]
     },
     "execution_count": 63,
     "metadata": {},
     "output_type": "execute_result"
    }
   ],
   "source": [
    "#Elastic Net Top 5 + Interaction Tuning\n",
    "\n",
    "ct = ColumnTransformer(\n",
    "    transformers=[\n",
    "        (\"dummify\", OneHotEncoder(sparse_output = False), [\"Division\"]),\n",
    "        ('Standardize', StandardScaler(), ['Hits','CRBI','CRuns','AtBat','Walks']),\n",
    "    ], remainder = \"passthrough\"\n",
    ").set_output(transform = \"pandas\")\n",
    "\n",
    "ct_inter = ColumnTransformer(\n",
    "  [\n",
    "    (\"interaction1\", PolynomialFeatures(interaction_only = True), [\"Standardize__Hits\", \"dummify__Division_E\"]),\n",
    "    (\"interaction2\", PolynomialFeatures(interaction_only = True), [\"Standardize__CRBI\", \"dummify__Division_E\"]),\n",
    "    (\"interaction3\", PolynomialFeatures(interaction_only = True), [\"Standardize__CRuns\", \"dummify__Division_E\"]),\n",
    "    (\"interaction4\", PolynomialFeatures(interaction_only = True), [\"Standardize__AtBat\", \"dummify__Division_E\"]),\n",
    "    (\"interaction5\", PolynomialFeatures(interaction_only = True), [\"Standardize__Walks\", \"dummify__Division_E\"]),\n",
    "  ],\n",
    "  remainder = \"drop\"\n",
    ").set_output(transform = \"pandas\")\n",
    "\n",
    "\n",
    "enet_pipelineTop5int = Pipeline([\n",
    "    ('preprocessing', ct),\n",
    "   (\"interaction\", ct_inter),\n",
    "    (\"enet_regression\", ElasticNet(max_iter=10000, tol=0.1))\n",
    "])\n",
    "\n",
    "# parameter grid\n",
    "lambdas = {\n",
    "    'enet_regression__alpha': np.linspace(0.1, 1, 10),\n",
    "    'enet_regression__l1_ratio': np.linspace(0.1, 1, 10)\n",
    "}\n",
    "\n",
    "# GridSearchCV\n",
    "gscv = GridSearchCV(enet_pipelineTop5int, lambdas, cv=5, scoring='neg_mean_squared_error')\n",
    "\n",
    "gscv_fitted = gscv.fit(X,y)\n",
    "\n",
    "\n",
    "results = gscv.cv_results_\n",
    "\n",
    "\n",
    "df = pd.DataFrame({\n",
    "    'alpha': results['param_enet_regression__alpha'],\n",
    "    'l1_ratio': results['param_enet_regression__l1_ratio'],\n",
    "    'mean_squared_error': -results['mean_test_score']  # Negating because scores are negative MSE\n",
    "})\n",
    "\n",
    "results_df = df.sort_values(by='mean_squared_error')\n",
    "results_df.head(5)"
   ]
  },
  {
   "cell_type": "code",
   "execution_count": 64,
   "id": "9c3a776f",
   "metadata": {},
   "outputs": [
    {
     "name": "stdout",
     "output_type": "stream",
     "text": [
      "Elastic Net Top 5 + Int Mean Squared Error: 116811.16505782341\n"
     ]
    }
   ],
   "source": [
    "#Elastic Net Top 5 + Interaction\n",
    "# Creates pipeline\n",
    "enet_pipelineTop5int = Pipeline([\n",
    "    ('preprocessing', ct),\n",
    "   (\"interaction\", ct_inter),\n",
    "    (\"enet_regression\", ElasticNet(alpha=0.7,l1_ratio=0.9,max_iter=10000, tol=0.1))\n",
    "])\n",
    "\n",
    "enet_pipelineTop5int.fit(X,y)\n",
    "\n",
    "scores = cross_val_score(enet_pipelineTop5int, X, y, cv=5, scoring='neg_mean_squared_error')\n",
    "\n",
    "mse_scores = -scores\n",
    "mean_mse = mse_scores.mean()\n",
    "\n",
    "print(f\"Elastic Net Top 5 + Int Mean Squared Error: {mean_mse}\")"
   ]
  },
  {
   "cell_type": "markdown",
   "id": "057bd538",
   "metadata": {},
   "source": [
    "### Part 3: Discussion"
   ]
  },
  {
   "cell_type": "code",
   "execution_count": 66,
   "id": "965ca374",
   "metadata": {},
   "outputs": [
    {
     "data": {
      "text/html": [
       "<style type=\"text/css\">\n",
       "#T_87c8b th {\n",
       "  font-weight: bold;\n",
       "}\n",
       "</style>\n",
       "<table id=\"T_87c8b\">\n",
       "  <thead>\n",
       "    <tr>\n",
       "      <th class=\"blank level0\" >&nbsp;</th>\n",
       "      <th id=\"T_87c8b_level0_col0\" class=\"col_heading level0 col0\" >Linear</th>\n",
       "      <th id=\"T_87c8b_level0_col1\" class=\"col_heading level0 col1\" >Ridge</th>\n",
       "      <th id=\"T_87c8b_level0_col2\" class=\"col_heading level0 col2\" >LASSO</th>\n",
       "      <th id=\"T_87c8b_level0_col3\" class=\"col_heading level0 col3\" >Elastic Net</th>\n",
       "    </tr>\n",
       "  </thead>\n",
       "  <tbody>\n",
       "    <tr>\n",
       "      <th id=\"T_87c8b_level0_row0\" class=\"row_heading level0 row0\" >Hits Only MSE</th>\n",
       "      <td id=\"T_87c8b_row0_col0\" class=\"data row0 col0\" >173088.972864</td>\n",
       "      <td id=\"T_87c8b_row0_col1\" class=\"data row0 col1\" >172755.975523</td>\n",
       "      <td id=\"T_87c8b_row0_col2\" class=\"data row0 col2\" >173061.634500</td>\n",
       "      <td id=\"T_87c8b_row0_col3\" class=\"data row0 col3\" >173061.634500</td>\n",
       "    </tr>\n",
       "    <tr>\n",
       "      <th id=\"T_87c8b_level0_row1\" class=\"row_heading level0 row1\" >Top 5 MSE</th>\n",
       "      <td id=\"T_87c8b_row1_col0\" class=\"data row1 col0\" >119906.790759</td>\n",
       "      <td id=\"T_87c8b_row1_col1\" class=\"data row1 col1\" >119386.669648</td>\n",
       "      <td id=\"T_87c8b_row1_col2\" class=\"data row1 col2\" >119509.429219</td>\n",
       "      <td id=\"T_87c8b_row1_col3\" class=\"data row1 col3\" >119184.373130</td>\n",
       "    </tr>\n",
       "    <tr>\n",
       "      <th id=\"T_87c8b_level0_row2\" class=\"row_heading level0 row2\" >Top 5 + Int 3 MSE</th>\n",
       "      <td id=\"T_87c8b_row2_col0\" class=\"data row2 col0\" >122782.088481</td>\n",
       "      <td id=\"T_87c8b_row2_col1\" class=\"data row2 col1\" >116985.613336</td>\n",
       "      <td id=\"T_87c8b_row2_col2\" class=\"data row2 col2\" >116985.613336</td>\n",
       "      <td id=\"T_87c8b_row2_col3\" class=\"data row2 col3\" >116811.165058</td>\n",
       "    </tr>\n",
       "  </tbody>\n",
       "</table>\n"
      ],
      "text/plain": [
       "<pandas.io.formats.style.Styler at 0x1f61414d090>"
      ]
     },
     "execution_count": 66,
     "metadata": {},
     "output_type": "execute_result"
    }
   ],
   "source": [
    "# Comparing all Model MSEs\n",
    "\n",
    "mse_data = {\n",
    "    \"Linear\": [173088.9728644403, 119906.79075868055, 122782.08848146773],\n",
    "    \"Ridge\": [172755.97552343184, 119386.66964827264, 116985.61333614467],\n",
    "    \"LASSO\": [173061.63450002926, 119509.429219181, 116985.61333614467],\n",
    "    \"Elastic Net\": [173061.63450002926, 119184.373130125, 116811.16505782341]\n",
    "}\n",
    "\n",
    "df = pd.DataFrame(mse_data, index=[\"Hits Only MSE\", \"Top 5 MSE\", \"Top 5 + Int 3 MSE\"])\n",
    "\n",
    "df = df.style.set_table_styles([\n",
    "    {'selector': 'th', 'props': [('font-weight', 'bold')]},  # Bold headers\n",
    "])\n",
    "\n",
    "df"
   ]
  },
  {
   "cell_type": "markdown",
   "id": "0ed49750",
   "metadata": {},
   "source": [
    "#### A. Ridge\n",
    "\n",
    "Compare your Ridge models with your ordinary regression models. How did your coefficients compare? Why does this make sense?\n",
    "\n",
    "*Ridge regression had better regression models for each of the three methods, and almsot always had smaller coefficients. Part of this is most likely due to the fact that Ridge regression makes an effort to keep coefficients low to prevent overfitting. Variables may also be related, and Ridge regression can balance their influence. For example, CRuns, Hits, and CRBIs are all related, but linear regression may give too much importance to these variables, resulting in a worse model.*"
   ]
  },
  {
   "cell_type": "markdown",
   "id": "e3db6acb",
   "metadata": {},
   "source": [
    "#### B. LASSO\n",
    "\n",
    "Compare your LASSO model in I with your three LASSO models in II. Did you get the same results? Why does this make sense? Did you get the same MSEs? Why does this make sense?\n",
    "\n",
    "*The results changed for each of these models, which makes sense because we are using different predictors for each one. It also makes sense that the lambda would change based on these predictors. For example, the MSE was lowest with the Lasso model that included all top 5 coefficients along with interactions, at 116,985.*"
   ]
  },
  {
   "cell_type": "markdown",
   "id": "87808e90",
   "metadata": {},
   "source": [
    "#### C. Elastic Net\n",
    "\n",
    "Compare your MSEs for the Elastic Net models with those for the Ridge and LASSO models. Why does it make sense that Elastic Net always “wins”?\n",
    "\n",
    "*Because Elastic Net is a combination of the best features of ridge and lasso, it makes sense that the MSE would be the lowest for these. Its ability to balance the handling of related variables (Ridge) and the most influential variables (LASSO), makes it a good predictor.*"
   ]
  },
  {
   "cell_type": "markdown",
   "id": "772689ae",
   "metadata": {},
   "source": [
    "### Part 4: Final Model"
   ]
  },
  {
   "cell_type": "code",
   "execution_count": 67,
   "id": "6a3e36e0",
   "metadata": {},
   "outputs": [
    {
     "name": "stdout",
     "output_type": "stream",
     "text": [
      "Best Model Mean Squared Error: 116811.16505782341\n"
     ]
    }
   ],
   "source": [
    "X = hitters.drop([\"Salary\"],axis=1)\n",
    "y = hitters[\"Salary\"]\n",
    "\n",
    "#Best Model\n",
    "# pipeline\n",
    "best_pipeline = Pipeline([\n",
    "    ('preprocessing', ct),\n",
    "   (\"interaction\", ct_inter),\n",
    "    (\"enet_regression\", ElasticNet(alpha=0.7,l1_ratio=0.9,max_iter=10000, tol=0.1))\n",
    "])\n",
    "\n",
    "#Fit entire dataset\n",
    "best_pipeline.fit(X,y)\n",
    "\n",
    "scores = cross_val_score(best_pipeline, X, y, cv=5, scoring='neg_mean_squared_error')\n",
    "\n",
    "mse_scores = -scores\n",
    "mean_mse = mse_scores.mean()\n",
    "\n",
    "print(f\"Best Model Mean Squared Error: {mean_mse}\")"
   ]
  },
  {
   "cell_type": "code",
   "execution_count": 82,
   "id": "993d1ca6",
   "metadata": {},
   "outputs": [
    {
     "data": {
      "image/png": "[encoded data removed]",
      "text/plain": [
       "<Figure size 640x480 with 1 Axes>"
      ]
     },
     "metadata": {
      "image/png": {
       "height": 480,
       "width": 640
      }
     },
     "output_type": "display_data"
    },
    {
     "data": {
      "text/plain": [
       "<Figure Size: (640 x 480)>"
      ]
     },
     "execution_count": 82,
     "metadata": {},
     "output_type": "execute_result"
    }
   ],
   "source": [
    "# Coefficients & var names\n",
    "coefficients = best_pipeline.named_steps['enet_regression'].coef_\n",
    "\n",
    "var_names = ct_inter.get_feature_names_out()\n",
    "\n",
    "# DataFrame\n",
    "coef_df = pd.DataFrame({\n",
    "    'Variable': var_names,\n",
    "    'Coefficient': coefficients\n",
    "})\n",
    "\n",
    "# Filter out zero coefficients\n",
    "coef_df = coef_df[coef_df['Coefficient'] != 0]\n",
    "\n",
    "import pandas as pd\n",
    "\n",
    "\n",
    "# Replace 'interaction' with 'int', remove underscores and spaces\n",
    "coef_df['Variable'] = coef_df['Variable'].str.replace('interaction', 'int', regex=False)\n",
    "coef_df['Variable'] = coef_df['Variable'].str.replace('Standardize', 'Std', regex=False)\n",
    "coef_df['Variable'] = coef_df['Variable'].str.replace('dummify', 'Dum', regex=False)\n",
    "coef_df['Variable'] = coef_df['Variable'].str.replace('Division', 'Div', regex=False)\n",
    "coef_df['Variable'] = coef_df['Variable'].str.replace('[ _]', '', regex=True)\n",
    "\n",
    "\n",
    "(ggplot(coef_df, aes(x='Variable', y='Coefficient'))\n",
    " + geom_point()\n",
    " + theme_light()\n",
    " + geom_hline(yintercept=0, color=\"blue\", linetype=\"dashed\")\n",
    " + theme(axis_text_x=element_text(angle=45, hjust=1))\n",
    " + ggtitle('Coefficients of Ideal Model'))"
   ]
  },
  {
   "cell_type": "markdown",
   "id": "56ad68a1",
   "metadata": {},
   "source": [
    "It looks like the ideal model has mostly positive coefficients, but there are a couple that are negative. This may have been due to the way this model was set up, and how it removed some of the negative influences due to variables being related to one another. The most influential variables were things like Hits, CRBI's, CRuns, and AtBat, the last one having a negative impact. \n",
    "\n",
    "The most positively iunfluential variable was the standardized Hits, while the most negatively influential was the interaction between At Bats and Division E. It makes sense that hits is a big predictor of salary, but I still find it surprising that an increase in At Bats, and not Career at bats, can have a negative influence on salary. It might be that more at bats is not necessarily an indicator of how good a player is, rather how good their team might be. "
   ]
  },
  {
   "cell_type": "code",
   "execution_count": null,
   "id": "032c4725",
   "metadata": {},
   "outputs": [],
   "source": []
  }
 ],
 "metadata": {
  "kernelspec": {
   "display_name": "Python 3 (ipykernel)",
   "language": "python",
   "name": "python3"
  },
  "language_info": {
   "codemirror_mode": {
    "name": "ipython",
    "version": 3
   },
   "file_extension": ".py",
   "mimetype": "text/x-python",
   "name": "python",
   "nbconvert_exporter": "python",
   "pygments_lexer": "ipython3",
   "version": "3.11.4"
  }
 },
 "nbformat": 4,
 "nbformat_minor": 5
}

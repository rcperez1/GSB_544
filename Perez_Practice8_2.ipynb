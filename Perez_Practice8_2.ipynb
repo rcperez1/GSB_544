{
 "cells": [
  {
   "cell_type": "raw",
   "metadata": {
    "id": "TxbDFsJARAMD"
   },
   "source": [
    "---\n",
    "format:\n",
    "  html:\n",
    "     code fold: false\n",
    "     theme: sketchy\n",
    "     self-contained: true\n",
    "     author: \"Ryan Perez\"\n",
    "     title: \"PA 8.2\"\n",
    "---"
   ]
  },
  {
   "cell_type": "markdown",
   "metadata": {
    "id": "TxbDFsJARAMD"
   },
   "source": [
    "# Palmer Penguins Modeling\n",
    "\n",
    "Import the Palmer Penguins dataset and print out the first few rows.\n",
    "\n",
    "Suppose we want to predict `species` using the other variables in the dataset.\n",
    "\n",
    "**Dummify** all variables that require this."
   ]
  },
  {
   "cell_type": "code",
   "execution_count": 23,
   "metadata": {
    "id": "QV2uolyOQ65C"
   },
   "outputs": [
    {
     "data": {
      "text/html": [
       "<div>\n",
       "<style scoped>\n",
       "    .dataframe tbody tr th:only-of-type {\n",
       "        vertical-align: middle;\n",
       "    }\n",
       "\n",
       "    .dataframe tbody tr th {\n",
       "        vertical-align: top;\n",
       "    }\n",
       "\n",
       "    .dataframe thead th {\n",
       "        text-align: right;\n",
       "    }\n",
       "</style>\n",
       "<table border=\"1\" class=\"dataframe\">\n",
       "  <thead>\n",
       "    <tr style=\"text-align: right;\">\n",
       "      <th></th>\n",
       "      <th>species</th>\n",
       "      <th>island</th>\n",
       "      <th>bill_length_mm</th>\n",
       "      <th>bill_depth_mm</th>\n",
       "      <th>flipper_length_mm</th>\n",
       "      <th>body_mass_g</th>\n",
       "      <th>sex</th>\n",
       "      <th>year</th>\n",
       "    </tr>\n",
       "  </thead>\n",
       "  <tbody>\n",
       "    <tr>\n",
       "      <th>0</th>\n",
       "      <td>Adelie</td>\n",
       "      <td>Torgersen</td>\n",
       "      <td>39.1</td>\n",
       "      <td>18.7</td>\n",
       "      <td>181.0</td>\n",
       "      <td>3750.0</td>\n",
       "      <td>male</td>\n",
       "      <td>2007</td>\n",
       "    </tr>\n",
       "    <tr>\n",
       "      <th>1</th>\n",
       "      <td>Adelie</td>\n",
       "      <td>Torgersen</td>\n",
       "      <td>39.5</td>\n",
       "      <td>17.4</td>\n",
       "      <td>186.0</td>\n",
       "      <td>3800.0</td>\n",
       "      <td>female</td>\n",
       "      <td>2007</td>\n",
       "    </tr>\n",
       "    <tr>\n",
       "      <th>2</th>\n",
       "      <td>Adelie</td>\n",
       "      <td>Torgersen</td>\n",
       "      <td>40.3</td>\n",
       "      <td>18.0</td>\n",
       "      <td>195.0</td>\n",
       "      <td>3250.0</td>\n",
       "      <td>female</td>\n",
       "      <td>2007</td>\n",
       "    </tr>\n",
       "    <tr>\n",
       "      <th>4</th>\n",
       "      <td>Adelie</td>\n",
       "      <td>Torgersen</td>\n",
       "      <td>36.7</td>\n",
       "      <td>19.3</td>\n",
       "      <td>193.0</td>\n",
       "      <td>3450.0</td>\n",
       "      <td>female</td>\n",
       "      <td>2007</td>\n",
       "    </tr>\n",
       "    <tr>\n",
       "      <th>5</th>\n",
       "      <td>Adelie</td>\n",
       "      <td>Torgersen</td>\n",
       "      <td>39.3</td>\n",
       "      <td>20.6</td>\n",
       "      <td>190.0</td>\n",
       "      <td>3650.0</td>\n",
       "      <td>male</td>\n",
       "      <td>2007</td>\n",
       "    </tr>\n",
       "    <tr>\n",
       "      <th>...</th>\n",
       "      <td>...</td>\n",
       "      <td>...</td>\n",
       "      <td>...</td>\n",
       "      <td>...</td>\n",
       "      <td>...</td>\n",
       "      <td>...</td>\n",
       "      <td>...</td>\n",
       "      <td>...</td>\n",
       "    </tr>\n",
       "    <tr>\n",
       "      <th>339</th>\n",
       "      <td>Chinstrap</td>\n",
       "      <td>Dream</td>\n",
       "      <td>55.8</td>\n",
       "      <td>19.8</td>\n",
       "      <td>207.0</td>\n",
       "      <td>4000.0</td>\n",
       "      <td>male</td>\n",
       "      <td>2009</td>\n",
       "    </tr>\n",
       "    <tr>\n",
       "      <th>340</th>\n",
       "      <td>Chinstrap</td>\n",
       "      <td>Dream</td>\n",
       "      <td>43.5</td>\n",
       "      <td>18.1</td>\n",
       "      <td>202.0</td>\n",
       "      <td>3400.0</td>\n",
       "      <td>female</td>\n",
       "      <td>2009</td>\n",
       "    </tr>\n",
       "    <tr>\n",
       "      <th>341</th>\n",
       "      <td>Chinstrap</td>\n",
       "      <td>Dream</td>\n",
       "      <td>49.6</td>\n",
       "      <td>18.2</td>\n",
       "      <td>193.0</td>\n",
       "      <td>3775.0</td>\n",
       "      <td>male</td>\n",
       "      <td>2009</td>\n",
       "    </tr>\n",
       "    <tr>\n",
       "      <th>342</th>\n",
       "      <td>Chinstrap</td>\n",
       "      <td>Dream</td>\n",
       "      <td>50.8</td>\n",
       "      <td>19.0</td>\n",
       "      <td>210.0</td>\n",
       "      <td>4100.0</td>\n",
       "      <td>male</td>\n",
       "      <td>2009</td>\n",
       "    </tr>\n",
       "    <tr>\n",
       "      <th>343</th>\n",
       "      <td>Chinstrap</td>\n",
       "      <td>Dream</td>\n",
       "      <td>50.2</td>\n",
       "      <td>18.7</td>\n",
       "      <td>198.0</td>\n",
       "      <td>3775.0</td>\n",
       "      <td>female</td>\n",
       "      <td>2009</td>\n",
       "    </tr>\n",
       "  </tbody>\n",
       "</table>\n",
       "<p>333 rows × 8 columns</p>\n",
       "</div>"
      ],
      "text/plain": [
       "       species     island  bill_length_mm  bill_depth_mm  flipper_length_mm  \\\n",
       "0       Adelie  Torgersen            39.1           18.7              181.0   \n",
       "1       Adelie  Torgersen            39.5           17.4              186.0   \n",
       "2       Adelie  Torgersen            40.3           18.0              195.0   \n",
       "4       Adelie  Torgersen            36.7           19.3              193.0   \n",
       "5       Adelie  Torgersen            39.3           20.6              190.0   \n",
       "..         ...        ...             ...            ...                ...   \n",
       "339  Chinstrap      Dream            55.8           19.8              207.0   \n",
       "340  Chinstrap      Dream            43.5           18.1              202.0   \n",
       "341  Chinstrap      Dream            49.6           18.2              193.0   \n",
       "342  Chinstrap      Dream            50.8           19.0              210.0   \n",
       "343  Chinstrap      Dream            50.2           18.7              198.0   \n",
       "\n",
       "     body_mass_g     sex  year  \n",
       "0         3750.0    male  2007  \n",
       "1         3800.0  female  2007  \n",
       "2         3250.0  female  2007  \n",
       "4         3450.0  female  2007  \n",
       "5         3650.0    male  2007  \n",
       "..           ...     ...   ...  \n",
       "339       4000.0    male  2009  \n",
       "340       3400.0  female  2009  \n",
       "341       3775.0    male  2009  \n",
       "342       4100.0    male  2009  \n",
       "343       3775.0  female  2009  \n",
       "\n",
       "[333 rows x 8 columns]"
      ]
     },
     "execution_count": 23,
     "metadata": {},
     "output_type": "execute_result"
    }
   ],
   "source": [
    "from sklearn.pipeline import Pipeline\n",
    "from sklearn.linear_model import LinearRegression\n",
    "from sklearn.neighbors import KNeighborsClassifier\n",
    "from sklearn.tree import DecisionTreeClassifier\n",
    "from sklearn.linear_model import LogisticRegression\n",
    "from sklearn.neighbors import KNeighborsRegressor\n",
    "from sklearn.tree import DecisionTreeRegressor\n",
    "from sklearn.model_selection import GridSearchCV\n",
    "from sklearn.compose import make_column_selector, ColumnTransformer\n",
    "from sklearn.preprocessing import StandardScaler, OneHotEncoder, PolynomialFeatures\n",
    "from sklearn.metrics import r2_score\n",
    "from sklearn.metrics import mean_squared_error\n",
    "from sklearn.metrics import confusion_matrix\n",
    "from sklearn.metrics import precision_score\n",
    "from sklearn.metrics import accuracy_score\n",
    "from sklearn.metrics import recall_score\n",
    "from sklearn.metrics import classification_report\n",
    "from sklearn.metrics import roc_auc_score\n",
    "from sklearn.model_selection import train_test_split\n",
    "from sklearn.metrics import roc_curve, auc\n",
    "from sklearn.preprocessing import label_binarize\n",
    "import pandas as pd\n",
    "import numpy as np\n",
    "from palmerpenguins import load_penguins\n",
    "from plotnine import *\n",
    "\n",
    "penguins = load_penguins()\n",
    "penguins = penguins.dropna()\n",
    "penguins"
   ]
  },
  {
   "cell_type": "markdown",
   "metadata": {
    "id": "HecNBVAnRHod"
   },
   "source": [
    "Let's use the other variables to predict `species`. Prepare your data and fit the following models on the entire dataset:\n",
    "\n",
    "* Two kNN models (for different values of K)\n",
    "* Two decision tree models (for different complexities of trees)\n",
    "\n",
    "Compute the following, for each of your models, on test data. Keep in mind that you may need to stratify your creation of the training and test data.\n",
    "\n",
    "* Confusion matrix\n",
    "* Overall Accuracy\n",
    "* Precision, Recall, AUC, and F1-score for each species\n",
    "\n",
    "Create one ROC plot for the species of your choice."
   ]
  },
  {
   "cell_type": "markdown",
   "metadata": {},
   "source": [
    "### Preprocessing for KNN"
   ]
  },
  {
   "cell_type": "code",
   "execution_count": 24,
   "metadata": {
    "id": "U1onRGJQR8T_"
   },
   "outputs": [],
   "source": [
    "#training/test data set up\n",
    "\n",
    "X = penguins.drop([\"species\"], axis = 1)\n",
    "y = penguins[\"species\"]\n",
    "\n",
    "X_train, X_test, y_train, y_test = train_test_split(X, y, test_size=0.25)"
   ]
  },
  {
   "cell_type": "code",
   "execution_count": 25,
   "metadata": {},
   "outputs": [],
   "source": [
    "#CT and preprocessing\n",
    "\n",
    "ct = ColumnTransformer(\n",
    "  [\n",
    "    (\"dummify\",\n",
    "    OneHotEncoder(sparse_output = False, handle_unknown='ignore'),\n",
    "    make_column_selector(dtype_include=object)),\n",
    "    (\"standardize\",\n",
    "    StandardScaler(),\n",
    "    make_column_selector(dtype_include=np.number))\n",
    "  ],\n",
    "  remainder = \"passthrough\"\n",
    ")"
   ]
  },
  {
   "cell_type": "code",
   "execution_count": 26,
   "metadata": {},
   "outputs": [],
   "source": [
    "#first knn pipeline\n",
    "knn_pipeline_1 = Pipeline(\n",
    "  [(\"preprocessing\", ct),\n",
    "  (\"knn\", KNeighborsClassifier(n_neighbors=5))]\n",
    ")"
   ]
  },
  {
   "cell_type": "code",
   "execution_count": 27,
   "metadata": {},
   "outputs": [],
   "source": [
    "#Fitting and predictions\n",
    "knn_pipeline_fitted_1 = knn_pipeline_1.fit(X_train, y_train)\n",
    "y_preds_1 = knn_pipeline_fitted_1.predict(X_test)"
   ]
  },
  {
   "cell_type": "code",
   "execution_count": 28,
   "metadata": {},
   "outputs": [],
   "source": [
    "#second knn pipeline\n",
    "knn_pipeline_2 = Pipeline(\n",
    "  [(\"preprocessing\", ct),\n",
    "  (\"knn\", KNeighborsClassifier(n_neighbors=15))]\n",
    ")"
   ]
  },
  {
   "cell_type": "code",
   "execution_count": 29,
   "metadata": {},
   "outputs": [],
   "source": [
    "#Fitting and predictions\n",
    "knn_pipeline_fitted_2 = knn_pipeline_2.fit(X_train, y_train)\n",
    "y_preds_2 = knn_pipeline_fitted_2.predict(X_test)"
   ]
  },
  {
   "cell_type": "markdown",
   "metadata": {},
   "source": [
    "### KNN Confusion Matrix"
   ]
  },
  {
   "cell_type": "code",
   "execution_count": 30,
   "metadata": {},
   "outputs": [],
   "source": [
    "#Confusion matrices\n",
    "knn_con_matrix_1 = confusion_matrix(y_test, y_preds_1)\n",
    "knn_con_matrix_2 = confusion_matrix(y_test, y_preds_2)"
   ]
  },
  {
   "cell_type": "code",
   "execution_count": 31,
   "metadata": {},
   "outputs": [
    {
     "name": "stdout",
     "output_type": "stream",
     "text": [
      "[[31  0  0]\n",
      " [ 0 19  0]\n",
      " [ 0  0 34]] \n",
      " \n",
      " [[31  0  0]\n",
      " [ 0 19  0]\n",
      " [ 0  0 34]]\n"
     ]
    }
   ],
   "source": [
    "print(knn_con_matrix_1, \"\\n\", \"\\n\", knn_con_matrix_2)"
   ]
  },
  {
   "cell_type": "markdown",
   "metadata": {},
   "source": [
    "### KNN Accuracy score"
   ]
  },
  {
   "cell_type": "code",
   "execution_count": 32,
   "metadata": {},
   "outputs": [],
   "source": [
    "knn_accuracy_1 = accuracy_score(y_test, y_preds_1)\n",
    "knn_accuracy_2 = accuracy_score(y_test, y_preds_2)"
   ]
  },
  {
   "cell_type": "code",
   "execution_count": 33,
   "metadata": {},
   "outputs": [
    {
     "name": "stdout",
     "output_type": "stream",
     "text": [
      "1.0 \n",
      " \n",
      " 1.0\n"
     ]
    }
   ],
   "source": [
    "print(round(knn_accuracy_1, 4), \"\\n\", \"\\n\", round(knn_accuracy_2, 4))\n",
    "\n",
    "#Not sure why I am getting exactly 1, should not be this value i don't think"
   ]
  },
  {
   "cell_type": "markdown",
   "metadata": {},
   "source": [
    "### Precision Score KNN"
   ]
  },
  {
   "cell_type": "code",
   "execution_count": 35,
   "metadata": {},
   "outputs": [
    {
     "name": "stdout",
     "output_type": "stream",
     "text": [
      "[1. 1. 1.] \n",
      " \n",
      " [1. 1. 1.]\n"
     ]
    }
   ],
   "source": [
    "knn_precision_score_1 = precision_score(y_test, y_preds_1, average = None)\n",
    "knn_precision_score_2 = precision_score(y_test, y_preds_2, average = None)\n",
    "\n",
    "print(knn_precision_score_1, \"\\n\", \"\\n\", knn_precision_score_2) #Same goes for this"
   ]
  },
  {
   "cell_type": "markdown",
   "metadata": {},
   "source": [
    "### Recall scores KNN"
   ]
  },
  {
   "cell_type": "code",
   "execution_count": 36,
   "metadata": {},
   "outputs": [
    {
     "name": "stdout",
     "output_type": "stream",
     "text": [
      "[1. 1. 1.] \n",
      " \n",
      " [1. 1. 1.]\n"
     ]
    }
   ],
   "source": [
    "#Recall score KNN\n",
    "knn_recall_score_1 = recall_score(y_test, y_preds_1, average = None)\n",
    "knn_recall_score_2 = recall_score(y_test, y_preds_2, average = None)\n",
    "\n",
    "print(knn_recall_score_1, \"\\n\", \"\\n\", knn_recall_score_2)"
   ]
  },
  {
   "cell_type": "markdown",
   "metadata": {},
   "source": [
    "### F1 Scores KNN"
   ]
  },
  {
   "cell_type": "code",
   "execution_count": 38,
   "metadata": {},
   "outputs": [
    {
     "data": {
      "text/plain": [
       "'              precision    recall  f1-score   support\\n\\n      Adelie       1.00      1.00      1.00        31\\n   Chinstrap       1.00      1.00      1.00        19\\n      Gentoo       1.00      1.00      1.00        34\\n\\n    accuracy                           1.00        84\\n   macro avg       1.00      1.00      1.00        84\\nweighted avg       1.00      1.00      1.00        84\\n'"
      ]
     },
     "execution_count": 38,
     "metadata": {},
     "output_type": "execute_result"
    }
   ],
   "source": [
    "#F1 Score knn_1\n",
    "\n",
    "report_knn_1 = classification_report(y_test, y_preds_1)\n",
    "report_knn_1"
   ]
  },
  {
   "cell_type": "code",
   "execution_count": 39,
   "metadata": {},
   "outputs": [
    {
     "data": {
      "text/plain": [
       "'              precision    recall  f1-score   support\\n\\n      Adelie       1.00      1.00      1.00        31\\n   Chinstrap       1.00      1.00      1.00        19\\n      Gentoo       1.00      1.00      1.00        34\\n\\n    accuracy                           1.00        84\\n   macro avg       1.00      1.00      1.00        84\\nweighted avg       1.00      1.00      1.00        84\\n'"
      ]
     },
     "execution_count": 39,
     "metadata": {},
     "output_type": "execute_result"
    }
   ],
   "source": [
    "#F1 Score knn_2\n",
    "\n",
    "report_knn_2 = classification_report(y_test, y_preds_2)\n",
    "report_knn_2"
   ]
  },
  {
   "cell_type": "markdown",
   "metadata": {},
   "source": [
    "### ROC/AUC KNN"
   ]
  },
  {
   "cell_type": "code",
   "execution_count": 41,
   "metadata": {},
   "outputs": [
    {
     "data": {
      "text/plain": [
       "1.0"
      ]
     },
     "execution_count": 41,
     "metadata": {},
     "output_type": "execute_result"
    }
   ],
   "source": [
    "#ROC/AUC 1\n",
    "\n",
    "prob_knn_1 = knn_pipeline_fitted_1.predict_proba(X_test)\n",
    "roc_auc_knn_1 = roc_auc_score(y_test, prob_knn_1, multi_class='ovr')\n",
    "roc_auc_knn_1"
   ]
  },
  {
   "cell_type": "code",
   "execution_count": 42,
   "metadata": {},
   "outputs": [
    {
     "data": {
      "text/plain": [
       "1.0"
      ]
     },
     "execution_count": 42,
     "metadata": {},
     "output_type": "execute_result"
    }
   ],
   "source": [
    "#ROC/AUC 2\n",
    "prob_knn_2 = knn_pipeline_fitted_2.predict_proba(X_test)\n",
    "roc_auc_knn_2 = roc_auc_score(y_test, prob_knn_2, multi_class='ovr')\n",
    "roc_auc_knn_2"
   ]
  },
  {
   "cell_type": "markdown",
   "metadata": {},
   "source": [
    "## Decision Tree Models"
   ]
  },
  {
   "cell_type": "code",
   "execution_count": 43,
   "metadata": {},
   "outputs": [],
   "source": [
    "decision_tree_pipeline_1 = Pipeline(\n",
    "  [(\"preprocessing\", ct),\n",
    "  (\"decision_tree_regression\", DecisionTreeClassifier(min_samples_leaf = 4))]\n",
    ")\n",
    "\n",
    "decision_tree_pipeline_fitted_1 = decision_tree_pipeline_1.fit(X_train, y_train)\n",
    "y_preds_3 = decision_tree_pipeline_fitted_1.predict(X_test)"
   ]
  },
  {
   "cell_type": "code",
   "execution_count": 44,
   "metadata": {},
   "outputs": [],
   "source": [
    "decision_tree_pipeline_2 = Pipeline(\n",
    "  [(\"preprocessing\", ct),\n",
    "  (\"decision_tree_regression\", DecisionTreeClassifier(min_samples_leaf = 8))]\n",
    ")\n",
    "\n",
    "decision_tree_pipeline_fitted_2 = decision_tree_pipeline_2.fit(X_train, y_train)\n",
    "y_preds_4 = decision_tree_pipeline_fitted_2.predict(X_test)"
   ]
  },
  {
   "cell_type": "markdown",
   "metadata": {},
   "source": [
    "### Confusion Matrix DT"
   ]
  },
  {
   "cell_type": "code",
   "execution_count": 45,
   "metadata": {},
   "outputs": [
    {
     "name": "stdout",
     "output_type": "stream",
     "text": [
      "[[30  1  0]\n",
      " [ 2 17  0]\n",
      " [ 1  0 33]] \n",
      " \n",
      " \n",
      " [[29  2  0]\n",
      " [ 0 17  2]\n",
      " [ 0  1 33]]\n"
     ]
    }
   ],
   "source": [
    "decision_tree_confusion_matrix_1 = confusion_matrix(y_test, y_preds_3)\n",
    "decision_tree_confusion_matrix_2 = confusion_matrix(y_test, y_preds_4)\n",
    "\n",
    "print(decision_tree_confusion_matrix_1, \"\\n\", \"\\n\", \"\\n\", decision_tree_confusion_matrix_2)"
   ]
  },
  {
   "cell_type": "markdown",
   "metadata": {},
   "source": [
    "### Accuracy Score DT"
   ]
  },
  {
   "cell_type": "code",
   "execution_count": 46,
   "metadata": {},
   "outputs": [
    {
     "name": "stdout",
     "output_type": "stream",
     "text": [
      "0.9523809523809523 \n",
      " \n",
      " 0.9404761904761905\n"
     ]
    }
   ],
   "source": [
    "decision_tree_accuracy_score_1 = accuracy_score(y_test, y_preds_3)\n",
    "decision_tree_accuracy_score_2 = accuracy_score(y_test, y_preds_4)\n",
    "\n",
    "print(decision_tree_accuracy_score_1, \"\\n\", \"\\n\", decision_tree_accuracy_score_2)"
   ]
  },
  {
   "cell_type": "markdown",
   "metadata": {},
   "source": [
    "### Precision Score DT"
   ]
  },
  {
   "cell_type": "code",
   "execution_count": 47,
   "metadata": {},
   "outputs": [
    {
     "name": "stdout",
     "output_type": "stream",
     "text": [
      "[0.90909091 0.94444444 1.        ] \n",
      " \n",
      " \n",
      " [1.         0.85       0.94285714]\n"
     ]
    }
   ],
   "source": [
    "decision_tree_precision_score_1 = precision_score(y_test, y_preds_3, average = None)\n",
    "decision_tree_precision_score_2 = precision_score(y_test, y_preds_4, average = None)\n",
    "\n",
    "print(decision_tree_precision_score_1, \"\\n\", \"\\n\", \"\\n\", decision_tree_precision_score_2)"
   ]
  },
  {
   "cell_type": "markdown",
   "metadata": {},
   "source": [
    "### Recall DT"
   ]
  },
  {
   "cell_type": "code",
   "execution_count": 48,
   "metadata": {},
   "outputs": [
    {
     "name": "stdout",
     "output_type": "stream",
     "text": [
      "[0.96774194 0.89473684 0.97058824] \n",
      " \n",
      " [0.93548387 0.89473684 0.97058824]\n"
     ]
    }
   ],
   "source": [
    "decision_tree_recall_score_1 = recall_score(y_test, y_preds_3, average = None)\n",
    "decision_tree_recall_score_2 = recall_score(y_test, y_preds_4, average = None)\n",
    "\n",
    "print(decision_tree_recall_score_1, \"\\n\", \"\\n\", decision_tree_recall_score_2)"
   ]
  },
  {
   "cell_type": "markdown",
   "metadata": {},
   "source": [
    "### F1 Score DT"
   ]
  },
  {
   "cell_type": "code",
   "execution_count": 49,
   "metadata": {},
   "outputs": [
    {
     "data": {
      "text/plain": [
       "'              precision    recall  f1-score   support\\n\\n      Adelie       0.91      0.97      0.94        31\\n   Chinstrap       0.94      0.89      0.92        19\\n      Gentoo       1.00      0.97      0.99        34\\n\\n    accuracy                           0.95        84\\n   macro avg       0.95      0.94      0.95        84\\nweighted avg       0.95      0.95      0.95        84\\n'"
      ]
     },
     "execution_count": 49,
     "metadata": {},
     "output_type": "execute_result"
    }
   ],
   "source": [
    "report_decision_tree_1 = classification_report(y_test, y_preds_3)\n",
    "report_decision_tree_1"
   ]
  },
  {
   "cell_type": "code",
   "execution_count": 50,
   "metadata": {},
   "outputs": [
    {
     "data": {
      "text/plain": [
       "'              precision    recall  f1-score   support\\n\\n      Adelie       1.00      0.94      0.97        31\\n   Chinstrap       0.85      0.89      0.87        19\\n      Gentoo       0.94      0.97      0.96        34\\n\\n    accuracy                           0.94        84\\n   macro avg       0.93      0.93      0.93        84\\nweighted avg       0.94      0.94      0.94        84\\n'"
      ]
     },
     "execution_count": 50,
     "metadata": {},
     "output_type": "execute_result"
    }
   ],
   "source": [
    "report_decision_tree_2 = classification_report(y_test, y_preds_4)\n",
    "report_decision_tree_2"
   ]
  },
  {
   "cell_type": "markdown",
   "metadata": {},
   "source": [
    "### ROC/AUC Decision Tree"
   ]
  },
  {
   "cell_type": "code",
   "execution_count": 51,
   "metadata": {},
   "outputs": [
    {
     "data": {
      "text/plain": [
       "0.9980099114982163"
      ]
     },
     "execution_count": 51,
     "metadata": {},
     "output_type": "execute_result"
    }
   ],
   "source": [
    "prob_decision_tree_1 = decision_tree_pipeline_fitted_1.predict_proba(X_test)\n",
    "roc_auc_decision_tree_1 = roc_auc_score(y_test, prob_decision_tree_1, multi_class='ovr')\n",
    "roc_auc_decision_tree_1"
   ]
  },
  {
   "cell_type": "code",
   "execution_count": 52,
   "metadata": {},
   "outputs": [
    {
     "data": {
      "text/plain": [
       "0.9880010538791105"
      ]
     },
     "execution_count": 52,
     "metadata": {},
     "output_type": "execute_result"
    }
   ],
   "source": [
    "prob_decision_tree_2 = decision_tree_pipeline_fitted_2.predict_proba(X_test)\n",
    "roc_auc_decision_tree_2 = roc_auc_score(y_test, prob_decision_tree_2, multi_class='ovr')\n",
    "roc_auc_decision_tree_2"
   ]
  },
  {
   "cell_type": "markdown",
   "metadata": {},
   "source": [
    "## KNN ROC Curve"
   ]
  },
  {
   "cell_type": "code",
   "execution_count": 54,
   "metadata": {},
   "outputs": [
    {
     "data": {
      "image/png": "[encoded data removed]",
      "text/plain": [
       "<Figure size 640x480 with 1 Axes>"
      ]
     },
     "metadata": {
      "image/png": {
       "height": 480,
       "width": 640
      },
      "needs_background": "light"
     },
     "output_type": "display_data"
    },
    {
     "name": "stdout",
     "output_type": "stream",
     "text": [
      "\n"
     ]
    }
   ],
   "source": [
    "# Convert species labels to numerical\n",
    "y_bin = label_binarize(y_test, classes=knn_pipeline_fitted_1.classes_)\n",
    "\n",
    "# Predicted probabilities for each class\n",
    "y_probs_1 = knn_pipeline_fitted_1.predict_proba(X_test)\n",
    "\n",
    "# Calculate the ROC curve for each class\n",
    "fpr, tpr, _ = roc_curve(y_bin.ravel(), y_probs_1.ravel())\n",
    "\n",
    "# Create a DataFrame for the ROC curve\n",
    "roc_df = pd.DataFrame({'FPR': fpr, 'TPR': tpr})\n",
    "\n",
    "# Plot the ROC curve using plotnine\n",
    "roc_plot = (\n",
    "    ggplot(roc_df, aes(x='FPR', y='TPR')) +\n",
    "    geom_line(size=1) +\n",
    "    geom_abline(slope=1, intercept=0, linetype='dashed', color='red') +\n",
    "    labs(title='ROC Curve', x='False Positive Rate', y='True Positive Rate') +\n",
    "    theme_minimal()\n",
    ")\n",
    "\n",
    "print(roc_plot)"
   ]
  }
 ],
 "metadata": {
  "colab": {
   "provenance": []
  },
  "kernelspec": {
   "display_name": "Python 3 (ipykernel)",
   "language": "python",
   "name": "python3"
  },
  "language_info": {
   "codemirror_mode": {
    "name": "ipython",
    "version": 3
   },
   "file_extension": ".py",
   "mimetype": "text/x-python",
   "name": "python",
   "nbconvert_exporter": "python",
   "pygments_lexer": "ipython3",
   "version": "3.11.4"
  }
 },
 "nbformat": 4,
 "nbformat_minor": 1
}

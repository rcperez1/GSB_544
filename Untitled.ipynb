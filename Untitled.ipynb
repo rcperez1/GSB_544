{
 "cells": [
  {
   "cell_type": "raw",
   "id": "40b0a6fa",
   "metadata": {},
   "source": [
    "---\n",
    "format:\n",
    "  html:\n",
    "     code fold: false\n",
    "     theme: sketchy\n",
    "     self-contained: true\n",
    "---"
   ]
  },
  {
   "cell_type": "markdown",
   "id": "49ece09f",
   "metadata": {},
   "source": [
    "# Lab 3 - Ryan Perez"
   ]
  },
  {
   "cell_type": "code",
   "execution_count": 1,
   "id": "783a57c2",
   "metadata": {},
   "outputs": [],
   "source": [
    "import pandas as pd\n",
    "xmas = pd.read_csv(\"https://www.dropbox.com/scl/fi/qxaslqqp5p08i1650rpc4/xmas.csv?rlkey=erdxi7jbh7pqf9fh4lv4cayp5&dl=1\")"
   ]
  },
  {
   "cell_type": "markdown",
   "id": "1c87305b",
   "metadata": {},
   "source": [
    "## Function 1: pluralize_gift()\n",
    "\n",
    "Using the skeleton of the pluralize_gift() function, complete the code so that the function takes a gift and returns the appropriate plural."
   ]
  },
  {
   "cell_type": "code",
   "execution_count": 4,
   "id": "81a2dbc2",
   "metadata": {},
   "outputs": [],
   "source": [
    "def pluralize_gift(gift):\n",
    "    \"\"\"\n",
    "    Returns plural of a noun\n",
    "\n",
    "    Parameters\n",
    "    ----------\n",
    "    gift: str\n",
    "        A noun\n",
    "\n",
    "    Returns\n",
    "    -------\n",
    "    str\n",
    "        Plural version\n",
    "    \"\"\"\n",
    "\n",
    "    if gift.find(\"oo\") != -1:\n",
    "        gift = gift.replace(\"oo\", \"ee\")\n",
    "    elif gift[-1] == \"y\":\n",
    "        gift = gift.replace(\"y\", \"ies\")\n",
    "    elif gift.endswith('s') or gift.endswith('sh') or gift.endswith('ch') or gift.endswith('x') or gift.endswith('z'):\n",
    "        gift += 'es'\n",
    "    else:\n",
    "        gift += \"s\"\n",
    "\n",
    "    return gift"
   ]
  },
  {
   "cell_type": "code",
   "execution_count": 8,
   "id": "d648900f",
   "metadata": {},
   "outputs": [
    {
     "data": {
      "text/plain": [
       "'geese'"
      ]
     },
     "execution_count": 8,
     "metadata": {},
     "output_type": "execute_result"
    }
   ],
   "source": [
    "# Should work\n",
    "pluralize_gift(\"goose\")"
   ]
  },
  {
   "cell_type": "code",
   "execution_count": 7,
   "id": "be65494e",
   "metadata": {},
   "outputs": [
    {
     "name": "stdout",
     "output_type": "stream",
     "text": [
      "0     partridges\n",
      "1          doves\n",
      "2           hens\n",
      "3          birds\n",
      "4          rings\n",
      "5          geese\n",
      "6          swans\n",
      "7          maids\n",
      "8         ladies\n",
      "9          lords\n",
      "10        pipers\n",
      "11      drummers\n",
      "Name: Gift.Item, dtype: object\n"
     ]
    }
   ],
   "source": [
    "# Apply pluralize_gift function to 'Gift.Item' column\n",
    "xmas['Gift.Item'] = xmas['Gift.Item'].apply(pluralize_gift)\n",
    "\n",
    "# Display the updated DataFrame\n",
    "print(xmas['Gift.Item'])"
   ]
  },
  {
   "cell_type": "markdown",
   "id": "e9edd435",
   "metadata": {},
   "source": [
    "## Function 2: make_phrase()\n",
    "Write a function called make_phrase() that takes as input the necessary information, and returns a phrase."
   ]
  },
  {
   "cell_type": "code",
   "execution_count": null,
   "id": "e9b4c20d",
   "metadata": {},
   "outputs": [],
   "source": [
    "def make_phrase(num, num_word, item, verb, adjective, location):\n",
    "  \"\"\"\n",
    "  <documentation here>\n",
    "  \"\"\"\n",
    "  \n",
    "## Step 1: Replace NAs with blank strings\n",
    "verb = verb if verb else \"\"\n",
    "adjective = adjective if adjective else \"\"\n",
    "location = location if location else \"\"\n",
    "  \n",
    "## Step 2: If the day number is larger than 1, the gift items need pluralized!\n",
    "if not (num == 1):\n",
    "    item = pluralize_gift(item)\n",
    "  ### Hint: call the function you created above!\n",
    "  \n",
    "  \n",
    "  ## Step 3: Figure out if a gift item starts with a vowel\n",
    "  \n",
    "  \n",
    "  ## Step 4: For the first day, if the gift item starts with a vowel, replace the day with \"an\" and if the gift item does not start with a vowel, replace the day with \"a\" (e.g. a partridge in a pear tree). If it is not the first day, use just the number word (e.g. ten lords a leap)\n",
    "  \n",
    "  ## Step 5: Put all of the pieces together into one string and return!"
   ]
  }
 ],
 "metadata": {
  "kernelspec": {
   "display_name": "Python 3 (ipykernel)",
   "language": "python",
   "name": "python3"
  },
  "language_info": {
   "codemirror_mode": {
    "name": "ipython",
    "version": 3
   },
   "file_extension": ".py",
   "mimetype": "text/x-python",
   "name": "python",
   "nbconvert_exporter": "python",
   "pygments_lexer": "ipython3",
   "version": "3.11.4"
  }
 },
 "nbformat": 4,
 "nbformat_minor": 5
}

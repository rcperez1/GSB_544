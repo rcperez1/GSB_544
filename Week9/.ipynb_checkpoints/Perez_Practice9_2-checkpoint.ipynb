{
 "cells": [
  {
   "cell_type": "raw",
   "metadata": {},
   "source": [
    "---\n",
    "format:\n",
    "  html:\n",
    "     code fold: false\n",
    "     theme: sketchy\n",
    "     self-contained: true\n",
    "     author: \"Ryan Perez\"\n",
    "     title: \"GSB 544: Activity 9.2\"\n",
    "---"
   ]
  },
  {
   "cell_type": "markdown",
   "metadata": {
    "id": "P_N9XP2-04VH"
   },
   "source": [
    "\n",
    "Our dataset consists of clinical data from patients who entered the hospital complaining of chest pain (\"angina\") during exercise.  The information collected includes:\n",
    "\n",
    "* `age` : Age of the patient\n",
    "\n",
    "* `sex` : Sex of the patient\n",
    "\n",
    "* `cp` : Chest Pain type\n",
    "\n",
    "    + Value 0: asymptomatic\n",
    "    + Value 1: typical angina\n",
    "    + Value 2: atypical angina\n",
    "    + Value 3: non-anginal pain\n",
    "   \n",
    "    \n",
    "* `trtbps` : resting blood pressure (in mm Hg)\n",
    "\n",
    "* `chol` : cholesterol in mg/dl fetched via BMI sensor\n",
    "\n",
    "* `restecg` : resting electrocardiographic results\n",
    "\n",
    "    + Value 0: normal\n",
    "    + Value 1: having ST-T wave abnormality (T wave inversions and/or ST elevation or depression of > 0.05 mV)\n",
    "    + Value 2: showing probable or definite left ventricular hypertrophy by Estes' criteria\n",
    "\n",
    "* `thalach` : maximum heart rate achieved during exercise\n",
    "\n",
    "* `output` : the doctor's diagnosis of whether the patient is at risk for a heart attack\n",
    "    + 0 = not at risk of heart attack\n",
    "    + 1 = at risk of heart attack"
   ]
  },
  {
   "cell_type": "code",
   "execution_count": 27,
   "metadata": {
    "id": "tZmjmGGQ1CaN"
   },
   "outputs": [],
   "source": [
    "## library imports here\n",
    "import pandas as pd\n",
    "from sklearn.pipeline import Pipeline\n",
    "from sklearn.neighbors import KNeighborsClassifier\n",
    "from sklearn.tree import DecisionTreeClassifier\n",
    "from sklearn.linear_model import LogisticRegression\n",
    "import pandas as pd\n",
    "from sklearn.preprocessing import FunctionTransformer\n",
    "import numpy as np\n",
    "from plotnine import *\n",
    "from sklearn.model_selection import train_test_split, cross_val_score, GridSearchCV\n",
    "from sklearn.pipeline import Pipeline\n",
    "from sklearn.compose import ColumnTransformer, make_column_selector\n",
    "from sklearn.preprocessing import StandardScaler, OneHotEncoder, PolynomialFeatures, MinMaxScaler\n",
    "from sklearn.linear_model import LinearRegression, Ridge, Lasso, ElasticNet\n",
    "from sklearn.metrics import mean_squared_error, r2_score\n",
    "from sklearn.compose import make_column_transformer\n",
    "from sklearn.compose import make_column_selector\n",
    "from sklearn.discriminant_analysis import LinearDiscriminantAnalysis\n",
    "from math import *"
   ]
  },
  {
   "cell_type": "code",
   "execution_count": 3,
   "metadata": {
    "id": "ghXbwhv600-S"
   },
   "outputs": [],
   "source": [
    "ha = pd.read_csv(\"https://www.dropbox.com/s/aohbr6yb9ifmc8w/heart_attack.csv?dl=1\")\n",
    "\n",
    "ha['restecg'] = ha['restecg'].astype('category')\n",
    "ha['output'] = ha['output'].astype('category')\n",
    "ha['sex'] = ha['sex'].astype('category')\n",
    "\n",
    "X = ha.drop(\"cp\", axis=1)\n",
    "y = ha[\"cp\"]\n",
    "\n",
    "#Not deliberate issue\n",
    "#When using multiclass, important that function recognizes y-variable as something categorical\n",
    "#Look up QDA!"
   ]
  },
  {
   "cell_type": "code",
   "execution_count": 4,
   "metadata": {
    "id": "WJsMBCZh1glq"
   },
   "outputs": [],
   "source": [
    "ct = ColumnTransformer(\n",
    "    [\n",
    "        (\"dummify\", OneHotEncoder(sparse_output = False),\n",
    "         make_column_selector(dtype_include=object)),\n",
    "        (\"standardize\", StandardScaler(),\n",
    "         make_column_selector(dtype_include=np.number))\n",
    "    ],\n",
    "    remainder = \"passthrough\"\n",
    ").set_output(transform = \"pandas\")"
   ]
  },
  {
   "cell_type": "markdown",
   "metadata": {
    "id": "OCX180v41bhe"
   },
   "source": [
    "## Q1: Natural Multiclass Models\n",
    "\n",
    "Fit a multiclass KNN, Decision Tree, and LDA for the heart disease data; this time predicting the type of chest pain (categories 0 - 3) that a patient experiences.  For the decision tree, plot the fitted tree, and interpret the first couple splits.\n"
   ]
  },
  {
   "cell_type": "markdown",
   "metadata": {},
   "source": [
    "### KNN"
   ]
  },
  {
   "cell_type": "code",
   "execution_count": 8,
   "metadata": {
    "scrolled": true
   },
   "outputs": [
    {
     "data": {
      "text/html": [
       "<div>\n",
       "<style scoped>\n",
       "    .dataframe tbody tr th:only-of-type {\n",
       "        vertical-align: middle;\n",
       "    }\n",
       "\n",
       "    .dataframe tbody tr th {\n",
       "        vertical-align: top;\n",
       "    }\n",
       "\n",
       "    .dataframe thead th {\n",
       "        text-align: right;\n",
       "    }\n",
       "</style>\n",
       "<table border=\"1\" class=\"dataframe\">\n",
       "  <thead>\n",
       "    <tr style=\"text-align: right;\">\n",
       "      <th></th>\n",
       "      <th>knn-values</th>\n",
       "      <th>Accuracy</th>\n",
       "    </tr>\n",
       "  </thead>\n",
       "  <tbody>\n",
       "    <tr>\n",
       "      <th>0</th>\n",
       "      <td>10</td>\n",
       "      <td>0.520337</td>\n",
       "    </tr>\n",
       "    <tr>\n",
       "      <th>1</th>\n",
       "      <td>15</td>\n",
       "      <td>0.527609</td>\n",
       "    </tr>\n",
       "    <tr>\n",
       "      <th>2</th>\n",
       "      <td>25</td>\n",
       "      <td>0.516566</td>\n",
       "    </tr>\n",
       "    <tr>\n",
       "      <th>3</th>\n",
       "      <td>50</td>\n",
       "      <td>0.516633</td>\n",
       "    </tr>\n",
       "    <tr>\n",
       "      <th>4</th>\n",
       "      <td>100</td>\n",
       "      <td>0.501886</td>\n",
       "    </tr>\n",
       "  </tbody>\n",
       "</table>\n",
       "</div>"
      ],
      "text/plain": [
       "  knn-values  Accuracy\n",
       "0         10  0.520337\n",
       "1         15  0.527609\n",
       "2         25  0.516566\n",
       "3         50  0.516633\n",
       "4        100  0.501886"
      ]
     },
     "execution_count": 8,
     "metadata": {},
     "output_type": "execute_result"
    }
   ],
   "source": [
    "#KNN tuning\n",
    "knn_pipeline = Pipeline(\n",
    "  [(\"preprocessing\", ct),\n",
    "  (\"knn\", KNeighborsClassifier())]\n",
    ")\n",
    "\n",
    "param_knn = {\n",
    "    'knn__n_neighbors': (10, 15, 25, 50, 100)\n",
    "}\n",
    "\n",
    "gscv = GridSearchCV(knn_pipeline, param_knn, cv = 5, scoring = 'accuracy')\n",
    "\n",
    "gscv_fitted = gscv.fit(X, y)\n",
    "\n",
    "param_knn_values = gscv_fitted.cv_results_['param_knn__n_neighbors']\n",
    "knn_accuracy = gscv_fitted.cv_results_['mean_test_score']\n",
    "                                     \n",
    "pd.DataFrame(data={\"knn-values\": param_knn_values, \"Accuracy\": knn_accuracy})\n",
    "\n",
    "\n",
    "#Calculate accuracy for KNN\n",
    "\n",
    "#GSCV, fitted, calculate accuracy"
   ]
  },
  {
   "cell_type": "code",
   "execution_count": 7,
   "metadata": {},
   "outputs": [
    {
     "name": "stdout",
     "output_type": "stream",
     "text": [
      "KNN Accuracy for optimal model: 0.5276094276094276\n"
     ]
    }
   ],
   "source": [
    "#Optimal KNN (k = 15)\n",
    "\n",
    "knn_pipeline15 = Pipeline(\n",
    "    [(\"preprocessing\", ct),\n",
    "     (\"knn\", KNeighborsClassifier(n_neighbors=15))]\n",
    ")\n",
    "\n",
    "#Fit on data\n",
    "knn_model = knn_pipeline15.fit(X,y)\n",
    "\n",
    "#Get AUC ROC score\n",
    "scoresknn = cross_val_score(knn_model, X, y, cv=5, scoring='accuracy')\n",
    "\n",
    "knn_acc = scoresknn.mean()\n",
    "\n",
    "print(f\"KNN Accuracy for optimal model: {knn_acc}\")"
   ]
  },
  {
   "cell_type": "markdown",
   "metadata": {},
   "source": [
    "### Decision Tree"
   ]
  },
  {
   "cell_type": "code",
   "execution_count": 13,
   "metadata": {},
   "outputs": [
    {
     "data": {
      "text/html": [
       "<div>\n",
       "<style scoped>\n",
       "    .dataframe tbody tr th:only-of-type {\n",
       "        vertical-align: middle;\n",
       "    }\n",
       "\n",
       "    .dataframe tbody tr th {\n",
       "        vertical-align: top;\n",
       "    }\n",
       "\n",
       "    .dataframe thead th {\n",
       "        text-align: right;\n",
       "    }\n",
       "</style>\n",
       "<table border=\"1\" class=\"dataframe\">\n",
       "  <thead>\n",
       "    <tr style=\"text-align: right;\">\n",
       "      <th></th>\n",
       "      <th>min_samples_leaf</th>\n",
       "      <th>Acc scores</th>\n",
       "    </tr>\n",
       "  </thead>\n",
       "  <tbody>\n",
       "    <tr>\n",
       "      <th>0</th>\n",
       "      <td>20</td>\n",
       "      <td>0.505657</td>\n",
       "    </tr>\n",
       "    <tr>\n",
       "      <th>1</th>\n",
       "      <td>25</td>\n",
       "      <td>0.534747</td>\n",
       "    </tr>\n",
       "    <tr>\n",
       "      <th>2</th>\n",
       "      <td>35</td>\n",
       "      <td>0.552997</td>\n",
       "    </tr>\n",
       "    <tr>\n",
       "      <th>3</th>\n",
       "      <td>50</td>\n",
       "      <td>0.549293</td>\n",
       "    </tr>\n",
       "    <tr>\n",
       "      <th>4</th>\n",
       "      <td>60</td>\n",
       "      <td>0.575219</td>\n",
       "    </tr>\n",
       "    <tr>\n",
       "      <th>5</th>\n",
       "      <td>80</td>\n",
       "      <td>0.586330</td>\n",
       "    </tr>\n",
       "    <tr>\n",
       "      <th>6</th>\n",
       "      <td>90</td>\n",
       "      <td>0.575219</td>\n",
       "    </tr>\n",
       "  </tbody>\n",
       "</table>\n",
       "</div>"
      ],
      "text/plain": [
       "   min_samples_leaf  Acc scores\n",
       "0                20    0.505657\n",
       "1                25    0.534747\n",
       "2                35    0.552997\n",
       "3                50    0.549293\n",
       "4                60    0.575219\n",
       "5                80    0.586330\n",
       "6                90    0.575219"
      ]
     },
     "execution_count": 13,
     "metadata": {},
     "output_type": "execute_result"
    }
   ],
   "source": [
    "#Decision Tree Tuning\n",
    "\n",
    "dt_pipeline = Pipeline([\n",
    "    (\"preprocessing\", ct),\n",
    "    (\"decision_tree\", DecisionTreeClassifier())\n",
    "])\n",
    "\n",
    "leaf_values = [20,25, 35, 50, 60, 80, 90]\n",
    "\n",
    "leaf_param = {\n",
    "    'decision_tree__min_samples_leaf': leaf_values\n",
    "}\n",
    "\n",
    "gscv = GridSearchCV(dt_pipeline, leaf_param, cv=5, scoring='accuracy')\n",
    "\n",
    "gscv.fit(X, y)\n",
    "\n",
    "scores_dt = gscv.cv_results_['mean_test_score']\n",
    "\n",
    "results_df = pd.DataFrame(data={\"min_samples_leaf\": leaf_values, \"Acc scores\": scores_dt})\n",
    "\n",
    "results_df"
   ]
  },
  {
   "cell_type": "code",
   "execution_count": 16,
   "metadata": {},
   "outputs": [
    {
     "name": "stdout",
     "output_type": "stream",
     "text": [
      "Optimal Decision Tree Accuracy: 0.5863299663299664\n"
     ]
    }
   ],
   "source": [
    "#optimal Decision Tree Model (minsamplesleaf = 80)\n",
    "\n",
    "dt_pipeline80 = Pipeline([\n",
    "    (\"preprocessing\", ct),\n",
    "    (\"decision_tree\", DecisionTreeClassifier(min_samples_leaf=80))\n",
    "])\n",
    "\n",
    "#Fit on data\n",
    "dt_model = dt_pipeline80.fit(X,y)\n",
    "\n",
    "#Get AUC ROC score\n",
    "scoresdt = cross_val_score(dt_model, X, y, cv=5, scoring='accuracy')\n",
    "\n",
    "dt_acc = scoresdt.mean()\n",
    "\n",
    "print(f\"Optimal Decision Tree Accuracy: {dt_acc}\")\n"
   ]
  },
  {
   "cell_type": "code",
   "execution_count": 25,
   "metadata": {},
   "outputs": [
    {
     "data": {
      "image/png": "[encoded data removed]",
      "text/plain": [
       "<Figure size 1000x500 with 1 Axes>"
      ]
     },
     "metadata": {},
     "output_type": "display_data"
    }
   ],
   "source": [
    "from sklearn.tree import plot_tree\n",
    "import matplotlib.pyplot as plt\n",
    "\n",
    "decision_tree_model = dt_pipeline80.named_steps['decision_tree']\n",
    "feature_names_list = list(ha.columns)\n",
    "\n",
    "# Assuming dt_model is your fitted decision tree model\n",
    "plt.figure(figsize=(10, 5))\n",
    "plot_tree(decision_tree_model, filled=True, feature_names=feature_names_list, class_names=None, rounded=True, max_depth=None)\n",
    "plt.show()"
   ]
  },
  {
   "cell_type": "markdown",
   "metadata": {},
   "source": [
    "### LDA"
   ]
  },
  {
   "cell_type": "code",
   "execution_count": 29,
   "metadata": {},
   "outputs": [
    {
     "name": "stdout",
     "output_type": "stream",
     "text": [
      "LDA Accuracy: 0.5424242424242424\n"
     ]
    }
   ],
   "source": [
    "#LDA\n",
    "\n",
    "lda_pipeline = Pipeline([\n",
    "    (\"preprocessing\", ct),\n",
    "    (\"LDA\", LinearDiscriminantAnalysis())\n",
    "])\n",
    "\n",
    "#Fit on data\n",
    "lda_model = lda_pipeline.fit(X,y)\n",
    "\n",
    "#Get AUC ROC score\n",
    "scores_lda = cross_val_score(lda_model, X, y, cv=5, scoring='accuracy')\n",
    "\n",
    "lda_acc = scores_lda.mean()\n",
    "\n",
    "print(f\"LDA Accuracy: {lda_acc}\") "
   ]
  },
  {
   "cell_type": "markdown",
   "metadata": {
    "id": "gYqpOtbO1EAJ"
   },
   "source": [
    "## Q2:  OvR\n",
    "\n",
    "Create a new column in the `ha` dataset called `cp_is_3`, which is equal to `1` if the `cp` variable is equal to `3` and `0` otherwise.\n",
    "\n",
    "Then, fit a Logistic Regression to predict this new target, and report the **F1 Score**.\n",
    "\n",
    "Repeat for the other three `cp` categories.  Which category was the OvR approach best at distinguishing?"
   ]
  },
  {
   "cell_type": "code",
   "execution_count": 39,
   "metadata": {
    "id": "90PfjsjW1T2Y",
    "scrolled": true
   },
   "outputs": [],
   "source": [
    "#Logistic regression doesn't have a built in way to deal with multi-class\n",
    "#One versus Rest (OvR)\n",
    "\n",
    "#Creating cp_is_3 column\n",
    "ha['cp_is_3'] = (ha['cp'] == 3).astype(int)\n",
    "ha['cp_is_3'] = ha['cp_is_3'].astype('category')\n",
    "\n",
    "\n",
    "#Creating rest of columns\n",
    "ha['cp_is_2'] = (ha['cp'] == 2).astype(int)\n",
    "ha['cp_is_2'] = ha['cp_is_2'].astype('category')\n",
    "ha['cp_is_1'] = (ha['cp'] == 1).astype(int)\n",
    "ha['cp_is_1'] = ha['cp_is_1'].astype('category')\n",
    "ha['cp_is_0'] = (ha['cp'] == 0).astype(int)\n",
    "ha['cp_is_0'] = ha['cp_is_0'].astype('category')\n",
    "\n",
    "#F1 Scores:\n",
    "# Good at finding 0's since that means no chest pain, vs trying to diagnose different types of chest pain\n",
    "# 1 and 3 have bad F1 scores, meaning it's hard to diagnose\n",
    "# F1 score of 0 means you always predict something OTHER than thing\n",
    "#DON'T USE CP AS A PREDICTOR"
   ]
  },
  {
   "cell_type": "markdown",
   "metadata": {},
   "source": [
    "### Log Regression Model: cp_is_3"
   ]
  },
  {
   "cell_type": "code",
   "execution_count": 38,
   "metadata": {},
   "outputs": [
    {
     "name": "stdout",
     "output_type": "stream",
     "text": [
      "cp = 3 Logistic Regression F1 Score: 0.4799787225048261\n"
     ]
    }
   ],
   "source": [
    "columns_to_drop = ['cp', 'cp_is_3', 'cp_is_2', 'cp_is_1', 'cp_is_0']\n",
    "\n",
    "X = ha.drop(columns=columns_to_drop)\n",
    "y = ha[\"cp_is_3\"]\n",
    "\n",
    "# Logistic regression pipeline\n",
    "log_pipeline = Pipeline([\n",
    "    (\"preprocessing\", ct),\n",
    "    (\"logistic_regression\", LogisticRegression())\n",
    "])\n",
    "\n",
    "# Fit on training data\n",
    "log_model = log_pipeline.fit(X, y)\n",
    "\n",
    "# Get F1 score\n",
    "scoreslog = cross_val_score(log_model, X, y, cv=5, scoring='f1_macro')\n",
    "\n",
    "log_f1 = scoreslog.mean()\n",
    "\n",
    "print(f\"cp = 3 Logistic Regression F1 Score: {log_f1}\")\n"
   ]
  },
  {
   "cell_type": "markdown",
   "metadata": {},
   "source": [
    "### Log Regression Model: cp_is_2"
   ]
  },
  {
   "cell_type": "code",
   "execution_count": 41,
   "metadata": {},
   "outputs": [
    {
     "name": "stdout",
     "output_type": "stream",
     "text": [
      "cp = 2 Logistic Regression F1 Score: 0.4349072441505822\n"
     ]
    }
   ],
   "source": [
    "columns_to_drop = ['cp', 'cp_is_3', 'cp_is_2', 'cp_is_1', 'cp_is_0']\n",
    "\n",
    "X = ha.drop(columns=columns_to_drop)\n",
    "y = ha[\"cp_is_2\"]\n",
    "\n",
    "# Logistic regression pipeline\n",
    "log_pipeline = Pipeline([\n",
    "    (\"preprocessing\", ct),\n",
    "    (\"logistic_regression\", LogisticRegression())\n",
    "])\n",
    "\n",
    "# Fit on training data\n",
    "log_model = log_pipeline.fit(X, y)\n",
    "\n",
    "# Get F1 score\n",
    "scoreslog = cross_val_score(log_model, X, y, cv=5, scoring='f1_macro')\n",
    "\n",
    "log_f1 = scoreslog.mean()\n",
    "\n",
    "print(f\"cp = 2 Logistic Regression F1 Score: {log_f1}\")\n"
   ]
  },
  {
   "cell_type": "markdown",
   "metadata": {},
   "source": [
    "### Log Regression Model: cp_is_1"
   ]
  },
  {
   "cell_type": "code",
   "execution_count": 44,
   "metadata": {},
   "outputs": [
    {
     "name": "stdout",
     "output_type": "stream",
     "text": [
      "cp = 1 Logistic Regression F1 Score: 0.45397619761976193\n"
     ]
    }
   ],
   "source": [
    "columns_to_drop = ['cp', 'cp_is_3', 'cp_is_2', 'cp_is_1', 'cp_is_0']\n",
    "\n",
    "X = ha.drop(columns=columns_to_drop)\n",
    "y = ha[\"cp_is_1\"]\n",
    "\n",
    "# Logistic regression pipeline\n",
    "log_pipeline = Pipeline([\n",
    "    (\"preprocessing\", ct),\n",
    "    (\"logistic_regression\", LogisticRegression())\n",
    "])\n",
    "\n",
    "# Fit on training data\n",
    "log_model = log_pipeline.fit(X, y)\n",
    "\n",
    "# Get F1 score\n",
    "scoreslog = cross_val_score(log_model, X, y, cv=5, scoring='f1_macro')\n",
    "\n",
    "log_f1 = scoreslog.mean()\n",
    "\n",
    "print(f\"cp = 1 Logistic Regression F1 Score: {log_f1}\")\n"
   ]
  },
  {
   "cell_type": "markdown",
   "metadata": {},
   "source": [
    "### Log Regression Model: cp_is_0"
   ]
  },
  {
   "cell_type": "code",
   "execution_count": 45,
   "metadata": {},
   "outputs": [
    {
     "name": "stdout",
     "output_type": "stream",
     "text": [
      "cp = 0 Logistic Regression F1 Score: 0.6615773215824161\n"
     ]
    }
   ],
   "source": [
    "columns_to_drop = ['cp', 'cp_is_3', 'cp_is_2', 'cp_is_1', 'cp_is_0']\n",
    "\n",
    "X = ha.drop(columns=columns_to_drop)\n",
    "y = ha[\"cp_is_0\"]\n",
    "\n",
    "# Logistic regression pipeline\n",
    "log_pipeline = Pipeline([\n",
    "    (\"preprocessing\", ct),\n",
    "    (\"logistic_regression\", LogisticRegression())\n",
    "])\n",
    "\n",
    "# Fit on training data\n",
    "log_model = log_pipeline.fit(X, y)\n",
    "\n",
    "# Get F1 score\n",
    "scoreslog = cross_val_score(log_model, X, y, cv=5, scoring='f1_macro')\n",
    "\n",
    "log_f1 = scoreslog.mean()\n",
    "\n",
    "print(f\"cp = 0 Logistic Regression F1 Score: {log_f1}\")\n"
   ]
  },
  {
   "cell_type": "markdown",
   "metadata": {},
   "source": [
    "#### Results\n",
    "The OvR approach was best at distinguising the CP = 0 category, which makes the most sense. CP = 0 represents no chest pain, while the other three are subsets of having chest pain. Being able to tell if someone has no chest pain vs anything else is the easiest distinction to make out of the four possible OvR categories."
   ]
  },
  {
   "cell_type": "markdown",
   "metadata": {
    "id": "lXO3jbTU1ULR"
   },
   "source": [
    "## Q3: OvO\n",
    "\n",
    "Reduce your dataset to only the `0` and `1` types of chest pain.\n",
    "\n",
    "Then, fit a Logistic Regression to predict between the two groups, and report the **ROC-AUC**.  \n",
    "\n",
    "Repeat comparing category `0` to `2` and `3`.  Which pair was the OvO approach best at distinguishing?"
   ]
  },
  {
   "cell_type": "code",
   "execution_count": 48,
   "metadata": {},
   "outputs": [
    {
     "name": "stdout",
     "output_type": "stream",
     "text": [
      "Zero One ROC AUC: 1.0\n"
     ]
    }
   ],
   "source": [
    "# 0 and 1\n",
    "zero_one = ha[ha['cp'].isin([0,1])]\n",
    "\n",
    "X = zero_one.drop(columns='cp')\n",
    "y = zero_one[\"cp\"]\n",
    "\n",
    "log_pipeline = Pipeline([\n",
    "    (\"preprocessing\", ct),\n",
    "    (\"logistic_regression\", LogisticRegression())\n",
    "])\n",
    "\n",
    "# Fit on training data\n",
    "zero_one_log_model = log_pipeline.fit(X, y)\n",
    "\n",
    "\n",
    "#Get AUC ROC score\n",
    "scoreslog_zero_one = cross_val_score(zero_one_log_model, X, y, cv=5, scoring='roc_auc')\n",
    "\n",
    "zero_one_roc = scoreslog_zero_one.mean()\n",
    "\n",
    "print(f\"Zero One ROC AUC: {zero_one_roc}\")"
   ]
  },
  {
   "cell_type": "code",
   "execution_count": 51,
   "metadata": {},
   "outputs": [
    {
     "name": "stdout",
     "output_type": "stream",
     "text": [
      "Zero One ROC AUC: 1.0\n"
     ]
    }
   ],
   "source": [
    "# 0 and 2\n",
    "zero_two = ha[ha['cp'].isin([0,2])]\n",
    "\n",
    "X = zero_two.drop(columns='cp')\n",
    "y = zero_two[\"cp\"]\n",
    "\n",
    "log_pipeline = Pipeline([\n",
    "    (\"preprocessing\", ct),\n",
    "    (\"logistic_regression\", LogisticRegression())\n",
    "])\n",
    "\n",
    "# Fit on training data\n",
    "zero_two_log_model = log_pipeline.fit(X, y)\n",
    "\n",
    "\n",
    "#Get AUC ROC score\n",
    "scoreslog_zero_two = cross_val_score(zero_two_log_model, X, y, cv=5, scoring='roc_auc')\n",
    "\n",
    "zero_two_roc = scoreslog_zero_two.mean()\n",
    "\n",
    "print(f\"Zero One ROC AUC: {zero_two_roc}\")"
   ]
  },
  {
   "cell_type": "code",
   "execution_count": 53,
   "metadata": {},
   "outputs": [
    {
     "name": "stdout",
     "output_type": "stream",
     "text": [
      "Zero Three ROC AUC: 1.0\n"
     ]
    }
   ],
   "source": [
    "# 0 and 3\n",
    "zero_three = ha[ha['cp'].isin([0, 3])]\n",
    "\n",
    "X = zero_three.drop(columns='cp')\n",
    "y = zero_three[\"cp\"]\n",
    "\n",
    "log_pipeline = Pipeline([\n",
    "    (\"preprocessing\", ct),\n",
    "    (\"logistic_regression\", LogisticRegression())\n",
    "])\n",
    "\n",
    "# Fit on training data\n",
    "zero_three_log_model = log_pipeline.fit(X, y)\n",
    "\n",
    "# Get AUC ROC score\n",
    "scoreslog_zero_three = cross_val_score(zero_three_log_model, X, y, cv=5, scoring='roc_auc')\n",
    "\n",
    "zero_three_roc = scoreslog_zero_three.mean()\n",
    "\n",
    "print(f\"Zero Three ROC AUC: {zero_three_roc}\")"
   ]
  },
  {
   "cell_type": "code",
   "execution_count": 54,
   "metadata": {},
   "outputs": [
    {
     "name": "stdout",
     "output_type": "stream",
     "text": [
      "One Two ROC AUC: 1.0\n"
     ]
    }
   ],
   "source": [
    "# 1 and 2\n",
    "one_two = ha[ha['cp'].isin([1, 2])]\n",
    "\n",
    "X = one_two.drop(columns='cp')\n",
    "y = one_two[\"cp\"]\n",
    "\n",
    "log_pipeline = Pipeline([\n",
    "    (\"preprocessing\", ct),\n",
    "    (\"logistic_regression\", LogisticRegression())\n",
    "])\n",
    "\n",
    "# Fit on training data\n",
    "one_two_log_model = log_pipeline.fit(X, y)\n",
    "\n",
    "# Get AUC ROC score\n",
    "scoreslog_one_two = cross_val_score(one_two_log_model, X, y, cv=5, scoring='roc_auc')\n",
    "\n",
    "one_two_roc = scoreslog_one_two.mean()\n",
    "\n",
    "print(f\"One Two ROC AUC: {one_two_roc}\")"
   ]
  },
  {
   "cell_type": "code",
   "execution_count": 55,
   "metadata": {},
   "outputs": [
    {
     "name": "stdout",
     "output_type": "stream",
     "text": [
      "One Three ROC AUC: 1.0\n"
     ]
    }
   ],
   "source": [
    "# 1 and 3\n",
    "one_three = ha[ha['cp'].isin([1, 3])]\n",
    "\n",
    "X = one_three.drop(columns='cp')\n",
    "y = one_three[\"cp\"]\n",
    "\n",
    "log_pipeline = Pipeline([\n",
    "    (\"preprocessing\", ct),\n",
    "    (\"logistic_regression\", LogisticRegression())\n",
    "])\n",
    "\n",
    "# Fit on training data\n",
    "one_three_log_model = log_pipeline.fit(X, y)\n",
    "\n",
    "# Get AUC ROC score\n",
    "scoreslog_one_three = cross_val_score(one_three_log_model, X, y, cv=5, scoring='roc_auc')\n",
    "\n",
    "one_three_roc = scoreslog_one_three.mean()\n",
    "\n",
    "print(f\"One Three ROC AUC: {one_three_roc}\")"
   ]
  },
  {
   "cell_type": "code",
   "execution_count": null,
   "metadata": {},
   "outputs": [],
   "source": [
    "# 2 and 3\n",
    "two_three = ha[ha['cp'].isin([2, 3])]\n",
    "\n",
    "X = two_three.drop(columns='cp')\n",
    "y = two_three[\"cp\"]\n",
    "\n",
    "log_pipeline = Pipeline([\n",
    "    (\"preprocessing\", ct),\n",
    "    (\"logistic_regression\", LogisticRegression())\n",
    "])\n",
    "\n",
    "# Fit on training data\n",
    "two_three_log_model = log_pipeline.fit(X, y)\n",
    "\n",
    "# Get AUC ROC score\n",
    "scoreslog_two_three = cross_val_score(two_three_log_model, X, y, cv=5, scoring='roc_auc')\n",
    "\n",
    "two_three_roc = scoreslog_two_three.mean()\n",
    "\n",
    "print(f\"Two Three ROC AUC: {two_three_roc}\")"
   ]
  },
  {
   "cell_type": "markdown",
   "metadata": {
    "id": "THrjnRoV1siy"
   },
   "source": [
    "#### Results: It seems that all of my ROC AUC's we're 1, which is too good to be true....\n",
    "\n",
    "Once I fit my six models, what does it look like to \"combine them\"\n",
    "\n",
    "I could combine the probabilities of all six models and find the class that had the highest cumulative probability."
   ]
  },
  {
   "cell_type": "markdown",
   "metadata": {},
   "source": [
    "#### Why ROC AUC for this instead of F1?\n",
    "- Why ROC AUC is better for calculating the accuracy of a one or the other class. ROC AUC doesnt care what is 1 and 0\n",
    "- ROC AUC is natural OvO\n",
    "- F1: precision and recall are only focused on how accurate you are at finding the 1's\n",
    "- F1 is a natural OvR method\n",
    "\n",
    "#### How would you use results of all the OvO pairs to arrive at one final class prediction\n",
    "- F1 how good am I at target class?"
   ]
  }
 ],
 "metadata": {
  "colab": {
   "provenance": []
  },
  "kernelspec": {
   "display_name": "Python 3 (ipykernel)",
   "language": "python",
   "name": "python3"
  },
  "language_info": {
   "codemirror_mode": {
    "name": "ipython",
    "version": 3
   },
   "file_extension": ".py",
   "mimetype": "text/x-python",
   "name": "python",
   "nbconvert_exporter": "python",
   "pygments_lexer": "ipython3",
   "version": "3.11.4"
  }
 },
 "nbformat": 4,
 "nbformat_minor": 1
}
